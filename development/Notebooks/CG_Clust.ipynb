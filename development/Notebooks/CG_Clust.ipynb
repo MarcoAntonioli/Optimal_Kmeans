{
 "cells": [
  {
   "cell_type": "code",
   "execution_count": 1,
   "metadata": {},
   "outputs": [
    {
     "name": "stdout",
     "output_type": "stream",
     "text": [
      "Set parameter Username\n",
      "Academic license - for non-commercial use only - expires 2023-10-04\n"
     ]
    },
    {
     "data": {
      "text/plain": [
       "Gurobi.Env(Ptr{Nothing} @0x000000012eedbe00, false, 0)"
      ]
     },
     "metadata": {},
     "output_type": "display_data"
    }
   ],
   "source": [
    "using Plots, Random, DataFrames, LinearAlgebra, Printf, JLD, Distributions, Combinatorics, MLJ, Graphs, Gurobi, JuMP, Statistics, Clustering, Distances\n",
    "const GRB_ENV = Gurobi.Env()"
   ]
  },
  {
   "attachments": {},
   "cell_type": "markdown",
   "metadata": {},
   "source": [
    "### Generating points"
   ]
  },
  {
   "cell_type": "code",
   "execution_count": 2,
   "metadata": {},
   "outputs": [
    {
     "data": {
      "text/plain": [
       "generate_points (generic function with 2 methods)"
      ]
     },
     "metadata": {},
     "output_type": "display_data"
    }
   ],
   "source": [
    "function generate_points(K::Int64, N::Int64, D::Int64 , std::Float64, seed = 1234)\n",
    "    \"\"\"\n",
    "    Generates points for the k-means problem\n",
    "\n",
    "        input: \n",
    "            - I: number of clusters \n",
    "            - N: number of points\n",
    "            - D: dimnesionality of points\n",
    "\n",
    "        output:\n",
    "            - points: NxD matrix of standardized points\n",
    "    \"\"\"\n",
    "    Random.seed!(seed);\n",
    "    X, yy = MLJ.make_blobs(N, D; centers=K, cluster_std=std)\n",
    "    points = Matrix(DataFrame(X));\n",
    "    min = minimum(points, dims=1);\n",
    "    max = maximum(points, dims=1);\n",
    "    points = (points .- min) ./ (max .- min);\n",
    "    return points\n",
    "end"
   ]
  },
  {
   "cell_type": "code",
   "execution_count": 3,
   "metadata": {},
   "outputs": [],
   "source": [
    "struct Cluster \n",
    "    assignments::Vector{Int64}\n",
    "    centroid::Vector{Float64}\n",
    "    cost::Float64\n",
    "end"
   ]
  },
  {
   "cell_type": "code",
   "execution_count": 4,
   "metadata": {},
   "outputs": [
    {
     "data": {
      "text/plain": [
       "compute_cluster_centroid_cost (generic function with 1 method)"
      ]
     },
     "metadata": {},
     "output_type": "display_data"
    }
   ],
   "source": [
    "function compute_cluster_centroid_cost(assignments::Vector{Int64})\n",
    "    \"\"\"\n",
    "    Computes the centroid and cost of a cluster given the indeces of the points in the cluster\n",
    "\n",
    "        input: \n",
    "            - assignments: Nx1 matrix of cluster assignments\n",
    "\n",
    "        output:\n",
    "            - cost of the clustering assignment\n",
    "            - Vector representing the centroid of the cluster\n",
    "    \"\"\"\n",
    "\n",
    "    cluster_points = points[assignments,:]\n",
    "\n",
    "    centroid = mean(cluster_points, dims=1)\n",
    "\n",
    "    return sum( euclidean(cluster_points[i,:],centroid) for i in 1:size(cluster_points,1)), vec(centroid)\n",
    "end"
   ]
  },
  {
   "cell_type": "code",
   "execution_count": 5,
   "metadata": {},
   "outputs": [
    {
     "data": {
      "text/plain": [
       "compute_reduced_cost (generic function with 1 method)"
      ]
     },
     "metadata": {},
     "output_type": "display_data"
    }
   ],
   "source": [
    "function compute_reduced_cost(data::Cluster, p::Vector{Float64}, q::Float64)\n",
    "\"\"\"\n",
    "Computes the reduced cost given a dual solution of the master problem\n",
    "\n",
    "    input: \n",
    "        - Cluster: cluster to compute the reduced cost for\n",
    "        - p: dual solution of the master problem\n",
    "        - q: dual solution of the master problem\n",
    "\n",
    "    output: reduced cost of the cluster\n",
    "\"\"\"\n",
    "\n",
    "    return data.cost - sum(p[i] for i in data.assignments) - q\n",
    "end"
   ]
  },
  {
   "cell_type": "code",
   "execution_count": 6,
   "metadata": {},
   "outputs": [
    {
     "ename": "DomainError",
     "evalue": "DomainError with 2.0:\nCan only convert categorical elements to integers. ",
     "output_type": "error",
     "traceback": [
      "DomainError with 2.0:\n",
      "Can only convert categorical elements to integers. \n",
      "\n",
      "Stacktrace:\n",
      " [1] int(x::Float64)\n",
      "   @ CategoricalDistributions ~/.julia/packages/CategoricalDistributions/eSHdo/src/utilities.jl:93\n",
      " [2] int(::MLJModelInterface.FullInterface, x::Float64; args::Base.Pairs{Symbol, Union{}, Tuple{}, NamedTuple{(), Tuple{}}})\n",
      "   @ MLJBase ~/.julia/packages/MLJBase/U4Dis/src/interface/data_utils.jl:14\n",
      " [3] int(::MLJModelInterface.FullInterface, x::Float64)\n",
      "   @ MLJBase ~/.julia/packages/MLJBase/U4Dis/src/interface/data_utils.jl:14\n",
      " [4] int(x::Float64; type::Nothing)\n",
      "   @ MLJModelInterface /Users/iai/builds/e7x1Q22r/0/InterpretableAI/SystemImage/SysImgBuilder/.julia/packages/MLJModelInterface/wwFA9/src/data_utils.jl:100\n",
      " [5] int(x::Float64)\n",
      "   @ MLJModelInterface /Users/iai/builds/e7x1Q22r/0/InterpretableAI/SystemImage/SysImgBuilder/.julia/packages/MLJModelInterface/wwFA9/src/data_utils.jl:99\n",
      " [6] top-level scope\n",
      "   @ ~/Desktop/15.083/Optimal_Kmeans/development/Notebooks/CG_Clust.ipynb:1"
     ]
    }
   ],
   "source": [
    "int(round(5/2))"
   ]
  },
  {
   "attachments": {},
   "cell_type": "markdown",
   "metadata": {},
   "source": [
    "### Subproblem"
   ]
  },
  {
   "cell_type": "code",
   "execution_count": 7,
   "metadata": {},
   "outputs": [
    {
     "data": {
      "text/plain": [
       "subproblem_heuristic (generic function with 1 method)"
      ]
     },
     "metadata": {},
     "output_type": "display_data"
    }
   ],
   "source": [
    "function subproblem_heuristic(data::Matrix{Float64}, p::Vector{Float64}, q::Float64, Iter::Int64)\n",
    "    \n",
    "    clusters = Cluster[]\n",
    "    for k in 2:Int(round(size(data,1)/3))\n",
    "        append!(clusters, initial_clusters(points, k, 1, Iter ))\n",
    "    end\n",
    "    idx = argmin([compute_reduced_cost(cluster, p, q) for cluster in clusters])\n",
    "    return clusters[idx], compute_reduced_cost(clusters[idx], p, q)\n",
    "end "
   ]
  },
  {
   "cell_type": "code",
   "execution_count": 8,
   "metadata": {},
   "outputs": [
    {
     "data": {
      "text/plain": [
       "new_cluster (generic function with 1 method)"
      ]
     },
     "metadata": {},
     "output_type": "display_data"
    }
   ],
   "source": [
    "function new_cluster(data::Matrix{Float64}, p::Vector{Float64}, q::Float64, K::Int64, Iter::Int64)\n",
    "    \"\"\"\n",
    "    Subproblem of the column generation, it returns a new cluster and its reduced cost\n",
    "\n",
    "        input: \n",
    "            - data: Nx2 matrix of points\n",
    "            - p: dual solution of the master problem\n",
    "            - q: dual solution of the master problem\n",
    "            - K: number of clusters\n",
    "            - Iter: iteration of the column generation, this is used in the heuristics to avoid the convex hull constraint of the subproblem\n",
    "\n",
    "        output:\n",
    "            - Cluster: new cluster\n",
    "            - reduced cost of the cluster\n",
    "    \"\"\"\n",
    "\n",
    "    N = size(data,1)\n",
    "    D = size(data,2)\n",
    "\n",
    "    ###Subproblem\n",
    "    sp_model = JuMP.Model(() -> Gurobi.Optimizer(GRB_ENV))\n",
    "    set_optimizer_attributes( sp_model, \"OutputFlag\" => 0)\n",
    "\n",
    "    @variable(sp_model, θ[1:N])\n",
    "    @variable(sp_model, a[1:N], Bin)\n",
    "    @variable(sp_model, f[1:N, 1:N])\n",
    "    @variable(sp_model, b[1:N-K+1], Bin)\n",
    "    @variable(sp_model, γ[1:N,1:N,1:N-K+1])\n",
    "    @variable(sp_model, z[1:N,1:N-K+1])\n",
    "\n",
    "    @constraint(sp_model, [i=1:N, j=1:N], f[i,j] <= a[i])\n",
    "    @constraint(sp_model, [i=1:N, j=1:N], f[i,j] <= a[j])\n",
    "    @constraint(sp_model, [i=1:N, j=1:N], f[i,j] >= a[i] + a[j] - 1)\n",
    "    @constraint(sp_model, sum(a[i] for i=1:N) >= 1)\n",
    "\n",
    "    @constraint(sp_model, [i=1:N, j=1:N, l=1:N-K+1], γ[i,j,l] <= f[i,j])\n",
    "    @constraint(sp_model, [i=1:N, j=1:N, l=1:N-K+1], γ[i,j,l] <= b[l])\n",
    "    @constraint(sp_model, [i=1:N, j=1:N, l=1:N-K+1], γ[i,j,l] >= f[i,j] + b[l] - 1)\n",
    "\n",
    "    @constraint(sp_model, sum(b[l] for l=1:N-K+1) == 1)\n",
    "\n",
    "    @constraint(sp_model, [i=1:N], [θ[i]; sum( 1/l .* sum( γ[i,j,l] .* (data[i,:] .- data[j,:]) for j=1:N) for l=1:N-K+1)] in SecondOrderCone()) #\n",
    "    \n",
    "    ### heuristics constraint\n",
    "    @constraint(sp_model, [i=1:N, l=1:N-K+1], z[i,l] >= b[l] + a[i] -1)\n",
    "    @constraint(sp_model, [i=1:N, l=1:N-K+1], z[i,l] <= b[l])\n",
    "    @constraint(sp_model, [i=1:N, l=1:N-K+1], z[i,l] <= a[i])\n",
    "    @constraint(sp_model, [i=1:N], [5/(Iter/4); (data[i,:] .- sum(1/l .* sum( data[j,:] * z[j,l] for j in 1:N)  for l in 1:N-K+1))] in SecondOrderCone())\n",
    "\n",
    "    @objective(sp_model, Min, sum( θ[i] - a[i]*p[i] for i in 1:N))\n",
    "\n",
    "    optimize!(sp_model)\n",
    "\n",
    "\n",
    "    #### Retrieve cluster from solution\n",
    "    assignments = vec(findall(x->x>0.9, value.(a)))\n",
    "    #@printf(\"Assignments: %s\\n\", value.(a))\n",
    "    #@printf(\"Assignments: %s\\n\", value.(θ))\n",
    "    cost, centroid = compute_cluster_centroid_cost(assignments)\n",
    "    Clust = Cluster(assignments, centroid, cost)\n",
    "    reduced_cost = compute_reduced_cost(Clust, p, q)\n",
    "\n",
    "    return Clust, reduced_cost\n",
    "\n",
    "end "
   ]
  },
  {
   "attachments": {},
   "cell_type": "markdown",
   "metadata": {},
   "source": [
    "### Master problem"
   ]
  },
  {
   "cell_type": "code",
   "execution_count": 9,
   "metadata": {},
   "outputs": [
    {
     "data": {
      "text/plain": [
       "initial_clusters (generic function with 2 methods)"
      ]
     },
     "metadata": {},
     "output_type": "display_data"
    }
   ],
   "source": [
    "function initial_clusters(data::Matrix{Float64}, K::Int64, n_initial_clusters::Int64, seed::Int64 = 1)\n",
    "\n",
    "    clusters = Cluster[]\n",
    "\n",
    "    for i in 1:n_initial_clusters\n",
    "        Random.seed!(seed * i)\n",
    "        km =  kmeans(data', K).assignments\n",
    "        for k in 1:K\n",
    "            assinments = findall(x->x==k, km); \n",
    "            cost, centroid = compute_cluster_centroid_cost(assinments)\n",
    "            push!(clusters, Cluster(assinments, centroid, cost))\n",
    "        end\n",
    "    end\n",
    "    return clusters\n",
    "end"
   ]
  },
  {
   "cell_type": "code",
   "execution_count": 10,
   "metadata": {},
   "outputs": [
    {
     "data": {
      "text/plain": [
       "column_generation (generic function with 3 methods)"
      ]
     },
     "metadata": {},
     "output_type": "display_data"
    }
   ],
   "source": [
    "function column_generation(data::Matrix{Float64}, K::Int64, n_initial_clusters::Int64, max_iterations::Int = 10000, verbose::Bool = true)\n",
    "\n",
    "    N = size(data,1)\n",
    "    \n",
    "    # Initialization\n",
    "    CG_solution = nothing\n",
    "    CG_objective = 0.0\n",
    "    upper_bounds = []\n",
    "    lower_bounds = []\n",
    "    MP_time = []\n",
    "    SP_time = []\n",
    "    p_values = []\n",
    "    q_values = []\n",
    "\n",
    "    if verbose\n",
    "        @printf(\"              | Objective | Lower bound | MP time (s) | SP time (s) | Reduced cost\\n\")\n",
    "    end\n",
    "\n",
    "    # Creates initial clusters\n",
    "    clusters = initial_clusters(data, K, n_initial_clusters, 1)\n",
    "    counter = 0\n",
    "\n",
    "    while true\n",
    "        counter += 1\n",
    "        # Make restricted master problem with current clusters \n",
    "        MP_start_time = time()\n",
    "        model = JuMP.Model(() -> Gurobi.Optimizer(GRB_ENV))\n",
    "        set_optimizer_attributes(\n",
    "            model,\n",
    "            \"OutputFlag\" => 0,\n",
    "        )\n",
    "\n",
    "        @variable(model, x[r in 1:length(clusters)] ≥ 0)\n",
    "\n",
    "        @constraint(model, points_assigned[r=1:N], sum(x[r] for r in 1:length(clusters) if r in clusters[r].assignments) == 1)\n",
    "        @constraint(model, number_clusters, sum(x[r] for r in 1:length(clusters)) == K)\n",
    "\n",
    "        @objective(model, Min, sum(x[r] * clusters[r].cost for r in 1:length(clusters)))\n",
    "\n",
    "        optimize!(model)\n",
    "        MP_end_time = time()\n",
    "\n",
    "        ### Get duals\n",
    "        p = vec(dual.(points_assigned))\n",
    "        push!(p_values, p)\n",
    "\n",
    "        q = dual.(number_clusters)\n",
    "        push!(q_values, q)\n",
    "\n",
    "        # Update column generation metrics\n",
    "        push!(upper_bounds, objective_value(model))\n",
    "        push!(MP_time, MP_end_time - MP_start_time)\n",
    "\n",
    "        # Compute a new route to add and its corresponding reduced cost\n",
    "        SP_start_time = time()\n",
    "        #clust, reduced_cost = new_cluster(data, p, q, K, counter)\n",
    "        clust, reduced_cost = subproblem_heuristic(data, p, q, counter)\n",
    "        SP_end_time = time()\n",
    "\n",
    "        # Update column generation metrics\n",
    "        push!(lower_bounds, objective_value(model) + min(N * reduced_cost,0))\n",
    "        push!(SP_time, SP_end_time - SP_start_time)\n",
    "\n",
    "        if verbose\n",
    "            # @printf(\"              | Objective | MP time (s) | SP time (s) | Reduced cost\")\n",
    "            @printf(\n",
    "                \"Iteration %3d | %9.3f | %11.3f |      %6.3f |      %6.3f | %12.3f\\n\",\n",
    "                counter, \n",
    "                upper_bounds[end],\n",
    "                lower_bounds[end],\n",
    "                MP_time[end],\n",
    "                SP_time[end],\n",
    "                reduced_cost,\n",
    "            )\n",
    "        end\n",
    "\n",
    "        # Termination criteria\n",
    "        if (reduced_cost > -1e-6 || counter > max_iterations)  \n",
    "            CG_solution = value.(x)\n",
    "            CG_objective = objective_value(model)\n",
    "            break\n",
    "        end\n",
    "        push!(clusters, clust)\n",
    "\n",
    "    end\n",
    "\n",
    "    #### solve MP with integer variables\n",
    "    ############# TO DO ##################\n",
    "\n",
    "    return Dict(\n",
    "        \"CG_solution\" => CG_solution,\n",
    "        \"CG_objective\" => CG_objective,\n",
    "        \"clusters\" => clusters,\n",
    "        \"p_values\" => p_values,\n",
    "        \"q_values\" => q_values,\n",
    "        \"upper_bounds\" => upper_bounds,\n",
    "        \"lower_bounds\" => lower_bounds,\n",
    "        \"MP_time\" => MP_time,\n",
    "        \"SP_time\" => SP_time,\n",
    "        \"time_taken\" => sum(MP_time) + sum(SP_time),\n",
    "    )\n",
    "end"
   ]
  },
  {
   "cell_type": "code",
   "execution_count": 11,
   "metadata": {},
   "outputs": [],
   "source": [
    "points = generate_points(2, 20, 2, 0.9);"
   ]
  },
  {
   "cell_type": "code",
   "execution_count": null,
   "metadata": {},
   "outputs": [],
   "source": [
    "kmeans()"
   ]
  },
  {
   "cell_type": "code",
   "execution_count": 17,
   "metadata": {},
   "outputs": [
    {
     "name": "stdout",
     "output_type": "stream",
     "text": [
      "              | Objective | Lower bound | MP time (s) | SP time (s) | Reduced cost\n",
      "Iteration   1 |    10.489 |    -513.956 |       0.001 |       0.003 |       -5.244\n",
      "Iteration   2 |     5.244 |    -508.294 |       0.001 |       0.022 |       -5.135\n",
      "Iteration   3 |     5.244 |    -511.594 |       0.001 |       0.003 |       -5.168\n",
      "Iteration   4 |     5.244 |    -513.825 |       0.001 |       0.003 |       -5.191\n",
      "Iteration   5 |     5.244 |    -500.670 |       0.001 |       0.003 |       -5.059\n",
      "Iteration   6 |     5.244 |    -508.294 |       0.001 |       0.003 |       -5.135\n",
      "Iteration   7 |     5.244 |    -512.697 |       0.001 |       0.003 |       -5.179\n",
      "Iteration   8 |     5.244 |    -513.825 |       0.001 |       0.003 |       -5.191\n",
      "Iteration   9 |     5.244 |    -512.697 |       0.001 |       0.003 |       -5.179\n",
      "Iteration  10 |     5.244 |    -517.259 |       0.001 |       0.003 |       -5.225\n",
      "Iteration  11 |     5.244 |    -512.697 |       0.001 |       0.003 |       -5.179\n"
     ]
    },
    {
     "name": "stdout",
     "output_type": "stream",
     "text": [
      "Iteration  12 |     5.244 |    -512.697 |       0.001 |       0.003 |       -5.179\n",
      "Iteration  13 |     5.244 |    -507.505 |       0.001 |       0.003 |       -5.127\n",
      "Iteration  14 |     5.244 |    -508.294 |       0.001 |       0.004 |       -5.135\n",
      "Iteration  15 |     5.244 |    -512.697 |       0.001 |       0.003 |       -5.179\n",
      "Iteration  16 |     5.244 |    -508.294 |       0.001 |       0.003 |       -5.135\n",
      "Iteration  17 |     5.244 |    -502.733 |       0.001 |       0.004 |       -5.080\n",
      "Iteration  18 |     5.244 |    -513.825 |       0.001 |       0.003 |       -5.191\n",
      "Iteration  19 |     5.244 |    -512.697 |       0.001 |       0.004 |       -5.179\n",
      "Iteration  20 |     5.244 |    -512.697 |       0.001 |       0.018 |       -5.179\n",
      "Iteration  21 |     5.244 |    -500.670 |       0.001 |       0.003 |       -5.059\n",
      "Iteration  22 |     5.244 |    -512.697 |       0.001 |       0.003 |       -5.179\n",
      "Iteration  23 |     5.244 |    -512.697 |       0.001 |       0.003 |       -5.179\n",
      "Iteration  24 |     5.244 |    -512.697 |       0.001 |       0.003 |       -5.179\n",
      "Iteration  25 |     5.244 |    -515.359 |       0.001 |       0.003 |       -5.206\n",
      "Iteration  26 |     5.244 |    -511.594 |       0.001 |       0.003 |       -5.168\n",
      "Iteration  27 |     5.244 |    -512.697 |       0.001 |       0.003 |       -5.179\n",
      "Iteration  28 |     5.244 |    -500.670 |       0.001 |       0.003 |       -5.059\n",
      "Iteration  29 |     5.244 |    -500.670 |       0.001 |       0.003 |       -5.059\n",
      "Iteration  30 |     5.244 |    -513.825 |       0.001 |       0.004 |       -5.191\n",
      "Iteration  31 |     5.244 |    -513.825 |       0.001 |       0.003 |       -5.191\n"
     ]
    },
    {
     "name": "stdout",
     "output_type": "stream",
     "text": [
      "Iteration  32 |     5.244 |    -512.697 |       0.001 |       0.003 |       -5.179\n",
      "Iteration  33 |     5.244 |    -512.697 |       0.001 |       0.004 |       -5.179\n",
      "Iteration  34 |     5.244 |    -508.294 |       0.001 |       0.003 |       -5.135\n",
      "Iteration  35 |     5.244 |    -513.825 |       0.001 |       0.003 |       -5.191\n",
      "Iteration  36 |     5.244 |    -508.294 |       0.001 |       0.003 |       -5.135\n",
      "Iteration  37 |     5.244 |    -512.697 |       0.001 |       0.003 |       -5.179\n",
      "Iteration  38 |     5.244 |    -507.505 |       0.001 |       0.016 |       -5.127\n",
      "Iteration  39 |     5.244 |    -508.294 |       0.001 |       0.003 |       -5.135\n",
      "Iteration  40 |     5.244 |    -500.670 |       0.001 |       0.003 |       -5.059\n",
      "Iteration  41 |     5.244 |    -512.697 |       0.001 |       0.003 |       -5.179\n",
      "Iteration  42 |     5.244 |    -512.697 |       0.001 |       0.003 |       -5.179\n",
      "Iteration  43 |     5.244 |    -500.670 |       0.001 |       0.003 |       -5.059\n",
      "Iteration  44 |     0.185 |      -3.324 |       0.001 |       0.003 |       -0.035\n",
      "Iteration  45 |     0.185 |     -10.738 |       0.001 |       0.003 |       -0.109\n",
      "Iteration  46 |     0.185 |     -11.841 |       0.001 |       0.003 |       -0.120\n",
      "Iteration  47 |     0.185 |     -10.738 |       0.001 |       0.003 |       -0.109\n",
      "Iteration  48 |     0.185 |      -7.438 |       0.001 |       0.003 |       -0.076\n",
      "Iteration  49 |     0.185 |     -11.841 |       0.001 |       0.003 |       -0.120\n",
      "Iteration  50 |     0.185 |      -7.438 |       0.001 |       0.003 |       -0.076\n",
      "Iteration  51 |     0.185 |     -10.738 |       0.001 |       0.004 |       -0.109\n"
     ]
    },
    {
     "name": "stdout",
     "output_type": "stream",
     "text": [
      "Iteration  52 |     0.185 |     -11.841 |       0.001 |       0.003 |       -0.120\n",
      "Iteration  53 |     0.185 |       0.185 |       0.001 |       0.003 |        0.000\n",
      "  0.281013 seconds (1.25 M allocations: 293.548 MiB, 15.07% gc time)\n"
     ]
    }
   ],
   "source": [
    "points = generate_points(2, 100, 2, 1.0);\n",
    "\n",
    "@time results = column_generation(points, 2, 20);"
   ]
  },
  {
   "cell_type": "code",
   "execution_count": 18,
   "metadata": {},
   "outputs": [
    {
     "data": {
      "image/png": "[encoded data removed]",
      "image/svg+xml": [
       "<?xml version=\"1.0\" encoding=\"utf-8\"?>\n",
       "<svg xmlns=\"http://www.w3.org/2000/svg\" xmlns:xlink=\"http://www.w3.org/1999/xlink\" width=\"600\" height=\"400\" viewBox=\"0 0 2400 1600\">\n",
       "<defs>\n",
       "  <clipPath id=\"clip130\">\n",
       "    <rect x=\"0\" y=\"0\" width=\"2400\" height=\"1600\"/>\n",
       "  </clipPath>\n",
       "</defs>\n",
       "<path clip-path=\"url(#clip130)\" d=\"\n",
       "M0 1600 L2400 1600 L2400 0 L0 0  Z\n",
       "  \" fill=\"#ffffff\" fill-rule=\"evenodd\" fill-opacity=\"1\"/>\n",
       "<defs>\n",
       "  <clipPath id=\"clip131\">\n",
       "    <rect x=\"480\" y=\"0\" width=\"1681\" height=\"1600\"/>\n",
       "  </clipPath>\n",
       "</defs>\n",
       "<path clip-path=\"url(#clip130)\" d=\"\n",
       "M209.029 1486.45 L2352.76 1486.45 L2352.76 47.2441 L209.029 47.2441  Z\n",
       "  \" fill=\"#ffffff\" fill-rule=\"evenodd\" fill-opacity=\"1\"/>\n",
       "<defs>\n",
       "  <clipPath id=\"clip132\">\n",
       "    <rect x=\"209\" y=\"47\" width=\"2145\" height=\"1440\"/>\n",
       "  </clipPath>\n",
       "</defs>\n",
       "<polyline clip-path=\"url(#clip132)\" style=\"stroke:#000000; stroke-linecap:round; stroke-linejoin:round; stroke-width:2; stroke-opacity:0.1; fill:none\" points=\"\n",
       "  230.808,1486.45 230.808,47.2441 \n",
       "  \"/>\n",
       "<polyline clip-path=\"url(#clip132)\" style=\"stroke:#000000; stroke-linecap:round; stroke-linejoin:round; stroke-width:2; stroke-opacity:0.1; fill:none\" points=\"\n",
       "  619.728,1486.45 619.728,47.2441 \n",
       "  \"/>\n",
       "<polyline clip-path=\"url(#clip132)\" style=\"stroke:#000000; stroke-linecap:round; stroke-linejoin:round; stroke-width:2; stroke-opacity:0.1; fill:none\" points=\"\n",
       "  1008.65,1486.45 1008.65,47.2441 \n",
       "  \"/>\n",
       "<polyline clip-path=\"url(#clip132)\" style=\"stroke:#000000; stroke-linecap:round; stroke-linejoin:round; stroke-width:2; stroke-opacity:0.1; fill:none\" points=\"\n",
       "  1397.57,1486.45 1397.57,47.2441 \n",
       "  \"/>\n",
       "<polyline clip-path=\"url(#clip132)\" style=\"stroke:#000000; stroke-linecap:round; stroke-linejoin:round; stroke-width:2; stroke-opacity:0.1; fill:none\" points=\"\n",
       "  1786.49,1486.45 1786.49,47.2441 \n",
       "  \"/>\n",
       "<polyline clip-path=\"url(#clip132)\" style=\"stroke:#000000; stroke-linecap:round; stroke-linejoin:round; stroke-width:2; stroke-opacity:0.1; fill:none\" points=\"\n",
       "  2175.41,1486.45 2175.41,47.2441 \n",
       "  \"/>\n",
       "<polyline clip-path=\"url(#clip130)\" style=\"stroke:#000000; stroke-linecap:round; stroke-linejoin:round; stroke-width:4; stroke-opacity:1; fill:none\" points=\"\n",
       "  209.029,1486.45 2352.76,1486.45 \n",
       "  \"/>\n",
       "<polyline clip-path=\"url(#clip130)\" style=\"stroke:#000000; stroke-linecap:round; stroke-linejoin:round; stroke-width:4; stroke-opacity:1; fill:none\" points=\"\n",
       "  230.808,1486.45 230.808,1467.55 \n",
       "  \"/>\n",
       "<polyline clip-path=\"url(#clip130)\" style=\"stroke:#000000; stroke-linecap:round; stroke-linejoin:round; stroke-width:4; stroke-opacity:1; fill:none\" points=\"\n",
       "  619.728,1486.45 619.728,1467.55 \n",
       "  \"/>\n",
       "<polyline clip-path=\"url(#clip130)\" style=\"stroke:#000000; stroke-linecap:round; stroke-linejoin:round; stroke-width:4; stroke-opacity:1; fill:none\" points=\"\n",
       "  1008.65,1486.45 1008.65,1467.55 \n",
       "  \"/>\n",
       "<polyline clip-path=\"url(#clip130)\" style=\"stroke:#000000; stroke-linecap:round; stroke-linejoin:round; stroke-width:4; stroke-opacity:1; fill:none\" points=\"\n",
       "  1397.57,1486.45 1397.57,1467.55 \n",
       "  \"/>\n",
       "<polyline clip-path=\"url(#clip130)\" style=\"stroke:#000000; stroke-linecap:round; stroke-linejoin:round; stroke-width:4; stroke-opacity:1; fill:none\" points=\"\n",
       "  1786.49,1486.45 1786.49,1467.55 \n",
       "  \"/>\n",
       "<polyline clip-path=\"url(#clip130)\" style=\"stroke:#000000; stroke-linecap:round; stroke-linejoin:round; stroke-width:4; stroke-opacity:1; fill:none\" points=\"\n",
       "  2175.41,1486.45 2175.41,1467.55 \n",
       "  \"/>\n",
       "<path clip-path=\"url(#clip130)\" d=\"M230.808 1517.37 Q227.197 1517.37 225.368 1520.93 Q223.563 1524.47 223.563 1531.6 Q223.563 1538.71 225.368 1542.27 Q227.197 1545.82 230.808 1545.82 Q234.442 1545.82 236.248 1542.27 Q238.077 1538.71 238.077 1531.6 Q238.077 1524.47 236.248 1520.93 Q234.442 1517.37 230.808 1517.37 M230.808 1513.66 Q236.618 1513.66 239.674 1518.27 Q242.752 1522.85 242.752 1531.6 Q242.752 1540.33 239.674 1544.94 Q236.618 1549.52 230.808 1549.52 Q224.998 1549.52 221.919 1544.94 Q218.864 1540.33 218.864 1531.6 Q218.864 1522.85 221.919 1518.27 Q224.998 1513.66 230.808 1513.66 Z\" fill=\"#000000\" fill-rule=\"evenodd\" fill-opacity=\"1\" /><path clip-path=\"url(#clip130)\" d=\"M594.416 1544.91 L602.055 1544.91 L602.055 1518.55 L593.744 1520.21 L593.744 1515.95 L602.008 1514.29 L606.684 1514.29 L606.684 1544.91 L614.323 1544.91 L614.323 1548.85 L594.416 1548.85 L594.416 1544.91 Z\" fill=\"#000000\" fill-rule=\"evenodd\" fill-opacity=\"1\" /><path clip-path=\"url(#clip130)\" d=\"M633.767 1517.37 Q630.156 1517.37 628.328 1520.93 Q626.522 1524.47 626.522 1531.6 Q626.522 1538.71 628.328 1542.27 Q630.156 1545.82 633.767 1545.82 Q637.402 1545.82 639.207 1542.27 Q641.036 1538.71 641.036 1531.6 Q641.036 1524.47 639.207 1520.93 Q637.402 1517.37 633.767 1517.37 M633.767 1513.66 Q639.578 1513.66 642.633 1518.27 Q645.712 1522.85 645.712 1531.6 Q645.712 1540.33 642.633 1544.94 Q639.578 1549.52 633.767 1549.52 Q627.957 1549.52 624.879 1544.94 Q621.823 1540.33 621.823 1531.6 Q621.823 1522.85 624.879 1518.27 Q627.957 1513.66 633.767 1513.66 Z\" fill=\"#000000\" fill-rule=\"evenodd\" fill-opacity=\"1\" /><path clip-path=\"url(#clip130)\" d=\"M987.421 1544.91 L1003.74 1544.91 L1003.74 1548.85 L981.796 1548.85 L981.796 1544.91 Q984.458 1542.16 989.042 1537.53 Q993.648 1532.88 994.829 1531.53 Q997.074 1529.01 997.954 1527.27 Q998.857 1525.51 998.857 1523.82 Q998.857 1521.07 996.912 1519.33 Q994.991 1517.6 991.889 1517.6 Q989.69 1517.6 987.236 1518.36 Q984.806 1519.13 982.028 1520.68 L982.028 1515.95 Q984.852 1514.82 987.306 1514.24 Q989.759 1513.66 991.796 1513.66 Q997.167 1513.66 1000.36 1516.35 Q1003.56 1519.03 1003.56 1523.52 Q1003.56 1525.65 1002.75 1527.57 Q1001.96 1529.47 999.852 1532.07 Q999.273 1532.74 996.171 1535.95 Q993.07 1539.15 987.421 1544.91 Z\" fill=\"#000000\" fill-rule=\"evenodd\" fill-opacity=\"1\" /><path clip-path=\"url(#clip130)\" d=\"M1023.56 1517.37 Q1019.94 1517.37 1018.12 1520.93 Q1016.31 1524.47 1016.31 1531.6 Q1016.31 1538.71 1018.12 1542.27 Q1019.94 1545.82 1023.56 1545.82 Q1027.19 1545.82 1029 1542.27 Q1030.82 1538.71 1030.82 1531.6 Q1030.82 1524.47 1029 1520.93 Q1027.19 1517.37 1023.56 1517.37 M1023.56 1513.66 Q1029.37 1513.66 1032.42 1518.27 Q1035.5 1522.85 1035.5 1531.6 Q1035.5 1540.33 1032.42 1544.94 Q1029.37 1549.52 1023.56 1549.52 Q1017.75 1549.52 1014.67 1544.94 Q1011.61 1540.33 1011.61 1531.6 Q1011.61 1522.85 1014.67 1518.27 Q1017.75 1513.66 1023.56 1513.66 Z\" fill=\"#000000\" fill-rule=\"evenodd\" fill-opacity=\"1\" /><path clip-path=\"url(#clip130)\" d=\"M1386.41 1530.21 Q1389.77 1530.93 1391.64 1533.2 Q1393.54 1535.47 1393.54 1538.8 Q1393.54 1543.92 1390.02 1546.72 Q1386.5 1549.52 1380.02 1549.52 Q1377.85 1549.52 1375.53 1549.08 Q1373.24 1548.66 1370.79 1547.81 L1370.79 1543.29 Q1372.73 1544.43 1375.05 1545.01 Q1377.36 1545.58 1379.88 1545.58 Q1384.28 1545.58 1386.57 1543.85 Q1388.89 1542.11 1388.89 1538.8 Q1388.89 1535.75 1386.73 1534.03 Q1384.61 1532.3 1380.79 1532.3 L1376.76 1532.3 L1376.76 1528.45 L1380.97 1528.45 Q1384.42 1528.45 1386.25 1527.09 Q1388.08 1525.7 1388.08 1523.11 Q1388.08 1520.45 1386.18 1519.03 Q1384.3 1517.6 1380.79 1517.6 Q1378.86 1517.6 1376.67 1518.01 Q1374.47 1518.43 1371.83 1519.31 L1371.83 1515.14 Q1374.49 1514.4 1376.8 1514.03 Q1379.14 1513.66 1381.2 1513.66 Q1386.53 1513.66 1389.63 1516.09 Q1392.73 1518.5 1392.73 1522.62 Q1392.73 1525.49 1391.09 1527.48 Q1389.44 1529.45 1386.41 1530.21 Z\" fill=\"#000000\" fill-rule=\"evenodd\" fill-opacity=\"1\" /><path clip-path=\"url(#clip130)\" d=\"M1412.41 1517.37 Q1408.8 1517.37 1406.97 1520.93 Q1405.16 1524.47 1405.16 1531.6 Q1405.16 1538.71 1406.97 1542.27 Q1408.8 1545.82 1412.41 1545.82 Q1416.04 1545.82 1417.85 1542.27 Q1419.67 1538.71 1419.67 1531.6 Q1419.67 1524.47 1417.85 1520.93 Q1416.04 1517.37 1412.41 1517.37 M1412.41 1513.66 Q1418.22 1513.66 1421.27 1518.27 Q1424.35 1522.85 1424.35 1531.6 Q1424.35 1540.33 1421.27 1544.94 Q1418.22 1549.52 1412.41 1549.52 Q1406.6 1549.52 1403.52 1544.94 Q1400.46 1540.33 1400.46 1531.6 Q1400.46 1522.85 1403.52 1518.27 Q1406.6 1513.66 1412.41 1513.66 Z\" fill=\"#000000\" fill-rule=\"evenodd\" fill-opacity=\"1\" /><path clip-path=\"url(#clip130)\" d=\"M1774.66 1518.36 L1762.85 1536.81 L1774.66 1536.81 L1774.66 1518.36 M1773.43 1514.29 L1779.31 1514.29 L1779.31 1536.81 L1784.24 1536.81 L1784.24 1540.7 L1779.31 1540.7 L1779.31 1548.85 L1774.66 1548.85 L1774.66 1540.7 L1759.06 1540.7 L1759.06 1536.19 L1773.43 1514.29 Z\" fill=\"#000000\" fill-rule=\"evenodd\" fill-opacity=\"1\" /><path clip-path=\"url(#clip130)\" d=\"M1801.97 1517.37 Q1798.36 1517.37 1796.53 1520.93 Q1794.73 1524.47 1794.73 1531.6 Q1794.73 1538.71 1796.53 1542.27 Q1798.36 1545.82 1801.97 1545.82 Q1805.61 1545.82 1807.41 1542.27 Q1809.24 1538.71 1809.24 1531.6 Q1809.24 1524.47 1807.41 1520.93 Q1805.61 1517.37 1801.97 1517.37 M1801.97 1513.66 Q1807.78 1513.66 1810.84 1518.27 Q1813.92 1522.85 1813.92 1531.6 Q1813.92 1540.33 1810.84 1544.94 Q1807.78 1549.52 1801.97 1549.52 Q1796.16 1549.52 1793.09 1544.94 Q1790.03 1540.33 1790.03 1531.6 Q1790.03 1522.85 1793.09 1518.27 Q1796.16 1513.66 1801.97 1513.66 Z\" fill=\"#000000\" fill-rule=\"evenodd\" fill-opacity=\"1\" /><path clip-path=\"url(#clip130)\" d=\"M2150.11 1514.29 L2168.46 1514.29 L2168.46 1518.22 L2154.39 1518.22 L2154.39 1526.7 Q2155.41 1526.35 2156.43 1526.19 Q2157.45 1526 2158.46 1526 Q2164.25 1526 2167.63 1529.17 Q2171.01 1532.34 2171.01 1537.76 Q2171.01 1543.34 2167.54 1546.44 Q2164.07 1549.52 2157.75 1549.52 Q2155.57 1549.52 2153.3 1549.15 Q2151.06 1548.78 2148.65 1548.04 L2148.65 1543.34 Q2150.73 1544.47 2152.95 1545.03 Q2155.18 1545.58 2157.65 1545.58 Q2161.66 1545.58 2164 1543.48 Q2166.33 1541.37 2166.33 1537.76 Q2166.33 1534.15 2164 1532.04 Q2161.66 1529.94 2157.65 1529.94 Q2155.78 1529.94 2153.9 1530.35 Q2152.05 1530.77 2150.11 1531.65 L2150.11 1514.29 Z\" fill=\"#000000\" fill-rule=\"evenodd\" fill-opacity=\"1\" /><path clip-path=\"url(#clip130)\" d=\"M2190.22 1517.37 Q2186.61 1517.37 2184.78 1520.93 Q2182.98 1524.47 2182.98 1531.6 Q2182.98 1538.71 2184.78 1542.27 Q2186.61 1545.82 2190.22 1545.82 Q2193.86 1545.82 2195.66 1542.27 Q2197.49 1538.71 2197.49 1531.6 Q2197.49 1524.47 2195.66 1520.93 Q2193.86 1517.37 2190.22 1517.37 M2190.22 1513.66 Q2196.03 1513.66 2199.09 1518.27 Q2202.17 1522.85 2202.17 1531.6 Q2202.17 1540.33 2199.09 1544.94 Q2196.03 1549.52 2190.22 1549.52 Q2184.41 1549.52 2181.33 1544.94 Q2178.28 1540.33 2178.28 1531.6 Q2178.28 1522.85 2181.33 1518.27 Q2184.41 1513.66 2190.22 1513.66 Z\" fill=\"#000000\" fill-rule=\"evenodd\" fill-opacity=\"1\" /><polyline clip-path=\"url(#clip132)\" style=\"stroke:#000000; stroke-linecap:round; stroke-linejoin:round; stroke-width:2; stroke-opacity:0.1; fill:none\" points=\"\n",
       "  209.029,1401.31 2352.76,1401.31 \n",
       "  \"/>\n",
       "<polyline clip-path=\"url(#clip132)\" style=\"stroke:#000000; stroke-linecap:round; stroke-linejoin:round; stroke-width:2; stroke-opacity:0.1; fill:none\" points=\"\n",
       "  209.029,1144.04 2352.76,1144.04 \n",
       "  \"/>\n",
       "<polyline clip-path=\"url(#clip132)\" style=\"stroke:#000000; stroke-linecap:round; stroke-linejoin:round; stroke-width:2; stroke-opacity:0.1; fill:none\" points=\"\n",
       "  209.029,886.772 2352.76,886.772 \n",
       "  \"/>\n",
       "<polyline clip-path=\"url(#clip132)\" style=\"stroke:#000000; stroke-linecap:round; stroke-linejoin:round; stroke-width:2; stroke-opacity:0.1; fill:none\" points=\"\n",
       "  209.029,629.502 2352.76,629.502 \n",
       "  \"/>\n",
       "<polyline clip-path=\"url(#clip132)\" style=\"stroke:#000000; stroke-linecap:round; stroke-linejoin:round; stroke-width:2; stroke-opacity:0.1; fill:none\" points=\"\n",
       "  209.029,372.231 2352.76,372.231 \n",
       "  \"/>\n",
       "<polyline clip-path=\"url(#clip132)\" style=\"stroke:#000000; stroke-linecap:round; stroke-linejoin:round; stroke-width:2; stroke-opacity:0.1; fill:none\" points=\"\n",
       "  209.029,114.961 2352.76,114.961 \n",
       "  \"/>\n",
       "<polyline clip-path=\"url(#clip130)\" style=\"stroke:#000000; stroke-linecap:round; stroke-linejoin:round; stroke-width:4; stroke-opacity:1; fill:none\" points=\"\n",
       "  209.029,1486.45 209.029,47.2441 \n",
       "  \"/>\n",
       "<polyline clip-path=\"url(#clip130)\" style=\"stroke:#000000; stroke-linecap:round; stroke-linejoin:round; stroke-width:4; stroke-opacity:1; fill:none\" points=\"\n",
       "  209.029,1401.31 227.926,1401.31 \n",
       "  \"/>\n",
       "<polyline clip-path=\"url(#clip130)\" style=\"stroke:#000000; stroke-linecap:round; stroke-linejoin:round; stroke-width:4; stroke-opacity:1; fill:none\" points=\"\n",
       "  209.029,1144.04 227.926,1144.04 \n",
       "  \"/>\n",
       "<polyline clip-path=\"url(#clip130)\" style=\"stroke:#000000; stroke-linecap:round; stroke-linejoin:round; stroke-width:4; stroke-opacity:1; fill:none\" points=\"\n",
       "  209.029,886.772 227.926,886.772 \n",
       "  \"/>\n",
       "<polyline clip-path=\"url(#clip130)\" style=\"stroke:#000000; stroke-linecap:round; stroke-linejoin:round; stroke-width:4; stroke-opacity:1; fill:none\" points=\"\n",
       "  209.029,629.502 227.926,629.502 \n",
       "  \"/>\n",
       "<polyline clip-path=\"url(#clip130)\" style=\"stroke:#000000; stroke-linecap:round; stroke-linejoin:round; stroke-width:4; stroke-opacity:1; fill:none\" points=\"\n",
       "  209.029,372.231 227.926,372.231 \n",
       "  \"/>\n",
       "<polyline clip-path=\"url(#clip130)\" style=\"stroke:#000000; stroke-linecap:round; stroke-linejoin:round; stroke-width:4; stroke-opacity:1; fill:none\" points=\"\n",
       "  209.029,114.961 227.926,114.961 \n",
       "  \"/>\n",
       "<path clip-path=\"url(#clip130)\" d=\"M50.9921 1401.76 L80.6679 1401.76 L80.6679 1405.7 L50.9921 1405.7 L50.9921 1401.76 Z\" fill=\"#000000\" fill-rule=\"evenodd\" fill-opacity=\"1\" /><path clip-path=\"url(#clip130)\" d=\"M90.8067 1384.03 L109.163 1384.03 L109.163 1387.97 L95.0891 1387.97 L95.0891 1396.44 Q96.1076 1396.09 97.1261 1395.93 Q98.1447 1395.75 99.1632 1395.75 Q104.95 1395.75 108.33 1398.92 Q111.709 1402.09 111.709 1407.51 Q111.709 1413.08 108.237 1416.19 Q104.765 1419.26 98.4456 1419.26 Q96.2697 1419.26 94.0012 1418.89 Q91.7558 1418.52 89.3484 1417.78 L89.3484 1413.08 Q91.4317 1414.22 93.6539 1414.77 Q95.8761 1415.33 98.353 1415.33 Q102.358 1415.33 104.696 1413.22 Q107.033 1411.12 107.033 1407.51 Q107.033 1403.89 104.696 1401.79 Q102.358 1399.68 98.353 1399.68 Q96.478 1399.68 94.603 1400.1 Q92.7512 1400.51 90.8067 1401.39 L90.8067 1384.03 Z\" fill=\"#000000\" fill-rule=\"evenodd\" fill-opacity=\"1\" /><path clip-path=\"url(#clip130)\" d=\"M130.922 1387.11 Q127.311 1387.11 125.482 1390.68 Q123.677 1394.22 123.677 1401.35 Q123.677 1408.45 125.482 1412.02 Q127.311 1415.56 130.922 1415.56 Q134.556 1415.56 136.362 1412.02 Q138.191 1408.45 138.191 1401.35 Q138.191 1394.22 136.362 1390.68 Q134.556 1387.11 130.922 1387.11 M130.922 1383.41 Q136.732 1383.41 139.788 1388.01 Q142.867 1392.6 142.867 1401.35 Q142.867 1410.07 139.788 1414.68 Q136.732 1419.26 130.922 1419.26 Q125.112 1419.26 122.033 1414.68 Q118.978 1410.07 118.978 1401.35 Q118.978 1392.6 122.033 1388.01 Q125.112 1383.41 130.922 1383.41 Z\" fill=\"#000000\" fill-rule=\"evenodd\" fill-opacity=\"1\" /><path clip-path=\"url(#clip130)\" d=\"M161.084 1387.11 Q157.473 1387.11 155.644 1390.68 Q153.839 1394.22 153.839 1401.35 Q153.839 1408.45 155.644 1412.02 Q157.473 1415.56 161.084 1415.56 Q164.718 1415.56 166.524 1412.02 Q168.353 1408.45 168.353 1401.35 Q168.353 1394.22 166.524 1390.68 Q164.718 1387.11 161.084 1387.11 M161.084 1383.41 Q166.894 1383.41 169.95 1388.01 Q173.029 1392.6 173.029 1401.35 Q173.029 1410.07 169.95 1414.68 Q166.894 1419.26 161.084 1419.26 Q155.274 1419.26 152.195 1414.68 Q149.14 1410.07 149.14 1401.35 Q149.14 1392.6 152.195 1388.01 Q155.274 1383.41 161.084 1383.41 Z\" fill=\"#000000\" fill-rule=\"evenodd\" fill-opacity=\"1\" /><path clip-path=\"url(#clip130)\" d=\"M50.9921 1144.49 L80.6679 1144.49 L80.6679 1148.43 L50.9921 1148.43 L50.9921 1144.49 Z\" fill=\"#000000\" fill-rule=\"evenodd\" fill-opacity=\"1\" /><path clip-path=\"url(#clip130)\" d=\"M103.608 1130.84 L91.8021 1149.29 L103.608 1149.29 L103.608 1130.84 M102.381 1126.76 L108.26 1126.76 L108.26 1149.29 L113.191 1149.29 L113.191 1153.17 L108.26 1153.17 L108.26 1161.32 L103.608 1161.32 L103.608 1153.17 L88.0058 1153.17 L88.0058 1148.66 L102.381 1126.76 Z\" fill=\"#000000\" fill-rule=\"evenodd\" fill-opacity=\"1\" /><path clip-path=\"url(#clip130)\" d=\"M130.922 1129.84 Q127.311 1129.84 125.482 1133.41 Q123.677 1136.95 123.677 1144.08 Q123.677 1151.18 125.482 1154.75 Q127.311 1158.29 130.922 1158.29 Q134.556 1158.29 136.362 1154.75 Q138.191 1151.18 138.191 1144.08 Q138.191 1136.95 136.362 1133.41 Q134.556 1129.84 130.922 1129.84 M130.922 1126.14 Q136.732 1126.14 139.788 1130.74 Q142.867 1135.33 142.867 1144.08 Q142.867 1152.8 139.788 1157.41 Q136.732 1161.99 130.922 1161.99 Q125.112 1161.99 122.033 1157.41 Q118.978 1152.8 118.978 1144.08 Q118.978 1135.33 122.033 1130.74 Q125.112 1126.14 130.922 1126.14 Z\" fill=\"#000000\" fill-rule=\"evenodd\" fill-opacity=\"1\" /><path clip-path=\"url(#clip130)\" d=\"M161.084 1129.84 Q157.473 1129.84 155.644 1133.41 Q153.839 1136.95 153.839 1144.08 Q153.839 1151.18 155.644 1154.75 Q157.473 1158.29 161.084 1158.29 Q164.718 1158.29 166.524 1154.75 Q168.353 1151.18 168.353 1144.08 Q168.353 1136.95 166.524 1133.41 Q164.718 1129.84 161.084 1129.84 M161.084 1126.14 Q166.894 1126.14 169.95 1130.74 Q173.029 1135.33 173.029 1144.08 Q173.029 1152.8 169.95 1157.41 Q166.894 1161.99 161.084 1161.99 Q155.274 1161.99 152.195 1157.41 Q149.14 1152.8 149.14 1144.08 Q149.14 1135.33 152.195 1130.74 Q155.274 1126.14 161.084 1126.14 Z\" fill=\"#000000\" fill-rule=\"evenodd\" fill-opacity=\"1\" /><path clip-path=\"url(#clip130)\" d=\"M50.9921 887.224 L80.6679 887.224 L80.6679 891.159 L50.9921 891.159 L50.9921 887.224 Z\" fill=\"#000000\" fill-rule=\"evenodd\" fill-opacity=\"1\" /><path clip-path=\"url(#clip130)\" d=\"M104.927 885.418 Q108.283 886.136 110.158 888.404 Q112.057 890.673 112.057 894.006 Q112.057 899.122 108.538 901.923 Q105.02 904.724 98.5382 904.724 Q96.3623 904.724 94.0475 904.284 Q91.7558 903.867 89.3021 903.011 L89.3021 898.497 Q91.2465 899.631 93.5613 900.21 Q95.8761 900.788 98.3993 900.788 Q102.797 900.788 105.089 899.052 Q107.404 897.316 107.404 894.006 Q107.404 890.95 105.251 889.238 Q103.121 887.501 99.3021 887.501 L95.2743 887.501 L95.2743 883.659 L99.4872 883.659 Q102.936 883.659 104.765 882.293 Q106.594 880.904 106.594 878.312 Q106.594 875.65 104.696 874.238 Q102.821 872.802 99.3021 872.802 Q97.3808 872.802 95.1817 873.219 Q92.9826 873.636 90.3438 874.515 L90.3438 870.349 Q93.0058 869.608 95.3206 869.238 Q97.6585 868.867 99.7187 868.867 Q105.043 868.867 108.145 871.298 Q111.246 873.705 111.246 877.826 Q111.246 880.696 109.603 882.687 Q107.959 884.654 104.927 885.418 Z\" fill=\"#000000\" fill-rule=\"evenodd\" fill-opacity=\"1\" /><path clip-path=\"url(#clip130)\" d=\"M130.922 872.571 Q127.311 872.571 125.482 876.136 Q123.677 879.677 123.677 886.807 Q123.677 893.913 125.482 897.478 Q127.311 901.02 130.922 901.02 Q134.556 901.02 136.362 897.478 Q138.191 893.913 138.191 886.807 Q138.191 879.677 136.362 876.136 Q134.556 872.571 130.922 872.571 M130.922 868.867 Q136.732 868.867 139.788 873.474 Q142.867 878.057 142.867 886.807 Q142.867 895.534 139.788 900.14 Q136.732 904.724 130.922 904.724 Q125.112 904.724 122.033 900.14 Q118.978 895.534 118.978 886.807 Q118.978 878.057 122.033 873.474 Q125.112 868.867 130.922 868.867 Z\" fill=\"#000000\" fill-rule=\"evenodd\" fill-opacity=\"1\" /><path clip-path=\"url(#clip130)\" d=\"M161.084 872.571 Q157.473 872.571 155.644 876.136 Q153.839 879.677 153.839 886.807 Q153.839 893.913 155.644 897.478 Q157.473 901.02 161.084 901.02 Q164.718 901.02 166.524 897.478 Q168.353 893.913 168.353 886.807 Q168.353 879.677 166.524 876.136 Q164.718 872.571 161.084 872.571 M161.084 868.867 Q166.894 868.867 169.95 873.474 Q173.029 878.057 173.029 886.807 Q173.029 895.534 169.95 900.14 Q166.894 904.724 161.084 904.724 Q155.274 904.724 152.195 900.14 Q149.14 895.534 149.14 886.807 Q149.14 878.057 152.195 873.474 Q155.274 868.867 161.084 868.867 Z\" fill=\"#000000\" fill-rule=\"evenodd\" fill-opacity=\"1\" /><path clip-path=\"url(#clip130)\" d=\"M50.9921 629.953 L80.6679 629.953 L80.6679 633.888 L50.9921 633.888 L50.9921 629.953 Z\" fill=\"#000000\" fill-rule=\"evenodd\" fill-opacity=\"1\" /><path clip-path=\"url(#clip130)\" d=\"M94.7882 642.847 L111.108 642.847 L111.108 646.782 L89.1632 646.782 L89.1632 642.847 Q91.8252 640.092 96.4085 635.462 Q101.015 630.81 102.196 629.467 Q104.441 626.944 105.321 625.208 Q106.223 623.449 106.223 621.759 Q106.223 619.004 104.279 617.268 Q102.358 615.532 99.2558 615.532 Q97.0567 615.532 94.603 616.296 Q92.1725 617.06 89.3947 618.611 L89.3947 613.889 Q92.2188 612.754 94.6724 612.176 Q97.1261 611.597 99.1632 611.597 Q104.534 611.597 107.728 614.282 Q110.922 616.967 110.922 621.458 Q110.922 623.588 110.112 625.509 Q109.325 627.407 107.219 630 Q106.64 630.671 103.538 633.888 Q100.436 637.083 94.7882 642.847 Z\" fill=\"#000000\" fill-rule=\"evenodd\" fill-opacity=\"1\" /><path clip-path=\"url(#clip130)\" d=\"M130.922 615.301 Q127.311 615.301 125.482 618.865 Q123.677 622.407 123.677 629.537 Q123.677 636.643 125.482 640.208 Q127.311 643.749 130.922 643.749 Q134.556 643.749 136.362 640.208 Q138.191 636.643 138.191 629.537 Q138.191 622.407 136.362 618.865 Q134.556 615.301 130.922 615.301 M130.922 611.597 Q136.732 611.597 139.788 616.203 Q142.867 620.787 142.867 629.537 Q142.867 638.263 139.788 642.87 Q136.732 647.453 130.922 647.453 Q125.112 647.453 122.033 642.87 Q118.978 638.263 118.978 629.537 Q118.978 620.787 122.033 616.203 Q125.112 611.597 130.922 611.597 Z\" fill=\"#000000\" fill-rule=\"evenodd\" fill-opacity=\"1\" /><path clip-path=\"url(#clip130)\" d=\"M161.084 615.301 Q157.473 615.301 155.644 618.865 Q153.839 622.407 153.839 629.537 Q153.839 636.643 155.644 640.208 Q157.473 643.749 161.084 643.749 Q164.718 643.749 166.524 640.208 Q168.353 636.643 168.353 629.537 Q168.353 622.407 166.524 618.865 Q164.718 615.301 161.084 615.301 M161.084 611.597 Q166.894 611.597 169.95 616.203 Q173.029 620.787 173.029 629.537 Q173.029 638.263 169.95 642.87 Q166.894 647.453 161.084 647.453 Q155.274 647.453 152.195 642.87 Q149.14 638.263 149.14 629.537 Q149.14 620.787 152.195 616.203 Q155.274 611.597 161.084 611.597 Z\" fill=\"#000000\" fill-rule=\"evenodd\" fill-opacity=\"1\" /><path clip-path=\"url(#clip130)\" d=\"M50.9921 372.683 L80.6679 372.683 L80.6679 376.618 L50.9921 376.618 L50.9921 372.683 Z\" fill=\"#000000\" fill-rule=\"evenodd\" fill-opacity=\"1\" /><path clip-path=\"url(#clip130)\" d=\"M91.5706 385.576 L99.2095 385.576 L99.2095 359.211 L90.8993 360.877 L90.8993 356.618 L99.1632 354.951 L103.839 354.951 L103.839 385.576 L111.478 385.576 L111.478 389.511 L91.5706 389.511 L91.5706 385.576 Z\" fill=\"#000000\" fill-rule=\"evenodd\" fill-opacity=\"1\" /><path clip-path=\"url(#clip130)\" d=\"M130.922 358.03 Q127.311 358.03 125.482 361.595 Q123.677 365.137 123.677 372.266 Q123.677 379.373 125.482 382.937 Q127.311 386.479 130.922 386.479 Q134.556 386.479 136.362 382.937 Q138.191 379.373 138.191 372.266 Q138.191 365.137 136.362 361.595 Q134.556 358.03 130.922 358.03 M130.922 354.326 Q136.732 354.326 139.788 358.933 Q142.867 363.516 142.867 372.266 Q142.867 380.993 139.788 385.599 Q136.732 390.183 130.922 390.183 Q125.112 390.183 122.033 385.599 Q118.978 380.993 118.978 372.266 Q118.978 363.516 122.033 358.933 Q125.112 354.326 130.922 354.326 Z\" fill=\"#000000\" fill-rule=\"evenodd\" fill-opacity=\"1\" /><path clip-path=\"url(#clip130)\" d=\"M161.084 358.03 Q157.473 358.03 155.644 361.595 Q153.839 365.137 153.839 372.266 Q153.839 379.373 155.644 382.937 Q157.473 386.479 161.084 386.479 Q164.718 386.479 166.524 382.937 Q168.353 379.373 168.353 372.266 Q168.353 365.137 166.524 361.595 Q164.718 358.03 161.084 358.03 M161.084 354.326 Q166.894 354.326 169.95 358.933 Q173.029 363.516 173.029 372.266 Q173.029 380.993 169.95 385.599 Q166.894 390.183 161.084 390.183 Q155.274 390.183 152.195 385.599 Q149.14 380.993 149.14 372.266 Q149.14 363.516 152.195 358.933 Q155.274 354.326 161.084 354.326 Z\" fill=\"#000000\" fill-rule=\"evenodd\" fill-opacity=\"1\" /><path clip-path=\"url(#clip130)\" d=\"M161.084 100.76 Q157.473 100.76 155.644 104.325 Q153.839 107.866 153.839 114.996 Q153.839 122.102 155.644 125.667 Q157.473 129.209 161.084 129.209 Q164.718 129.209 166.524 125.667 Q168.353 122.102 168.353 114.996 Q168.353 107.866 166.524 104.325 Q164.718 100.76 161.084 100.76 M161.084 97.0561 Q166.894 97.0561 169.95 101.663 Q173.029 106.246 173.029 114.996 Q173.029 123.723 169.95 128.329 Q166.894 132.912 161.084 132.912 Q155.274 132.912 152.195 128.329 Q149.14 123.723 149.14 114.996 Q149.14 106.246 152.195 101.663 Q155.274 97.0561 161.084 97.0561 Z\" fill=\"#000000\" fill-rule=\"evenodd\" fill-opacity=\"1\" /><polyline clip-path=\"url(#clip132)\" style=\"stroke:#009af9; stroke-linecap:round; stroke-linejoin:round; stroke-width:4; stroke-opacity:1; fill:none\" points=\"\n",
       "  269.7,87.9763 308.592,101.469 347.484,101.469 386.376,101.469 425.268,101.469 464.16,101.469 503.052,101.469 541.944,101.469 580.836,101.469 619.728,101.469 \n",
       "  658.62,101.469 697.512,101.469 736.404,101.469 775.296,101.469 814.188,101.469 853.08,101.469 891.972,101.469 930.864,101.469 969.756,101.469 1008.65,101.469 \n",
       "  1047.54,101.469 1086.43,101.469 1125.32,101.469 1164.22,101.469 1203.11,101.469 1242,101.469 1280.89,101.469 1319.78,101.469 1358.68,101.469 1397.57,101.469 \n",
       "  1436.46,101.469 1475.35,101.469 1514.24,101.469 1553.14,101.469 1592.03,101.469 1630.92,101.469 1669.81,101.469 1708.7,101.469 1747.6,101.469 1786.49,101.469 \n",
       "  1825.38,101.469 1864.27,101.469 1903.16,101.469 1942.06,114.484 1980.95,114.484 2019.84,114.484 2058.73,114.484 2097.62,114.484 2136.52,114.484 2175.41,114.484 \n",
       "  2214.3,114.484 2253.19,114.484 2292.08,114.484 \n",
       "  \"/>\n",
       "<polyline clip-path=\"url(#clip132)\" style=\"stroke:#e26f46; stroke-linecap:round; stroke-linejoin:round; stroke-width:4; stroke-opacity:1; fill:none\" points=\"\n",
       "  269.7,1437.22 308.592,1422.65 347.484,1431.14 386.376,1436.88 425.268,1403.04 464.16,1422.65 503.052,1433.98 541.944,1436.88 580.836,1433.98 619.728,1445.72 \n",
       "  658.62,1433.98 697.512,1433.98 736.404,1420.62 775.296,1422.65 814.188,1433.98 853.08,1422.65 891.972,1408.35 930.864,1436.88 969.756,1433.98 1008.65,1433.98 \n",
       "  1047.54,1403.04 1086.43,1433.98 1125.32,1433.98 1164.22,1433.98 1203.11,1440.83 1242,1431.14 1280.89,1433.98 1319.78,1403.04 1358.68,1403.04 1397.57,1436.88 \n",
       "  1436.46,1436.88 1475.35,1433.98 1514.24,1433.98 1553.14,1422.65 1592.03,1436.88 1630.92,1422.65 1669.81,1433.98 1708.7,1420.62 1747.6,1422.65 1786.49,1403.04 \n",
       "  1825.38,1433.98 1864.27,1433.98 1903.16,1403.04 1942.06,123.513 1980.95,142.588 2019.84,145.425 2058.73,142.588 2097.62,134.098 2136.52,145.425 2175.41,134.098 \n",
       "  2214.3,142.588 2253.19,145.425 2292.08,114.484 \n",
       "  \"/>\n",
       "<path clip-path=\"url(#clip130)\" d=\"\n",
       "M1927.51 1438.47 L2281.3 1438.47 L2281.3 1282.95 L1927.51 1282.95  Z\n",
       "  \" fill=\"#ffffff\" fill-rule=\"evenodd\" fill-opacity=\"1\"/>\n",
       "<polyline clip-path=\"url(#clip130)\" style=\"stroke:#000000; stroke-linecap:round; stroke-linejoin:round; stroke-width:4; stroke-opacity:1; fill:none\" points=\"\n",
       "  1927.51,1438.47 2281.3,1438.47 2281.3,1282.95 1927.51,1282.95 1927.51,1438.47 \n",
       "  \"/>\n",
       "<polyline clip-path=\"url(#clip130)\" style=\"stroke:#009af9; stroke-linecap:round; stroke-linejoin:round; stroke-width:4; stroke-opacity:1; fill:none\" points=\"\n",
       "  1951.32,1334.79 2094.24,1334.79 \n",
       "  \"/>\n",
       "<path clip-path=\"url(#clip130)\" d=\"M2118.06 1317.51 L2122.76 1317.51 L2122.76 1338.51 Q2122.76 1344.07 2124.77 1346.52 Q2126.79 1348.95 2131.3 1348.95 Q2135.79 1348.95 2137.8 1346.52 Q2139.82 1344.07 2139.82 1338.51 L2139.82 1317.51 L2144.52 1317.51 L2144.52 1339.09 Q2144.52 1345.85 2141.16 1349.3 Q2137.83 1352.75 2131.3 1352.75 Q2124.75 1352.75 2121.39 1349.3 Q2118.06 1345.85 2118.06 1339.09 L2118.06 1317.51 Z\" fill=\"#000000\" fill-rule=\"evenodd\" fill-opacity=\"1\" /><path clip-path=\"url(#clip130)\" d=\"M2157.23 1348.19 L2157.23 1361.94 L2152.94 1361.94 L2152.94 1326.15 L2157.23 1326.15 L2157.23 1330.08 Q2158.57 1327.77 2160.6 1326.66 Q2162.66 1325.52 2165.51 1325.52 Q2170.23 1325.52 2173.17 1329.27 Q2176.14 1333.02 2176.14 1339.13 Q2176.14 1345.25 2173.17 1349 Q2170.23 1352.75 2165.51 1352.75 Q2162.66 1352.75 2160.6 1351.63 Q2158.57 1350.5 2157.23 1348.19 M2171.72 1339.13 Q2171.72 1334.44 2169.77 1331.77 Q2167.85 1329.09 2164.47 1329.09 Q2161.09 1329.09 2159.15 1331.77 Q2157.23 1334.44 2157.23 1339.13 Q2157.23 1343.83 2159.15 1346.52 Q2161.09 1349.18 2164.47 1349.18 Q2167.85 1349.18 2169.77 1346.52 Q2171.72 1343.83 2171.72 1339.13 Z\" fill=\"#000000\" fill-rule=\"evenodd\" fill-opacity=\"1\" /><path clip-path=\"url(#clip130)\" d=\"M2187.32 1348.19 L2187.32 1361.94 L2183.04 1361.94 L2183.04 1326.15 L2187.32 1326.15 L2187.32 1330.08 Q2188.66 1327.77 2190.7 1326.66 Q2192.76 1325.52 2195.6 1325.52 Q2200.33 1325.52 2203.27 1329.27 Q2206.23 1333.02 2206.23 1339.13 Q2206.23 1345.25 2203.27 1349 Q2200.33 1352.75 2195.6 1352.75 Q2192.76 1352.75 2190.7 1351.63 Q2188.66 1350.5 2187.32 1348.19 M2201.81 1339.13 Q2201.81 1334.44 2199.86 1331.77 Q2197.94 1329.09 2194.56 1329.09 Q2191.18 1329.09 2189.24 1331.77 Q2187.32 1334.44 2187.32 1339.13 Q2187.32 1343.83 2189.24 1346.52 Q2191.18 1349.18 2194.56 1349.18 Q2197.94 1349.18 2199.86 1346.52 Q2201.81 1343.83 2201.81 1339.13 Z\" fill=\"#000000\" fill-rule=\"evenodd\" fill-opacity=\"1\" /><path clip-path=\"url(#clip130)\" d=\"M2235.47 1338.05 L2235.47 1340.13 L2215.88 1340.13 Q2216.16 1344.53 2218.52 1346.84 Q2220.91 1349.13 2225.14 1349.13 Q2227.6 1349.13 2229.89 1348.53 Q2232.2 1347.93 2234.47 1346.73 L2234.47 1350.75 Q2232.18 1351.73 2229.77 1352.24 Q2227.36 1352.75 2224.89 1352.75 Q2218.68 1352.75 2215.05 1349.13 Q2211.44 1345.52 2211.44 1339.37 Q2211.44 1333 2214.86 1329.27 Q2218.31 1325.52 2224.15 1325.52 Q2229.38 1325.52 2232.41 1328.9 Q2235.47 1332.26 2235.47 1338.05 M2231.21 1336.8 Q2231.16 1333.3 2229.24 1331.22 Q2227.34 1329.13 2224.19 1329.13 Q2220.63 1329.13 2218.47 1331.15 Q2216.35 1333.16 2216.02 1336.82 L2231.21 1336.8 Z\" fill=\"#000000\" fill-rule=\"evenodd\" fill-opacity=\"1\" /><path clip-path=\"url(#clip130)\" d=\"M2257.48 1330.13 Q2256.76 1329.71 2255.91 1329.53 Q2255.07 1329.32 2254.05 1329.32 Q2250.44 1329.32 2248.5 1331.68 Q2246.58 1334.02 2246.58 1338.42 L2246.58 1352.07 L2242.29 1352.07 L2242.29 1326.15 L2246.58 1326.15 L2246.58 1330.18 Q2247.92 1327.82 2250.07 1326.68 Q2252.22 1325.52 2255.3 1325.52 Q2255.74 1325.52 2256.28 1325.59 Q2256.81 1325.64 2257.46 1325.76 L2257.48 1330.13 Z\" fill=\"#000000\" fill-rule=\"evenodd\" fill-opacity=\"1\" /><polyline clip-path=\"url(#clip130)\" style=\"stroke:#e26f46; stroke-linecap:round; stroke-linejoin:round; stroke-width:4; stroke-opacity:1; fill:none\" points=\"\n",
       "  1951.32,1386.63 2094.24,1386.63 \n",
       "  \"/>\n",
       "<path clip-path=\"url(#clip130)\" d=\"M2118.06 1369.35 L2122.73 1369.35 L2122.73 1399.98 L2139.56 1399.98 L2139.56 1403.91 L2118.06 1403.91 L2118.06 1369.35 Z\" fill=\"#000000\" fill-rule=\"evenodd\" fill-opacity=\"1\" /><path clip-path=\"url(#clip130)\" d=\"M2153.5 1380.97 Q2150.07 1380.97 2148.08 1383.66 Q2146.09 1386.32 2146.09 1390.97 Q2146.09 1395.63 2148.06 1398.31 Q2150.05 1400.97 2153.5 1400.97 Q2156.9 1400.97 2158.89 1398.29 Q2160.88 1395.6 2160.88 1390.97 Q2160.88 1386.37 2158.89 1383.68 Q2156.9 1380.97 2153.5 1380.97 M2153.5 1377.36 Q2159.05 1377.36 2162.23 1380.97 Q2165.4 1384.59 2165.4 1390.97 Q2165.4 1397.34 2162.23 1400.97 Q2159.05 1404.59 2153.5 1404.59 Q2147.92 1404.59 2144.75 1400.97 Q2141.6 1397.34 2141.6 1390.97 Q2141.6 1384.59 2144.75 1380.97 Q2147.92 1377.36 2153.5 1377.36 Z\" fill=\"#000000\" fill-rule=\"evenodd\" fill-opacity=\"1\" /><path clip-path=\"url(#clip130)\" d=\"M2169.98 1377.99 L2174.24 1377.99 L2179.56 1398.22 L2184.86 1377.99 L2189.89 1377.99 L2195.21 1398.22 L2200.51 1377.99 L2204.77 1377.99 L2197.99 1403.91 L2192.97 1403.91 L2187.39 1382.66 L2181.79 1403.91 L2176.76 1403.91 L2169.98 1377.99 Z\" fill=\"#000000\" fill-rule=\"evenodd\" fill-opacity=\"1\" /><path clip-path=\"url(#clip130)\" d=\"M2233.41 1389.89 L2233.41 1391.97 L2213.82 1391.97 Q2214.1 1396.37 2216.46 1398.68 Q2218.85 1400.97 2223.08 1400.97 Q2225.53 1400.97 2227.83 1400.37 Q2230.14 1399.77 2232.41 1398.57 L2232.41 1402.59 Q2230.12 1403.57 2227.71 1404.08 Q2225.3 1404.59 2222.83 1404.59 Q2216.62 1404.59 2212.99 1400.97 Q2209.38 1397.36 2209.38 1391.21 Q2209.38 1384.84 2212.8 1381.11 Q2216.25 1377.36 2222.09 1377.36 Q2227.32 1377.36 2230.35 1380.74 Q2233.41 1384.1 2233.41 1389.89 M2229.15 1388.64 Q2229.1 1385.14 2227.18 1383.06 Q2225.28 1380.97 2222.13 1380.97 Q2218.57 1380.97 2216.41 1382.99 Q2214.28 1385 2213.96 1388.66 L2229.15 1388.64 Z\" fill=\"#000000\" fill-rule=\"evenodd\" fill-opacity=\"1\" /><path clip-path=\"url(#clip130)\" d=\"M2255.42 1381.97 Q2254.7 1381.55 2253.84 1381.37 Q2253.01 1381.16 2251.99 1381.16 Q2248.38 1381.16 2246.44 1383.52 Q2244.52 1385.86 2244.52 1390.26 L2244.52 1403.91 L2240.23 1403.91 L2240.23 1377.99 L2244.52 1377.99 L2244.52 1382.02 Q2245.86 1379.66 2248.01 1378.52 Q2250.16 1377.36 2253.24 1377.36 Q2253.68 1377.36 2254.22 1377.43 Q2254.75 1377.48 2255.4 1377.6 L2255.42 1381.97 Z\" fill=\"#000000\" fill-rule=\"evenodd\" fill-opacity=\"1\" /></svg>\n"
      ],
      "text/html": [
       "<?xml version=\"1.0\" encoding=\"utf-8\"?>\n",
       "<svg xmlns=\"http://www.w3.org/2000/svg\" xmlns:xlink=\"http://www.w3.org/1999/xlink\" width=\"600\" height=\"400\" viewBox=\"0 0 2400 1600\">\n",
       "<defs>\n",
       "  <clipPath id=\"clip180\">\n",
       "    <rect x=\"0\" y=\"0\" width=\"2400\" height=\"1600\"/>\n",
       "  </clipPath>\n",
       "</defs>\n",
       "<path clip-path=\"url(#clip180)\" d=\"\n",
       "M0 1600 L2400 1600 L2400 0 L0 0  Z\n",
       "  \" fill=\"#ffffff\" fill-rule=\"evenodd\" fill-opacity=\"1\"/>\n",
       "<defs>\n",
       "  <clipPath id=\"clip181\">\n",
       "    <rect x=\"480\" y=\"0\" width=\"1681\" height=\"1600\"/>\n",
       "  </clipPath>\n",
       "</defs>\n",
       "<path clip-path=\"url(#clip180)\" d=\"\n",
       "M209.029 1486.45 L2352.76 1486.45 L2352.76 47.2441 L209.029 47.2441  Z\n",
       "  \" fill=\"#ffffff\" fill-rule=\"evenodd\" fill-opacity=\"1\"/>\n",
       "<defs>\n",
       "  <clipPath id=\"clip182\">\n",
       "    <rect x=\"209\" y=\"47\" width=\"2145\" height=\"1440\"/>\n",
       "  </clipPath>\n",
       "</defs>\n",
       "<polyline clip-path=\"url(#clip182)\" style=\"stroke:#000000; stroke-linecap:round; stroke-linejoin:round; stroke-width:2; stroke-opacity:0.1; fill:none\" points=\"\n",
       "  230.808,1486.45 230.808,47.2441 \n",
       "  \"/>\n",
       "<polyline clip-path=\"url(#clip182)\" style=\"stroke:#000000; stroke-linecap:round; stroke-linejoin:round; stroke-width:2; stroke-opacity:0.1; fill:none\" points=\"\n",
       "  619.728,1486.45 619.728,47.2441 \n",
       "  \"/>\n",
       "<polyline clip-path=\"url(#clip182)\" style=\"stroke:#000000; stroke-linecap:round; stroke-linejoin:round; stroke-width:2; stroke-opacity:0.1; fill:none\" points=\"\n",
       "  1008.65,1486.45 1008.65,47.2441 \n",
       "  \"/>\n",
       "<polyline clip-path=\"url(#clip182)\" style=\"stroke:#000000; stroke-linecap:round; stroke-linejoin:round; stroke-width:2; stroke-opacity:0.1; fill:none\" points=\"\n",
       "  1397.57,1486.45 1397.57,47.2441 \n",
       "  \"/>\n",
       "<polyline clip-path=\"url(#clip182)\" style=\"stroke:#000000; stroke-linecap:round; stroke-linejoin:round; stroke-width:2; stroke-opacity:0.1; fill:none\" points=\"\n",
       "  1786.49,1486.45 1786.49,47.2441 \n",
       "  \"/>\n",
       "<polyline clip-path=\"url(#clip182)\" style=\"stroke:#000000; stroke-linecap:round; stroke-linejoin:round; stroke-width:2; stroke-opacity:0.1; fill:none\" points=\"\n",
       "  2175.41,1486.45 2175.41,47.2441 \n",
       "  \"/>\n",
       "<polyline clip-path=\"url(#clip180)\" style=\"stroke:#000000; stroke-linecap:round; stroke-linejoin:round; stroke-width:4; stroke-opacity:1; fill:none\" points=\"\n",
       "  209.029,1486.45 2352.76,1486.45 \n",
       "  \"/>\n",
       "<polyline clip-path=\"url(#clip180)\" style=\"stroke:#000000; stroke-linecap:round; stroke-linejoin:round; stroke-width:4; stroke-opacity:1; fill:none\" points=\"\n",
       "  230.808,1486.45 230.808,1467.55 \n",
       "  \"/>\n",
       "<polyline clip-path=\"url(#clip180)\" style=\"stroke:#000000; stroke-linecap:round; stroke-linejoin:round; stroke-width:4; stroke-opacity:1; fill:none\" points=\"\n",
       "  619.728,1486.45 619.728,1467.55 \n",
       "  \"/>\n",
       "<polyline clip-path=\"url(#clip180)\" style=\"stroke:#000000; stroke-linecap:round; stroke-linejoin:round; stroke-width:4; stroke-opacity:1; fill:none\" points=\"\n",
       "  1008.65,1486.45 1008.65,1467.55 \n",
       "  \"/>\n",
       "<polyline clip-path=\"url(#clip180)\" style=\"stroke:#000000; stroke-linecap:round; stroke-linejoin:round; stroke-width:4; stroke-opacity:1; fill:none\" points=\"\n",
       "  1397.57,1486.45 1397.57,1467.55 \n",
       "  \"/>\n",
       "<polyline clip-path=\"url(#clip180)\" style=\"stroke:#000000; stroke-linecap:round; stroke-linejoin:round; stroke-width:4; stroke-opacity:1; fill:none\" points=\"\n",
       "  1786.49,1486.45 1786.49,1467.55 \n",
       "  \"/>\n",
       "<polyline clip-path=\"url(#clip180)\" style=\"stroke:#000000; stroke-linecap:round; stroke-linejoin:round; stroke-width:4; stroke-opacity:1; fill:none\" points=\"\n",
       "  2175.41,1486.45 2175.41,1467.55 \n",
       "  \"/>\n",
       "<path clip-path=\"url(#clip180)\" d=\"M230.808 1517.37 Q227.197 1517.37 225.368 1520.93 Q223.563 1524.47 223.563 1531.6 Q223.563 1538.71 225.368 1542.27 Q227.197 1545.82 230.808 1545.82 Q234.442 1545.82 236.248 1542.27 Q238.077 1538.71 238.077 1531.6 Q238.077 1524.47 236.248 1520.93 Q234.442 1517.37 230.808 1517.37 M230.808 1513.66 Q236.618 1513.66 239.674 1518.27 Q242.752 1522.85 242.752 1531.6 Q242.752 1540.33 239.674 1544.94 Q236.618 1549.52 230.808 1549.52 Q224.998 1549.52 221.919 1544.94 Q218.864 1540.33 218.864 1531.6 Q218.864 1522.85 221.919 1518.27 Q224.998 1513.66 230.808 1513.66 Z\" fill=\"#000000\" fill-rule=\"evenodd\" fill-opacity=\"1\" /><path clip-path=\"url(#clip180)\" d=\"M594.416 1544.91 L602.055 1544.91 L602.055 1518.55 L593.744 1520.21 L593.744 1515.95 L602.008 1514.29 L606.684 1514.29 L606.684 1544.91 L614.323 1544.91 L614.323 1548.85 L594.416 1548.85 L594.416 1544.91 Z\" fill=\"#000000\" fill-rule=\"evenodd\" fill-opacity=\"1\" /><path clip-path=\"url(#clip180)\" d=\"M633.767 1517.37 Q630.156 1517.37 628.328 1520.93 Q626.522 1524.47 626.522 1531.6 Q626.522 1538.71 628.328 1542.27 Q630.156 1545.82 633.767 1545.82 Q637.402 1545.82 639.207 1542.27 Q641.036 1538.71 641.036 1531.6 Q641.036 1524.47 639.207 1520.93 Q637.402 1517.37 633.767 1517.37 M633.767 1513.66 Q639.578 1513.66 642.633 1518.27 Q645.712 1522.85 645.712 1531.6 Q645.712 1540.33 642.633 1544.94 Q639.578 1549.52 633.767 1549.52 Q627.957 1549.52 624.879 1544.94 Q621.823 1540.33 621.823 1531.6 Q621.823 1522.85 624.879 1518.27 Q627.957 1513.66 633.767 1513.66 Z\" fill=\"#000000\" fill-rule=\"evenodd\" fill-opacity=\"1\" /><path clip-path=\"url(#clip180)\" d=\"M987.421 1544.91 L1003.74 1544.91 L1003.74 1548.85 L981.796 1548.85 L981.796 1544.91 Q984.458 1542.16 989.042 1537.53 Q993.648 1532.88 994.829 1531.53 Q997.074 1529.01 997.954 1527.27 Q998.857 1525.51 998.857 1523.82 Q998.857 1521.07 996.912 1519.33 Q994.991 1517.6 991.889 1517.6 Q989.69 1517.6 987.236 1518.36 Q984.806 1519.13 982.028 1520.68 L982.028 1515.95 Q984.852 1514.82 987.306 1514.24 Q989.759 1513.66 991.796 1513.66 Q997.167 1513.66 1000.36 1516.35 Q1003.56 1519.03 1003.56 1523.52 Q1003.56 1525.65 1002.75 1527.57 Q1001.96 1529.47 999.852 1532.07 Q999.273 1532.74 996.171 1535.95 Q993.07 1539.15 987.421 1544.91 Z\" fill=\"#000000\" fill-rule=\"evenodd\" fill-opacity=\"1\" /><path clip-path=\"url(#clip180)\" d=\"M1023.56 1517.37 Q1019.94 1517.37 1018.12 1520.93 Q1016.31 1524.47 1016.31 1531.6 Q1016.31 1538.71 1018.12 1542.27 Q1019.94 1545.82 1023.56 1545.82 Q1027.19 1545.82 1029 1542.27 Q1030.82 1538.71 1030.82 1531.6 Q1030.82 1524.47 1029 1520.93 Q1027.19 1517.37 1023.56 1517.37 M1023.56 1513.66 Q1029.37 1513.66 1032.42 1518.27 Q1035.5 1522.85 1035.5 1531.6 Q1035.5 1540.33 1032.42 1544.94 Q1029.37 1549.52 1023.56 1549.52 Q1017.75 1549.52 1014.67 1544.94 Q1011.61 1540.33 1011.61 1531.6 Q1011.61 1522.85 1014.67 1518.27 Q1017.75 1513.66 1023.56 1513.66 Z\" fill=\"#000000\" fill-rule=\"evenodd\" fill-opacity=\"1\" /><path clip-path=\"url(#clip180)\" d=\"M1386.41 1530.21 Q1389.77 1530.93 1391.64 1533.2 Q1393.54 1535.47 1393.54 1538.8 Q1393.54 1543.92 1390.02 1546.72 Q1386.5 1549.52 1380.02 1549.52 Q1377.85 1549.52 1375.53 1549.08 Q1373.24 1548.66 1370.79 1547.81 L1370.79 1543.29 Q1372.73 1544.43 1375.05 1545.01 Q1377.36 1545.58 1379.88 1545.58 Q1384.28 1545.58 1386.57 1543.85 Q1388.89 1542.11 1388.89 1538.8 Q1388.89 1535.75 1386.73 1534.03 Q1384.61 1532.3 1380.79 1532.3 L1376.76 1532.3 L1376.76 1528.45 L1380.97 1528.45 Q1384.42 1528.45 1386.25 1527.09 Q1388.08 1525.7 1388.08 1523.11 Q1388.08 1520.45 1386.18 1519.03 Q1384.3 1517.6 1380.79 1517.6 Q1378.86 1517.6 1376.67 1518.01 Q1374.47 1518.43 1371.83 1519.31 L1371.83 1515.14 Q1374.49 1514.4 1376.8 1514.03 Q1379.14 1513.66 1381.2 1513.66 Q1386.53 1513.66 1389.63 1516.09 Q1392.73 1518.5 1392.73 1522.62 Q1392.73 1525.49 1391.09 1527.48 Q1389.44 1529.45 1386.41 1530.21 Z\" fill=\"#000000\" fill-rule=\"evenodd\" fill-opacity=\"1\" /><path clip-path=\"url(#clip180)\" d=\"M1412.41 1517.37 Q1408.8 1517.37 1406.97 1520.93 Q1405.16 1524.47 1405.16 1531.6 Q1405.16 1538.71 1406.97 1542.27 Q1408.8 1545.82 1412.41 1545.82 Q1416.04 1545.82 1417.85 1542.27 Q1419.67 1538.71 1419.67 1531.6 Q1419.67 1524.47 1417.85 1520.93 Q1416.04 1517.37 1412.41 1517.37 M1412.41 1513.66 Q1418.22 1513.66 1421.27 1518.27 Q1424.35 1522.85 1424.35 1531.6 Q1424.35 1540.33 1421.27 1544.94 Q1418.22 1549.52 1412.41 1549.52 Q1406.6 1549.52 1403.52 1544.94 Q1400.46 1540.33 1400.46 1531.6 Q1400.46 1522.85 1403.52 1518.27 Q1406.6 1513.66 1412.41 1513.66 Z\" fill=\"#000000\" fill-rule=\"evenodd\" fill-opacity=\"1\" /><path clip-path=\"url(#clip180)\" d=\"M1774.66 1518.36 L1762.85 1536.81 L1774.66 1536.81 L1774.66 1518.36 M1773.43 1514.29 L1779.31 1514.29 L1779.31 1536.81 L1784.24 1536.81 L1784.24 1540.7 L1779.31 1540.7 L1779.31 1548.85 L1774.66 1548.85 L1774.66 1540.7 L1759.06 1540.7 L1759.06 1536.19 L1773.43 1514.29 Z\" fill=\"#000000\" fill-rule=\"evenodd\" fill-opacity=\"1\" /><path clip-path=\"url(#clip180)\" d=\"M1801.97 1517.37 Q1798.36 1517.37 1796.53 1520.93 Q1794.73 1524.47 1794.73 1531.6 Q1794.73 1538.71 1796.53 1542.27 Q1798.36 1545.82 1801.97 1545.82 Q1805.61 1545.82 1807.41 1542.27 Q1809.24 1538.71 1809.24 1531.6 Q1809.24 1524.47 1807.41 1520.93 Q1805.61 1517.37 1801.97 1517.37 M1801.97 1513.66 Q1807.78 1513.66 1810.84 1518.27 Q1813.92 1522.85 1813.92 1531.6 Q1813.92 1540.33 1810.84 1544.94 Q1807.78 1549.52 1801.97 1549.52 Q1796.16 1549.52 1793.09 1544.94 Q1790.03 1540.33 1790.03 1531.6 Q1790.03 1522.85 1793.09 1518.27 Q1796.16 1513.66 1801.97 1513.66 Z\" fill=\"#000000\" fill-rule=\"evenodd\" fill-opacity=\"1\" /><path clip-path=\"url(#clip180)\" d=\"M2150.11 1514.29 L2168.46 1514.29 L2168.46 1518.22 L2154.39 1518.22 L2154.39 1526.7 Q2155.41 1526.35 2156.43 1526.19 Q2157.45 1526 2158.46 1526 Q2164.25 1526 2167.63 1529.17 Q2171.01 1532.34 2171.01 1537.76 Q2171.01 1543.34 2167.54 1546.44 Q2164.07 1549.52 2157.75 1549.52 Q2155.57 1549.52 2153.3 1549.15 Q2151.06 1548.78 2148.65 1548.04 L2148.65 1543.34 Q2150.73 1544.47 2152.95 1545.03 Q2155.18 1545.58 2157.65 1545.58 Q2161.66 1545.58 2164 1543.48 Q2166.33 1541.37 2166.33 1537.76 Q2166.33 1534.15 2164 1532.04 Q2161.66 1529.94 2157.65 1529.94 Q2155.78 1529.94 2153.9 1530.35 Q2152.05 1530.77 2150.11 1531.65 L2150.11 1514.29 Z\" fill=\"#000000\" fill-rule=\"evenodd\" fill-opacity=\"1\" /><path clip-path=\"url(#clip180)\" d=\"M2190.22 1517.37 Q2186.61 1517.37 2184.78 1520.93 Q2182.98 1524.47 2182.98 1531.6 Q2182.98 1538.71 2184.78 1542.27 Q2186.61 1545.82 2190.22 1545.82 Q2193.86 1545.82 2195.66 1542.27 Q2197.49 1538.71 2197.49 1531.6 Q2197.49 1524.47 2195.66 1520.93 Q2193.86 1517.37 2190.22 1517.37 M2190.22 1513.66 Q2196.03 1513.66 2199.09 1518.27 Q2202.17 1522.85 2202.17 1531.6 Q2202.17 1540.33 2199.09 1544.94 Q2196.03 1549.52 2190.22 1549.52 Q2184.41 1549.52 2181.33 1544.94 Q2178.28 1540.33 2178.28 1531.6 Q2178.28 1522.85 2181.33 1518.27 Q2184.41 1513.66 2190.22 1513.66 Z\" fill=\"#000000\" fill-rule=\"evenodd\" fill-opacity=\"1\" /><polyline clip-path=\"url(#clip182)\" style=\"stroke:#000000; stroke-linecap:round; stroke-linejoin:round; stroke-width:2; stroke-opacity:0.1; fill:none\" points=\"\n",
       "  209.029,1401.31 2352.76,1401.31 \n",
       "  \"/>\n",
       "<polyline clip-path=\"url(#clip182)\" style=\"stroke:#000000; stroke-linecap:round; stroke-linejoin:round; stroke-width:2; stroke-opacity:0.1; fill:none\" points=\"\n",
       "  209.029,1144.04 2352.76,1144.04 \n",
       "  \"/>\n",
       "<polyline clip-path=\"url(#clip182)\" style=\"stroke:#000000; stroke-linecap:round; stroke-linejoin:round; stroke-width:2; stroke-opacity:0.1; fill:none\" points=\"\n",
       "  209.029,886.772 2352.76,886.772 \n",
       "  \"/>\n",
       "<polyline clip-path=\"url(#clip182)\" style=\"stroke:#000000; stroke-linecap:round; stroke-linejoin:round; stroke-width:2; stroke-opacity:0.1; fill:none\" points=\"\n",
       "  209.029,629.502 2352.76,629.502 \n",
       "  \"/>\n",
       "<polyline clip-path=\"url(#clip182)\" style=\"stroke:#000000; stroke-linecap:round; stroke-linejoin:round; stroke-width:2; stroke-opacity:0.1; fill:none\" points=\"\n",
       "  209.029,372.231 2352.76,372.231 \n",
       "  \"/>\n",
       "<polyline clip-path=\"url(#clip182)\" style=\"stroke:#000000; stroke-linecap:round; stroke-linejoin:round; stroke-width:2; stroke-opacity:0.1; fill:none\" points=\"\n",
       "  209.029,114.961 2352.76,114.961 \n",
       "  \"/>\n",
       "<polyline clip-path=\"url(#clip180)\" style=\"stroke:#000000; stroke-linecap:round; stroke-linejoin:round; stroke-width:4; stroke-opacity:1; fill:none\" points=\"\n",
       "  209.029,1486.45 209.029,47.2441 \n",
       "  \"/>\n",
       "<polyline clip-path=\"url(#clip180)\" style=\"stroke:#000000; stroke-linecap:round; stroke-linejoin:round; stroke-width:4; stroke-opacity:1; fill:none\" points=\"\n",
       "  209.029,1401.31 227.926,1401.31 \n",
       "  \"/>\n",
       "<polyline clip-path=\"url(#clip180)\" style=\"stroke:#000000; stroke-linecap:round; stroke-linejoin:round; stroke-width:4; stroke-opacity:1; fill:none\" points=\"\n",
       "  209.029,1144.04 227.926,1144.04 \n",
       "  \"/>\n",
       "<polyline clip-path=\"url(#clip180)\" style=\"stroke:#000000; stroke-linecap:round; stroke-linejoin:round; stroke-width:4; stroke-opacity:1; fill:none\" points=\"\n",
       "  209.029,886.772 227.926,886.772 \n",
       "  \"/>\n",
       "<polyline clip-path=\"url(#clip180)\" style=\"stroke:#000000; stroke-linecap:round; stroke-linejoin:round; stroke-width:4; stroke-opacity:1; fill:none\" points=\"\n",
       "  209.029,629.502 227.926,629.502 \n",
       "  \"/>\n",
       "<polyline clip-path=\"url(#clip180)\" style=\"stroke:#000000; stroke-linecap:round; stroke-linejoin:round; stroke-width:4; stroke-opacity:1; fill:none\" points=\"\n",
       "  209.029,372.231 227.926,372.231 \n",
       "  \"/>\n",
       "<polyline clip-path=\"url(#clip180)\" style=\"stroke:#000000; stroke-linecap:round; stroke-linejoin:round; stroke-width:4; stroke-opacity:1; fill:none\" points=\"\n",
       "  209.029,114.961 227.926,114.961 \n",
       "  \"/>\n",
       "<path clip-path=\"url(#clip180)\" d=\"M50.9921 1401.76 L80.6679 1401.76 L80.6679 1405.7 L50.9921 1405.7 L50.9921 1401.76 Z\" fill=\"#000000\" fill-rule=\"evenodd\" fill-opacity=\"1\" /><path clip-path=\"url(#clip180)\" d=\"M90.8067 1384.03 L109.163 1384.03 L109.163 1387.97 L95.0891 1387.97 L95.0891 1396.44 Q96.1076 1396.09 97.1261 1395.93 Q98.1447 1395.75 99.1632 1395.75 Q104.95 1395.75 108.33 1398.92 Q111.709 1402.09 111.709 1407.51 Q111.709 1413.08 108.237 1416.19 Q104.765 1419.26 98.4456 1419.26 Q96.2697 1419.26 94.0012 1418.89 Q91.7558 1418.52 89.3484 1417.78 L89.3484 1413.08 Q91.4317 1414.22 93.6539 1414.77 Q95.8761 1415.33 98.353 1415.33 Q102.358 1415.33 104.696 1413.22 Q107.033 1411.12 107.033 1407.51 Q107.033 1403.89 104.696 1401.79 Q102.358 1399.68 98.353 1399.68 Q96.478 1399.68 94.603 1400.1 Q92.7512 1400.51 90.8067 1401.39 L90.8067 1384.03 Z\" fill=\"#000000\" fill-rule=\"evenodd\" fill-opacity=\"1\" /><path clip-path=\"url(#clip180)\" d=\"M130.922 1387.11 Q127.311 1387.11 125.482 1390.68 Q123.677 1394.22 123.677 1401.35 Q123.677 1408.45 125.482 1412.02 Q127.311 1415.56 130.922 1415.56 Q134.556 1415.56 136.362 1412.02 Q138.191 1408.45 138.191 1401.35 Q138.191 1394.22 136.362 1390.68 Q134.556 1387.11 130.922 1387.11 M130.922 1383.41 Q136.732 1383.41 139.788 1388.01 Q142.867 1392.6 142.867 1401.35 Q142.867 1410.07 139.788 1414.68 Q136.732 1419.26 130.922 1419.26 Q125.112 1419.26 122.033 1414.68 Q118.978 1410.07 118.978 1401.35 Q118.978 1392.6 122.033 1388.01 Q125.112 1383.41 130.922 1383.41 Z\" fill=\"#000000\" fill-rule=\"evenodd\" fill-opacity=\"1\" /><path clip-path=\"url(#clip180)\" d=\"M161.084 1387.11 Q157.473 1387.11 155.644 1390.68 Q153.839 1394.22 153.839 1401.35 Q153.839 1408.45 155.644 1412.02 Q157.473 1415.56 161.084 1415.56 Q164.718 1415.56 166.524 1412.02 Q168.353 1408.45 168.353 1401.35 Q168.353 1394.22 166.524 1390.68 Q164.718 1387.11 161.084 1387.11 M161.084 1383.41 Q166.894 1383.41 169.95 1388.01 Q173.029 1392.6 173.029 1401.35 Q173.029 1410.07 169.95 1414.68 Q166.894 1419.26 161.084 1419.26 Q155.274 1419.26 152.195 1414.68 Q149.14 1410.07 149.14 1401.35 Q149.14 1392.6 152.195 1388.01 Q155.274 1383.41 161.084 1383.41 Z\" fill=\"#000000\" fill-rule=\"evenodd\" fill-opacity=\"1\" /><path clip-path=\"url(#clip180)\" d=\"M50.9921 1144.49 L80.6679 1144.49 L80.6679 1148.43 L50.9921 1148.43 L50.9921 1144.49 Z\" fill=\"#000000\" fill-rule=\"evenodd\" fill-opacity=\"1\" /><path clip-path=\"url(#clip180)\" d=\"M103.608 1130.84 L91.8021 1149.29 L103.608 1149.29 L103.608 1130.84 M102.381 1126.76 L108.26 1126.76 L108.26 1149.29 L113.191 1149.29 L113.191 1153.17 L108.26 1153.17 L108.26 1161.32 L103.608 1161.32 L103.608 1153.17 L88.0058 1153.17 L88.0058 1148.66 L102.381 1126.76 Z\" fill=\"#000000\" fill-rule=\"evenodd\" fill-opacity=\"1\" /><path clip-path=\"url(#clip180)\" d=\"M130.922 1129.84 Q127.311 1129.84 125.482 1133.41 Q123.677 1136.95 123.677 1144.08 Q123.677 1151.18 125.482 1154.75 Q127.311 1158.29 130.922 1158.29 Q134.556 1158.29 136.362 1154.75 Q138.191 1151.18 138.191 1144.08 Q138.191 1136.95 136.362 1133.41 Q134.556 1129.84 130.922 1129.84 M130.922 1126.14 Q136.732 1126.14 139.788 1130.74 Q142.867 1135.33 142.867 1144.08 Q142.867 1152.8 139.788 1157.41 Q136.732 1161.99 130.922 1161.99 Q125.112 1161.99 122.033 1157.41 Q118.978 1152.8 118.978 1144.08 Q118.978 1135.33 122.033 1130.74 Q125.112 1126.14 130.922 1126.14 Z\" fill=\"#000000\" fill-rule=\"evenodd\" fill-opacity=\"1\" /><path clip-path=\"url(#clip180)\" d=\"M161.084 1129.84 Q157.473 1129.84 155.644 1133.41 Q153.839 1136.95 153.839 1144.08 Q153.839 1151.18 155.644 1154.75 Q157.473 1158.29 161.084 1158.29 Q164.718 1158.29 166.524 1154.75 Q168.353 1151.18 168.353 1144.08 Q168.353 1136.95 166.524 1133.41 Q164.718 1129.84 161.084 1129.84 M161.084 1126.14 Q166.894 1126.14 169.95 1130.74 Q173.029 1135.33 173.029 1144.08 Q173.029 1152.8 169.95 1157.41 Q166.894 1161.99 161.084 1161.99 Q155.274 1161.99 152.195 1157.41 Q149.14 1152.8 149.14 1144.08 Q149.14 1135.33 152.195 1130.74 Q155.274 1126.14 161.084 1126.14 Z\" fill=\"#000000\" fill-rule=\"evenodd\" fill-opacity=\"1\" /><path clip-path=\"url(#clip180)\" d=\"M50.9921 887.224 L80.6679 887.224 L80.6679 891.159 L50.9921 891.159 L50.9921 887.224 Z\" fill=\"#000000\" fill-rule=\"evenodd\" fill-opacity=\"1\" /><path clip-path=\"url(#clip180)\" d=\"M104.927 885.418 Q108.283 886.136 110.158 888.404 Q112.057 890.673 112.057 894.006 Q112.057 899.122 108.538 901.923 Q105.02 904.724 98.5382 904.724 Q96.3623 904.724 94.0475 904.284 Q91.7558 903.867 89.3021 903.011 L89.3021 898.497 Q91.2465 899.631 93.5613 900.21 Q95.8761 900.788 98.3993 900.788 Q102.797 900.788 105.089 899.052 Q107.404 897.316 107.404 894.006 Q107.404 890.95 105.251 889.238 Q103.121 887.501 99.3021 887.501 L95.2743 887.501 L95.2743 883.659 L99.4872 883.659 Q102.936 883.659 104.765 882.293 Q106.594 880.904 106.594 878.312 Q106.594 875.65 104.696 874.238 Q102.821 872.802 99.3021 872.802 Q97.3808 872.802 95.1817 873.219 Q92.9826 873.636 90.3438 874.515 L90.3438 870.349 Q93.0058 869.608 95.3206 869.238 Q97.6585 868.867 99.7187 868.867 Q105.043 868.867 108.145 871.298 Q111.246 873.705 111.246 877.826 Q111.246 880.696 109.603 882.687 Q107.959 884.654 104.927 885.418 Z\" fill=\"#000000\" fill-rule=\"evenodd\" fill-opacity=\"1\" /><path clip-path=\"url(#clip180)\" d=\"M130.922 872.571 Q127.311 872.571 125.482 876.136 Q123.677 879.677 123.677 886.807 Q123.677 893.913 125.482 897.478 Q127.311 901.02 130.922 901.02 Q134.556 901.02 136.362 897.478 Q138.191 893.913 138.191 886.807 Q138.191 879.677 136.362 876.136 Q134.556 872.571 130.922 872.571 M130.922 868.867 Q136.732 868.867 139.788 873.474 Q142.867 878.057 142.867 886.807 Q142.867 895.534 139.788 900.14 Q136.732 904.724 130.922 904.724 Q125.112 904.724 122.033 900.14 Q118.978 895.534 118.978 886.807 Q118.978 878.057 122.033 873.474 Q125.112 868.867 130.922 868.867 Z\" fill=\"#000000\" fill-rule=\"evenodd\" fill-opacity=\"1\" /><path clip-path=\"url(#clip180)\" d=\"M161.084 872.571 Q157.473 872.571 155.644 876.136 Q153.839 879.677 153.839 886.807 Q153.839 893.913 155.644 897.478 Q157.473 901.02 161.084 901.02 Q164.718 901.02 166.524 897.478 Q168.353 893.913 168.353 886.807 Q168.353 879.677 166.524 876.136 Q164.718 872.571 161.084 872.571 M161.084 868.867 Q166.894 868.867 169.95 873.474 Q173.029 878.057 173.029 886.807 Q173.029 895.534 169.95 900.14 Q166.894 904.724 161.084 904.724 Q155.274 904.724 152.195 900.14 Q149.14 895.534 149.14 886.807 Q149.14 878.057 152.195 873.474 Q155.274 868.867 161.084 868.867 Z\" fill=\"#000000\" fill-rule=\"evenodd\" fill-opacity=\"1\" /><path clip-path=\"url(#clip180)\" d=\"M50.9921 629.953 L80.6679 629.953 L80.6679 633.888 L50.9921 633.888 L50.9921 629.953 Z\" fill=\"#000000\" fill-rule=\"evenodd\" fill-opacity=\"1\" /><path clip-path=\"url(#clip180)\" d=\"M94.7882 642.847 L111.108 642.847 L111.108 646.782 L89.1632 646.782 L89.1632 642.847 Q91.8252 640.092 96.4085 635.462 Q101.015 630.81 102.196 629.467 Q104.441 626.944 105.321 625.208 Q106.223 623.449 106.223 621.759 Q106.223 619.004 104.279 617.268 Q102.358 615.532 99.2558 615.532 Q97.0567 615.532 94.603 616.296 Q92.1725 617.06 89.3947 618.611 L89.3947 613.889 Q92.2188 612.754 94.6724 612.176 Q97.1261 611.597 99.1632 611.597 Q104.534 611.597 107.728 614.282 Q110.922 616.967 110.922 621.458 Q110.922 623.588 110.112 625.509 Q109.325 627.407 107.219 630 Q106.64 630.671 103.538 633.888 Q100.436 637.083 94.7882 642.847 Z\" fill=\"#000000\" fill-rule=\"evenodd\" fill-opacity=\"1\" /><path clip-path=\"url(#clip180)\" d=\"M130.922 615.301 Q127.311 615.301 125.482 618.865 Q123.677 622.407 123.677 629.537 Q123.677 636.643 125.482 640.208 Q127.311 643.749 130.922 643.749 Q134.556 643.749 136.362 640.208 Q138.191 636.643 138.191 629.537 Q138.191 622.407 136.362 618.865 Q134.556 615.301 130.922 615.301 M130.922 611.597 Q136.732 611.597 139.788 616.203 Q142.867 620.787 142.867 629.537 Q142.867 638.263 139.788 642.87 Q136.732 647.453 130.922 647.453 Q125.112 647.453 122.033 642.87 Q118.978 638.263 118.978 629.537 Q118.978 620.787 122.033 616.203 Q125.112 611.597 130.922 611.597 Z\" fill=\"#000000\" fill-rule=\"evenodd\" fill-opacity=\"1\" /><path clip-path=\"url(#clip180)\" d=\"M161.084 615.301 Q157.473 615.301 155.644 618.865 Q153.839 622.407 153.839 629.537 Q153.839 636.643 155.644 640.208 Q157.473 643.749 161.084 643.749 Q164.718 643.749 166.524 640.208 Q168.353 636.643 168.353 629.537 Q168.353 622.407 166.524 618.865 Q164.718 615.301 161.084 615.301 M161.084 611.597 Q166.894 611.597 169.95 616.203 Q173.029 620.787 173.029 629.537 Q173.029 638.263 169.95 642.87 Q166.894 647.453 161.084 647.453 Q155.274 647.453 152.195 642.87 Q149.14 638.263 149.14 629.537 Q149.14 620.787 152.195 616.203 Q155.274 611.597 161.084 611.597 Z\" fill=\"#000000\" fill-rule=\"evenodd\" fill-opacity=\"1\" /><path clip-path=\"url(#clip180)\" d=\"M50.9921 372.683 L80.6679 372.683 L80.6679 376.618 L50.9921 376.618 L50.9921 372.683 Z\" fill=\"#000000\" fill-rule=\"evenodd\" fill-opacity=\"1\" /><path clip-path=\"url(#clip180)\" d=\"M91.5706 385.576 L99.2095 385.576 L99.2095 359.211 L90.8993 360.877 L90.8993 356.618 L99.1632 354.951 L103.839 354.951 L103.839 385.576 L111.478 385.576 L111.478 389.511 L91.5706 389.511 L91.5706 385.576 Z\" fill=\"#000000\" fill-rule=\"evenodd\" fill-opacity=\"1\" /><path clip-path=\"url(#clip180)\" d=\"M130.922 358.03 Q127.311 358.03 125.482 361.595 Q123.677 365.137 123.677 372.266 Q123.677 379.373 125.482 382.937 Q127.311 386.479 130.922 386.479 Q134.556 386.479 136.362 382.937 Q138.191 379.373 138.191 372.266 Q138.191 365.137 136.362 361.595 Q134.556 358.03 130.922 358.03 M130.922 354.326 Q136.732 354.326 139.788 358.933 Q142.867 363.516 142.867 372.266 Q142.867 380.993 139.788 385.599 Q136.732 390.183 130.922 390.183 Q125.112 390.183 122.033 385.599 Q118.978 380.993 118.978 372.266 Q118.978 363.516 122.033 358.933 Q125.112 354.326 130.922 354.326 Z\" fill=\"#000000\" fill-rule=\"evenodd\" fill-opacity=\"1\" /><path clip-path=\"url(#clip180)\" d=\"M161.084 358.03 Q157.473 358.03 155.644 361.595 Q153.839 365.137 153.839 372.266 Q153.839 379.373 155.644 382.937 Q157.473 386.479 161.084 386.479 Q164.718 386.479 166.524 382.937 Q168.353 379.373 168.353 372.266 Q168.353 365.137 166.524 361.595 Q164.718 358.03 161.084 358.03 M161.084 354.326 Q166.894 354.326 169.95 358.933 Q173.029 363.516 173.029 372.266 Q173.029 380.993 169.95 385.599 Q166.894 390.183 161.084 390.183 Q155.274 390.183 152.195 385.599 Q149.14 380.993 149.14 372.266 Q149.14 363.516 152.195 358.933 Q155.274 354.326 161.084 354.326 Z\" fill=\"#000000\" fill-rule=\"evenodd\" fill-opacity=\"1\" /><path clip-path=\"url(#clip180)\" d=\"M161.084 100.76 Q157.473 100.76 155.644 104.325 Q153.839 107.866 153.839 114.996 Q153.839 122.102 155.644 125.667 Q157.473 129.209 161.084 129.209 Q164.718 129.209 166.524 125.667 Q168.353 122.102 168.353 114.996 Q168.353 107.866 166.524 104.325 Q164.718 100.76 161.084 100.76 M161.084 97.0561 Q166.894 97.0561 169.95 101.663 Q173.029 106.246 173.029 114.996 Q173.029 123.723 169.95 128.329 Q166.894 132.912 161.084 132.912 Q155.274 132.912 152.195 128.329 Q149.14 123.723 149.14 114.996 Q149.14 106.246 152.195 101.663 Q155.274 97.0561 161.084 97.0561 Z\" fill=\"#000000\" fill-rule=\"evenodd\" fill-opacity=\"1\" /><polyline clip-path=\"url(#clip182)\" style=\"stroke:#009af9; stroke-linecap:round; stroke-linejoin:round; stroke-width:4; stroke-opacity:1; fill:none\" points=\"\n",
       "  269.7,87.9763 308.592,101.469 347.484,101.469 386.376,101.469 425.268,101.469 464.16,101.469 503.052,101.469 541.944,101.469 580.836,101.469 619.728,101.469 \n",
       "  658.62,101.469 697.512,101.469 736.404,101.469 775.296,101.469 814.188,101.469 853.08,101.469 891.972,101.469 930.864,101.469 969.756,101.469 1008.65,101.469 \n",
       "  1047.54,101.469 1086.43,101.469 1125.32,101.469 1164.22,101.469 1203.11,101.469 1242,101.469 1280.89,101.469 1319.78,101.469 1358.68,101.469 1397.57,101.469 \n",
       "  1436.46,101.469 1475.35,101.469 1514.24,101.469 1553.14,101.469 1592.03,101.469 1630.92,101.469 1669.81,101.469 1708.7,101.469 1747.6,101.469 1786.49,101.469 \n",
       "  1825.38,101.469 1864.27,101.469 1903.16,101.469 1942.06,114.484 1980.95,114.484 2019.84,114.484 2058.73,114.484 2097.62,114.484 2136.52,114.484 2175.41,114.484 \n",
       "  2214.3,114.484 2253.19,114.484 2292.08,114.484 \n",
       "  \"/>\n",
       "<polyline clip-path=\"url(#clip182)\" style=\"stroke:#e26f46; stroke-linecap:round; stroke-linejoin:round; stroke-width:4; stroke-opacity:1; fill:none\" points=\"\n",
       "  269.7,1437.22 308.592,1422.65 347.484,1431.14 386.376,1436.88 425.268,1403.04 464.16,1422.65 503.052,1433.98 541.944,1436.88 580.836,1433.98 619.728,1445.72 \n",
       "  658.62,1433.98 697.512,1433.98 736.404,1420.62 775.296,1422.65 814.188,1433.98 853.08,1422.65 891.972,1408.35 930.864,1436.88 969.756,1433.98 1008.65,1433.98 \n",
       "  1047.54,1403.04 1086.43,1433.98 1125.32,1433.98 1164.22,1433.98 1203.11,1440.83 1242,1431.14 1280.89,1433.98 1319.78,1403.04 1358.68,1403.04 1397.57,1436.88 \n",
       "  1436.46,1436.88 1475.35,1433.98 1514.24,1433.98 1553.14,1422.65 1592.03,1436.88 1630.92,1422.65 1669.81,1433.98 1708.7,1420.62 1747.6,1422.65 1786.49,1403.04 \n",
       "  1825.38,1433.98 1864.27,1433.98 1903.16,1403.04 1942.06,123.513 1980.95,142.588 2019.84,145.425 2058.73,142.588 2097.62,134.098 2136.52,145.425 2175.41,134.098 \n",
       "  2214.3,142.588 2253.19,145.425 2292.08,114.484 \n",
       "  \"/>\n",
       "<path clip-path=\"url(#clip180)\" d=\"\n",
       "M1927.51 1438.47 L2281.3 1438.47 L2281.3 1282.95 L1927.51 1282.95  Z\n",
       "  \" fill=\"#ffffff\" fill-rule=\"evenodd\" fill-opacity=\"1\"/>\n",
       "<polyline clip-path=\"url(#clip180)\" style=\"stroke:#000000; stroke-linecap:round; stroke-linejoin:round; stroke-width:4; stroke-opacity:1; fill:none\" points=\"\n",
       "  1927.51,1438.47 2281.3,1438.47 2281.3,1282.95 1927.51,1282.95 1927.51,1438.47 \n",
       "  \"/>\n",
       "<polyline clip-path=\"url(#clip180)\" style=\"stroke:#009af9; stroke-linecap:round; stroke-linejoin:round; stroke-width:4; stroke-opacity:1; fill:none\" points=\"\n",
       "  1951.32,1334.79 2094.24,1334.79 \n",
       "  \"/>\n",
       "<path clip-path=\"url(#clip180)\" d=\"M2118.06 1317.51 L2122.76 1317.51 L2122.76 1338.51 Q2122.76 1344.07 2124.77 1346.52 Q2126.79 1348.95 2131.3 1348.95 Q2135.79 1348.95 2137.8 1346.52 Q2139.82 1344.07 2139.82 1338.51 L2139.82 1317.51 L2144.52 1317.51 L2144.52 1339.09 Q2144.52 1345.85 2141.16 1349.3 Q2137.83 1352.75 2131.3 1352.75 Q2124.75 1352.75 2121.39 1349.3 Q2118.06 1345.85 2118.06 1339.09 L2118.06 1317.51 Z\" fill=\"#000000\" fill-rule=\"evenodd\" fill-opacity=\"1\" /><path clip-path=\"url(#clip180)\" d=\"M2157.23 1348.19 L2157.23 1361.94 L2152.94 1361.94 L2152.94 1326.15 L2157.23 1326.15 L2157.23 1330.08 Q2158.57 1327.77 2160.6 1326.66 Q2162.66 1325.52 2165.51 1325.52 Q2170.23 1325.52 2173.17 1329.27 Q2176.14 1333.02 2176.14 1339.13 Q2176.14 1345.25 2173.17 1349 Q2170.23 1352.75 2165.51 1352.75 Q2162.66 1352.75 2160.6 1351.63 Q2158.57 1350.5 2157.23 1348.19 M2171.72 1339.13 Q2171.72 1334.44 2169.77 1331.77 Q2167.85 1329.09 2164.47 1329.09 Q2161.09 1329.09 2159.15 1331.77 Q2157.23 1334.44 2157.23 1339.13 Q2157.23 1343.83 2159.15 1346.52 Q2161.09 1349.18 2164.47 1349.18 Q2167.85 1349.18 2169.77 1346.52 Q2171.72 1343.83 2171.72 1339.13 Z\" fill=\"#000000\" fill-rule=\"evenodd\" fill-opacity=\"1\" /><path clip-path=\"url(#clip180)\" d=\"M2187.32 1348.19 L2187.32 1361.94 L2183.04 1361.94 L2183.04 1326.15 L2187.32 1326.15 L2187.32 1330.08 Q2188.66 1327.77 2190.7 1326.66 Q2192.76 1325.52 2195.6 1325.52 Q2200.33 1325.52 2203.27 1329.27 Q2206.23 1333.02 2206.23 1339.13 Q2206.23 1345.25 2203.27 1349 Q2200.33 1352.75 2195.6 1352.75 Q2192.76 1352.75 2190.7 1351.63 Q2188.66 1350.5 2187.32 1348.19 M2201.81 1339.13 Q2201.81 1334.44 2199.86 1331.77 Q2197.94 1329.09 2194.56 1329.09 Q2191.18 1329.09 2189.24 1331.77 Q2187.32 1334.44 2187.32 1339.13 Q2187.32 1343.83 2189.24 1346.52 Q2191.18 1349.18 2194.56 1349.18 Q2197.94 1349.18 2199.86 1346.52 Q2201.81 1343.83 2201.81 1339.13 Z\" fill=\"#000000\" fill-rule=\"evenodd\" fill-opacity=\"1\" /><path clip-path=\"url(#clip180)\" d=\"M2235.47 1338.05 L2235.47 1340.13 L2215.88 1340.13 Q2216.16 1344.53 2218.52 1346.84 Q2220.91 1349.13 2225.14 1349.13 Q2227.6 1349.13 2229.89 1348.53 Q2232.2 1347.93 2234.47 1346.73 L2234.47 1350.75 Q2232.18 1351.73 2229.77 1352.24 Q2227.36 1352.75 2224.89 1352.75 Q2218.68 1352.75 2215.05 1349.13 Q2211.44 1345.52 2211.44 1339.37 Q2211.44 1333 2214.86 1329.27 Q2218.31 1325.52 2224.15 1325.52 Q2229.38 1325.52 2232.41 1328.9 Q2235.47 1332.26 2235.47 1338.05 M2231.21 1336.8 Q2231.16 1333.3 2229.24 1331.22 Q2227.34 1329.13 2224.19 1329.13 Q2220.63 1329.13 2218.47 1331.15 Q2216.35 1333.16 2216.02 1336.82 L2231.21 1336.8 Z\" fill=\"#000000\" fill-rule=\"evenodd\" fill-opacity=\"1\" /><path clip-path=\"url(#clip180)\" d=\"M2257.48 1330.13 Q2256.76 1329.71 2255.91 1329.53 Q2255.07 1329.32 2254.05 1329.32 Q2250.44 1329.32 2248.5 1331.68 Q2246.58 1334.02 2246.58 1338.42 L2246.58 1352.07 L2242.29 1352.07 L2242.29 1326.15 L2246.58 1326.15 L2246.58 1330.18 Q2247.92 1327.82 2250.07 1326.68 Q2252.22 1325.52 2255.3 1325.52 Q2255.74 1325.52 2256.28 1325.59 Q2256.81 1325.64 2257.46 1325.76 L2257.48 1330.13 Z\" fill=\"#000000\" fill-rule=\"evenodd\" fill-opacity=\"1\" /><polyline clip-path=\"url(#clip180)\" style=\"stroke:#e26f46; stroke-linecap:round; stroke-linejoin:round; stroke-width:4; stroke-opacity:1; fill:none\" points=\"\n",
       "  1951.32,1386.63 2094.24,1386.63 \n",
       "  \"/>\n",
       "<path clip-path=\"url(#clip180)\" d=\"M2118.06 1369.35 L2122.73 1369.35 L2122.73 1399.98 L2139.56 1399.98 L2139.56 1403.91 L2118.06 1403.91 L2118.06 1369.35 Z\" fill=\"#000000\" fill-rule=\"evenodd\" fill-opacity=\"1\" /><path clip-path=\"url(#clip180)\" d=\"M2153.5 1380.97 Q2150.07 1380.97 2148.08 1383.66 Q2146.09 1386.32 2146.09 1390.97 Q2146.09 1395.63 2148.06 1398.31 Q2150.05 1400.97 2153.5 1400.97 Q2156.9 1400.97 2158.89 1398.29 Q2160.88 1395.6 2160.88 1390.97 Q2160.88 1386.37 2158.89 1383.68 Q2156.9 1380.97 2153.5 1380.97 M2153.5 1377.36 Q2159.05 1377.36 2162.23 1380.97 Q2165.4 1384.59 2165.4 1390.97 Q2165.4 1397.34 2162.23 1400.97 Q2159.05 1404.59 2153.5 1404.59 Q2147.92 1404.59 2144.75 1400.97 Q2141.6 1397.34 2141.6 1390.97 Q2141.6 1384.59 2144.75 1380.97 Q2147.92 1377.36 2153.5 1377.36 Z\" fill=\"#000000\" fill-rule=\"evenodd\" fill-opacity=\"1\" /><path clip-path=\"url(#clip180)\" d=\"M2169.98 1377.99 L2174.24 1377.99 L2179.56 1398.22 L2184.86 1377.99 L2189.89 1377.99 L2195.21 1398.22 L2200.51 1377.99 L2204.77 1377.99 L2197.99 1403.91 L2192.97 1403.91 L2187.39 1382.66 L2181.79 1403.91 L2176.76 1403.91 L2169.98 1377.99 Z\" fill=\"#000000\" fill-rule=\"evenodd\" fill-opacity=\"1\" /><path clip-path=\"url(#clip180)\" d=\"M2233.41 1389.89 L2233.41 1391.97 L2213.82 1391.97 Q2214.1 1396.37 2216.46 1398.68 Q2218.85 1400.97 2223.08 1400.97 Q2225.53 1400.97 2227.83 1400.37 Q2230.14 1399.77 2232.41 1398.57 L2232.41 1402.59 Q2230.12 1403.57 2227.71 1404.08 Q2225.3 1404.59 2222.83 1404.59 Q2216.62 1404.59 2212.99 1400.97 Q2209.38 1397.36 2209.38 1391.21 Q2209.38 1384.84 2212.8 1381.11 Q2216.25 1377.36 2222.09 1377.36 Q2227.32 1377.36 2230.35 1380.74 Q2233.41 1384.1 2233.41 1389.89 M2229.15 1388.64 Q2229.1 1385.14 2227.18 1383.06 Q2225.28 1380.97 2222.13 1380.97 Q2218.57 1380.97 2216.41 1382.99 Q2214.28 1385 2213.96 1388.66 L2229.15 1388.64 Z\" fill=\"#000000\" fill-rule=\"evenodd\" fill-opacity=\"1\" /><path clip-path=\"url(#clip180)\" d=\"M2255.42 1381.97 Q2254.7 1381.55 2253.84 1381.37 Q2253.01 1381.16 2251.99 1381.16 Q2248.38 1381.16 2246.44 1383.52 Q2244.52 1385.86 2244.52 1390.26 L2244.52 1403.91 L2240.23 1403.91 L2240.23 1377.99 L2244.52 1377.99 L2244.52 1382.02 Q2245.86 1379.66 2248.01 1378.52 Q2250.16 1377.36 2253.24 1377.36 Q2253.68 1377.36 2254.22 1377.43 Q2254.75 1377.48 2255.4 1377.6 L2255.42 1381.97 Z\" fill=\"#000000\" fill-rule=\"evenodd\" fill-opacity=\"1\" /></svg>\n"
      ]
     },
     "metadata": {},
     "output_type": "display_data"
    }
   ],
   "source": [
    "plot(\n",
    "    1:length(results[\"upper_bounds\"]),\n",
    "    [\n",
    "        results[\"upper_bounds\"],\n",
    "        results[\"lower_bounds\"],\n",
    "    ],\n",
    "    legend = :bottomright,\n",
    "    label = [\n",
    "        \"Upper\" \"Lower\"\n",
    "    ]\n",
    ")"
   ]
  },
  {
   "cell_type": "code",
   "execution_count": 26,
   "metadata": {},
   "outputs": [
    {
     "data": {
      "text/plain": [
       "0.18530315009772527"
      ]
     },
     "metadata": {},
     "output_type": "display_data"
    }
   ],
   "source": [
    "results[\"CG_objective\"]"
   ]
  },
  {
   "cell_type": "code",
   "execution_count": 20,
   "metadata": {},
   "outputs": [
    {
     "data": {
      "text/plain": [
       "30×2 Matrix{Float64}:\n",
       " 0.0456656  0.204322\n",
       " 0.136156   0.0482153\n",
       " 0.261297   0.130407\n",
       " 0.744175   0.928949\n",
       " 0.428706   0.199755\n",
       " 0.682453   0.861775\n",
       " 0.0        0.226949\n",
       " 0.669085   0.953186\n",
       " 0.563107   0.944327\n",
       " 0.644745   0.986188\n",
       " ⋮          \n",
       " 0.0359376  0.0911983\n",
       " 0.930084   0.870475\n",
       " 0.194442   0.169351\n",
       " 0.0566517  0.146153\n",
       " 0.812399   1.0\n",
       " 0.0905108  0.0\n",
       " 0.59966    0.962612\n",
       " 0.013108   0.0383666\n",
       " 0.149353   0.0567723"
      ]
     },
     "metadata": {},
     "output_type": "display_data"
    }
   ],
   "source": [
    "points = generate_points(2, 30, 2, 1.0)"
   ]
  },
  {
   "cell_type": "code",
   "execution_count": 40,
   "metadata": {},
   "outputs": [],
   "source": [
    "km_results = []\n",
    "cg_results = []\n",
    "for i = 20:130\n",
    "    points = generate_points(2, i, 2, 1.0)\n",
    "    km =  kmeans(points', 2).assignments\n",
    "    clusters = Cluster[]\n",
    "    for k in 1:2\n",
    "        assinments = findall(x->x==k, km); \n",
    "        cost, centroid = compute_cluster_centroid_cost(assinments)\n",
    "        push!(clusters, Cluster(assinments, centroid, cost))\n",
    "    end\n",
    "    push!(km_results, sum([c.cost for c in clusters]))\n",
    "\n",
    "    results = column_generation(points, 2, 20, 10, false)\n",
    "    push!(cg_results, results[\"CG_objective\"])\n",
    "end\n"
   ]
  },
  {
   "cell_type": "code",
   "execution_count": 41,
   "metadata": {},
   "outputs": [
    {
     "data": {
      "text/plain": [
       "8.383042977429199"
      ]
     },
     "metadata": {},
     "output_type": "display_data"
    }
   ],
   "source": [
    "mean(km_results)"
   ]
  },
  {
   "cell_type": "code",
   "execution_count": 42,
   "metadata": {},
   "outputs": [
    {
     "data": {
      "text/plain": [
       "3.0067421764857825"
      ]
     },
     "metadata": {},
     "output_type": "display_data"
    }
   ],
   "source": [
    "mean(cg_results)"
   ]
  },
  {
   "cell_type": "code",
   "execution_count": null,
   "metadata": {},
   "outputs": [],
   "source": []
  }
 ],
 "metadata": {
  "kernelspec": {
   "display_name": "Julia 1.8.2",
   "language": "julia",
   "name": "julia-1.8"
  },
  "language_info": {
   "file_extension": ".jl",
   "mimetype": "application/julia",
   "name": "julia",
   "version": "1.8.2"
  },
  "orig_nbformat": 4
 },
 "nbformat": 4,
 "nbformat_minor": 2
}
