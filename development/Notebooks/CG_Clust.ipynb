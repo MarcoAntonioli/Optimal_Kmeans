{
 "cells": [
  {
   "cell_type": "code",
   "execution_count": 4,
   "metadata": {},
   "outputs": [
    {
     "name": "stdout",
     "output_type": "stream",
     "text": [
      "Set parameter Username\n",
      "Academic license - for non-commercial use only - expires 2023-10-04\n"
     ]
    },
    {
     "name": "stderr",
     "output_type": "stream",
     "text": [
      "WARNING: redefinition of constant GRB_ENV. This may fail, cause incorrect answers, or produce other errors.\n"
     ]
    },
    {
     "data": {
      "text/plain": [
       "Gurobi.Env(Ptr{Nothing} @0x00000002a2e42000, false, 0)"
      ]
     },
     "metadata": {},
     "output_type": "display_data"
    }
   ],
   "source": [
    "using Plots, Random, DataFrames, LinearAlgebra, Printf, JLD, Distributions, Combinatorics, MLJ, Graphs, Gurobi, JuMP, Statistics, Clustering, Distances\n",
    "const GRB_ENV = Gurobi.Env()"
   ]
  },
  {
   "attachments": {},
   "cell_type": "markdown",
   "metadata": {},
   "source": [
    "### Generating points"
   ]
  },
  {
   "cell_type": "code",
   "execution_count": 5,
   "metadata": {},
   "outputs": [
    {
     "data": {
      "text/plain": [
       "generate_points (generic function with 2 methods)"
      ]
     },
     "metadata": {},
     "output_type": "display_data"
    }
   ],
   "source": [
    "function generate_points(K::Int64, N::Int64, D::Int64 , std::Float64, seed = 1234)\n",
    "    \"\"\"\n",
    "    Generates points for the k-means problem\n",
    "\n",
    "        input: \n",
    "            - I: number of clusters \n",
    "            - N: number of points\n",
    "            - D: dimnesionality of points\n",
    "\n",
    "        output:\n",
    "            - points: NxD matrix of standardized points\n",
    "    \"\"\"\n",
    "    Random.seed!(seed);\n",
    "    X, yy = MLJ.make_blobs(N, D; centers=K, cluster_std=std)\n",
    "    points = Matrix(DataFrame(X));\n",
    "    min = minimum(points, dims=1);\n",
    "    max = maximum(points, dims=1);\n",
    "    points = (points .- min) ./ (max .- min);\n",
    "    return points\n",
    "end"
   ]
  },
  {
   "cell_type": "code",
   "execution_count": 6,
   "metadata": {},
   "outputs": [],
   "source": [
    "points = generate_points(2, 20, 2, 0.01);"
   ]
  },
  {
   "cell_type": "code",
   "execution_count": 7,
   "metadata": {},
   "outputs": [],
   "source": [
    "struct Cluster \n",
    "    assignments::Vector{Int64}\n",
    "    centroid::Vector{Float64}\n",
    "    cost::Float64\n",
    "end"
   ]
  },
  {
   "cell_type": "code",
   "execution_count": 8,
   "metadata": {},
   "outputs": [
    {
     "data": {
      "text/plain": [
       "compute_cluster_centroid_cost (generic function with 1 method)"
      ]
     },
     "metadata": {},
     "output_type": "display_data"
    }
   ],
   "source": [
    "function compute_cluster_centroid_cost(assignments::Vector{Int64})\n",
    "    \"\"\"\n",
    "    Computes the centroid and cost of a cluster given the indeces of the points in the cluster\n",
    "\n",
    "        input: \n",
    "            - assignments: Nx1 matrix of cluster assignments\n",
    "\n",
    "        output:\n",
    "            - cost of the clustering assignment\n",
    "            - Vector representing the centroid of the cluster\n",
    "    \"\"\"\n",
    "\n",
    "    cluster_points = points[assignments,:]\n",
    "\n",
    "    centroid = mean(cluster_points, dims=1)\n",
    "\n",
    "    return sum( euclidean(cluster_points[i,:],centroid) for i in 1:size(cluster_points,1)), vec(centroid)\n",
    "end"
   ]
  },
  {
   "cell_type": "code",
   "execution_count": 28,
   "metadata": {},
   "outputs": [
    {
     "data": {
      "text/plain": [
       "Cluster([4, 5, 6], [0.666812617629264, 0.6652557705622788], 1.8808518733268333)"
      ]
     },
     "metadata": {},
     "output_type": "display_data"
    }
   ],
   "source": [
    "assignments = [4, 5, 6]\n",
    "\n",
    "cost, centroid = compute_cluster_centroid_cost(assignments)\n",
    "\n",
    "c = Cluster(assignments, centroid, cost)"
   ]
  },
  {
   "cell_type": "code",
   "execution_count": 34,
   "metadata": {},
   "outputs": [
    {
     "data": {
      "text/plain": [
       "compute_reduced_cost (generic function with 2 methods)"
      ]
     },
     "metadata": {},
     "output_type": "display_data"
    }
   ],
   "source": [
    "function compute_reduced_cost(data::Cluster, p::Vector{Float64}, q::Float64)\n",
    "\"\"\"\n",
    "Computes the reduced cost given a dual solution of the master problem\n",
    "\n",
    "    input: \n",
    "        - Cluster: cluster to compute the reduced cost for\n",
    "        - p: dual solution of the master problem\n",
    "        - q: dual solution of the master problem\n",
    "\n",
    "    output: reduced cost of the cluster\n",
    "\"\"\"\n",
    "\n",
    "    return data.cost - sum(p[i] for i in data.assignments) - q\n",
    "end"
   ]
  },
  {
   "attachments": {},
   "cell_type": "markdown",
   "metadata": {},
   "source": [
    "### Subproblem"
   ]
  },
  {
   "cell_type": "code",
   "execution_count": 35,
   "metadata": {},
   "outputs": [
    {
     "data": {
      "text/plain": [
       "new_cluster (generic function with 1 method)"
      ]
     },
     "metadata": {},
     "output_type": "display_data"
    }
   ],
   "source": [
    "function new_cluster(data::Matrix{Float64}, p::Vector{Float64}, q::Float64, K::Int64)\n",
    "\n",
    "    N = size(data,1)\n",
    "\n",
    "    #### Modified cost is in the objective \n",
    "\n",
    "    ###Subproblem\n",
    "    sp_model = JuMP.Model(() -> Gurobi.Optimizer(GRB_ENV))\n",
    "    set_optimizer_attributes( sp_model, \"OutputFlag\" => 0)\n",
    "\n",
    "    @variable(sp_model, θ)\n",
    "    @variable(sp_model, a[1:N], Bin)\n",
    "    @variable(sp_model, f[1:N, 1:N])#, Bin)\n",
    "    @variable(sp_model, b[1:N-K+1], Bin)\n",
    "    @variable(sp_model, γ[1:N,1:N,1:N-K+1])#, Bin)\n",
    "\n",
    "    @constraint(sp_model, [i=1:N, j=1:N], f[i,j] <= a[i])\n",
    "    @constraint(sp_model, [i=1:N, j=1:N], f[i,j] <= a[j])\n",
    "    @constraint(sp_model, [i=1:N, j=1:N], f[i,j] >= a[i] + a[j] - 1)\n",
    "\n",
    "    @constraint(sp_model, [i=1:N, j=1:N, l=1:N-K+1], γ[i,j,l] <= f[i,j])\n",
    "    @constraint(sp_model, [i=1:N, j=1:N, l=1:N-K+1], γ[i,j,l] <= b[l])\n",
    "    @constraint(sp_model, [i=1:N, j=1:N, l=1:N-K+1], γ[i,j,l] >= f[i,j] + b[l] - 1)\n",
    "\n",
    "    @constraint(sp_model, [i=1:N], [θ; sum( 1/l .* sum( γ[i,j,l] .* (data[i,:] .- data[j,:]) for j=1:N) for l=1:N-K+1)] in SecondOrderCone()) #\n",
    "\n",
    "    @objective(sp_model, Min, sum( θ - a[i]*p[i] for i in 1:N))\n",
    "\n",
    "    optimize!(sp_model)\n",
    "\n",
    "    #### Retrieve cluster from solution\n",
    "\n",
    "    assignments = vec(findall(x->x>0.9, value.(a)))\n",
    "    cost, centroid = compute_cluster_centroid_cost(assignments)\n",
    "    Clust = Cluster(assignments, centroid, cost)\n",
    "    reduced_cost = compute_reduced_cost(Clust, p, q)\n",
    "\n",
    "    return Clust, reduced_cost \n",
    "\n",
    "end "
   ]
  },
  {
   "attachments": {},
   "cell_type": "markdown",
   "metadata": {},
   "source": [
    "### Master problem"
   ]
  },
  {
   "cell_type": "code",
   "execution_count": null,
   "metadata": {},
   "outputs": [],
   "source": []
  }
 ],
 "metadata": {
  "kernelspec": {
   "display_name": "Julia 1.8.2",
   "language": "julia",
   "name": "julia-1.8"
  },
  "language_info": {
   "file_extension": ".jl",
   "mimetype": "application/julia",
   "name": "julia",
   "version": "1.8.2"
  },
  "orig_nbformat": 4
 },
 "nbformat": 4,
 "nbformat_minor": 2
}
