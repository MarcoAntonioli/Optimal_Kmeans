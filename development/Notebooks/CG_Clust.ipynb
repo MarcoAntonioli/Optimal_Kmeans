{
 "cells": [
  {
   "cell_type": "code",
   "execution_count": 2,
   "metadata": {},
   "outputs": [
    {
     "name": "stdout",
     "output_type": "stream",
     "text": [
      "Set parameter Username\n",
      "Academic license - for non-commercial use only - expires 2023-10-04\n"
     ]
    },
    {
     "data": {
      "text/plain": [
       "Gurobi.Env(Ptr{Nothing} @0x000000015f61bc00, false, 0)"
      ]
     },
     "metadata": {},
     "output_type": "display_data"
    }
   ],
   "source": [
    "using Plots, Random, DataFrames, LinearAlgebra, Printf, JLD, Distributions, Combinatorics, MLJ, Graphs, Gurobi, JuMP, Statistics, Clustering, Distances\n",
    "const GRB_ENV = Gurobi.Env()"
   ]
  },
  {
   "attachments": {},
   "cell_type": "markdown",
   "metadata": {},
   "source": [
    "### Generating points"
   ]
  },
  {
   "cell_type": "code",
   "execution_count": 3,
   "metadata": {},
   "outputs": [
    {
     "data": {
      "text/plain": [
       "generate_points (generic function with 2 methods)"
      ]
     },
     "metadata": {},
     "output_type": "display_data"
    }
   ],
   "source": [
    "function generate_points(K::Int64, N::Int64, D::Int64 , std::Float64, seed = 1234)\n",
    "    \"\"\"\n",
    "    Generates points for the k-means problem\n",
    "\n",
    "        input: \n",
    "            - I: number of clusters \n",
    "            - N: number of points\n",
    "            - D: dimnesionality of points\n",
    "\n",
    "        output:\n",
    "            - points: NxD matrix of standardized points\n",
    "    \"\"\"\n",
    "    Random.seed!(seed);\n",
    "    X, yy = MLJ.make_blobs(N, D; centers=K, cluster_std=std)\n",
    "    points = Matrix(DataFrame(X));\n",
    "    min = minimum(points, dims=1);\n",
    "    max = maximum(points, dims=1);\n",
    "    points = (points .- min) ./ (max .- min);\n",
    "    return points\n",
    "end"
   ]
  },
  {
   "cell_type": "code",
   "execution_count": 4,
   "metadata": {},
   "outputs": [],
   "source": [
    "points = generate_points(2, 20, 2, 0.01);"
   ]
  },
  {
   "cell_type": "code",
   "execution_count": 5,
   "metadata": {},
   "outputs": [],
   "source": [
    "struct Cluster \n",
    "    assignments::Vector{Int64}\n",
    "    centroid::Vector{Float64}\n",
    "    cost::Float64\n",
    "end"
   ]
  },
  {
   "cell_type": "code",
   "execution_count": 6,
   "metadata": {},
   "outputs": [
    {
     "data": {
      "text/plain": [
       "compute_cluster_centroid_cost (generic function with 1 method)"
      ]
     },
     "metadata": {},
     "output_type": "display_data"
    }
   ],
   "source": [
    "function compute_cluster_centroid_cost(assignments::Vector{Int64})\n",
    "    \"\"\"\n",
    "    Computes the centroid and cost of a cluster given the indeces of the points in the cluster\n",
    "\n",
    "        input: \n",
    "            - assignments: Nx1 matrix of cluster assignments\n",
    "\n",
    "        output:\n",
    "            - cost of the clustering assignment\n",
    "            - Vector representing the centroid of the cluster\n",
    "    \"\"\"\n",
    "\n",
    "    cluster_points = points[assignments,:]\n",
    "\n",
    "    centroid = mean(cluster_points, dims=1)\n",
    "\n",
    "    return sum( euclidean(cluster_points[i,:],centroid) for i in 1:size(cluster_points,1)), vec(centroid)\n",
    "end"
   ]
  },
  {
   "cell_type": "code",
   "execution_count": 7,
   "metadata": {},
   "outputs": [
    {
     "data": {
      "text/plain": [
       "compute_reduced_cost (generic function with 1 method)"
      ]
     },
     "metadata": {},
     "output_type": "display_data"
    }
   ],
   "source": [
    "function compute_reduced_cost(data::Cluster, p::Vector{Float64}, q::Float64)\n",
    "\"\"\"\n",
    "Computes the reduced cost given a dual solution of the master problem\n",
    "\n",
    "    input: \n",
    "        - Cluster: cluster to compute the reduced cost for\n",
    "        - p: dual solution of the master problem\n",
    "        - q: dual solution of the master problem\n",
    "\n",
    "    output: reduced cost of the cluster\n",
    "\"\"\"\n",
    "\n",
    "    return data.cost - sum(p[i] for i in data.assignments) - q\n",
    "end"
   ]
  },
  {
   "attachments": {},
   "cell_type": "markdown",
   "metadata": {},
   "source": [
    "### Subproblem"
   ]
  },
  {
   "cell_type": "code",
   "execution_count": 8,
   "metadata": {},
   "outputs": [
    {
     "data": {
      "text/plain": [
       "new_cluster (generic function with 1 method)"
      ]
     },
     "metadata": {},
     "output_type": "display_data"
    }
   ],
   "source": [
    "function new_cluster(data::Matrix{Float64}, p::Vector{Float64}, q::Float64, K::Int64)\n",
    "\n",
    "    N = size(data,1)\n",
    "    D = size(data,2)\n",
    "\n",
    "    #### Modified cost is in the objective \n",
    "\n",
    "    ###Subproblem\n",
    "    sp_model = JuMP.Model(() -> Gurobi.Optimizer(GRB_ENV))\n",
    "    set_optimizer_attributes( sp_model, \"OutputFlag\" => 0)\n",
    "\n",
    "    @variable(sp_model, θ[1:N])\n",
    "    @variable(sp_model, a[1:N], Bin)\n",
    "    @variable(sp_model, f[1:N, 1:N])#, Bin)\n",
    "    @variable(sp_model, b[1:N-K+1], Bin)\n",
    "    @variable(sp_model, γ[1:N,1:N,1:N-K+1])#, Bin)\n",
    "\n",
    "    @constraint(sp_model, [i=1:N, j=1:N], f[i,j] <= a[i])\n",
    "    @constraint(sp_model, [i=1:N, j=1:N], f[i,j] <= a[j])\n",
    "    @constraint(sp_model, [i=1:N, j=1:N], f[i,j] >= a[i] + a[j] - 1)\n",
    "    @constraint(sp_model, sum(a[i] for i=1:N) >= 1)\n",
    "\n",
    "    @constraint(sp_model, [i=1:N, j=1:N, l=1:N-K+1], γ[i,j,l] <= f[i,j])\n",
    "    @constraint(sp_model, [i=1:N, j=1:N, l=1:N-K+1], γ[i,j,l] <= b[l])\n",
    "    @constraint(sp_model, [i=1:N, j=1:N, l=1:N-K+1], γ[i,j,l] >= f[i,j] + b[l] - 1)\n",
    "\n",
    "    @constraint(sp_model, [i=1:N], [θ[i]; sum( 1/l .* sum( γ[i,j,l] .* (data[i,:] .- data[j,:]) for j=1:N) for l=1:N-K+1)] in SecondOrderCone()) #\n",
    "\n",
    "    #@constraint(sp_model, [i=1:N],  θ[i] >= sum( sum( 1/l .* sum( γ[i,j,l] .* (data[i,d] .- data[j,d]) for j=1:N) for l=1:N-K+1)^2 for d=1:D) )\n",
    "\n",
    "    #@constraint(sp_model, [i=1:N, g=1:N], sum(sum( 1/l .* sum( γ[i,j,l] .* (data[i,d] .- data[j,d]) for j=1:N) for l=1:N-K+1) for d=1:D) <= sum(sum( 1/l .* sum( (1-γ[g,j,l]) .* (data[g,d] .- data[j,d]) for j=1:N) for l=1:N-K+1) for d=1:D) )\n",
    "\n",
    "    @objective(sp_model, Min, sum( θ[i] - a[i]*p[i] for i in 1:N))\n",
    "\n",
    "    optimize!(sp_model)\n",
    "\n",
    "    #### Retrieve cluster from solution\n",
    "\n",
    "    assignments = vec(findall(x->x>0.9, value.(a)))\n",
    "    @printf(\"Assignments: %s\\n\", value.(a))\n",
    "    #@printf(\"Assignments: %s\\n\", value.(θ))\n",
    "    cost, centroid = compute_cluster_centroid_cost(assignments)\n",
    "    Clust = Cluster(assignments, centroid, cost)\n",
    "    reduced_cost = compute_reduced_cost(Clust, p, q)\n",
    "\n",
    "    return Clust, reduced_cost\n",
    "\n",
    "end "
   ]
  },
  {
   "cell_type": "code",
   "execution_count": 55,
   "metadata": {},
   "outputs": [
    {
     "data": {
      "text/plain": [
       "new_cluster (generic function with 2 methods)"
      ]
     },
     "metadata": {},
     "output_type": "display_data"
    }
   ],
   "source": [
    "function new_cluster(data::Matrix{Float64}, p::Vector{Float64}, q::Float64, K::Int64, Iter::Int64)\n",
    "\n",
    "    N = size(data,1)\n",
    "    D = size(data,2)\n",
    "\n",
    "    #### Modified cost is in the objective \n",
    "\n",
    "    ###Subproblem\n",
    "    sp_model = JuMP.Model(() -> Gurobi.Optimizer(GRB_ENV))\n",
    "    set_optimizer_attributes( sp_model, \"OutputFlag\" => 0)\n",
    "\n",
    "    @variable(sp_model, θ[1:N])\n",
    "    @variable(sp_model, a[1:N], Bin)\n",
    "    @variable(sp_model, f[1:N, 1:N])#, Bin)\n",
    "    @variable(sp_model, b[1:N-K+1], Bin)\n",
    "    @variable(sp_model, γ[1:N,1:N,1:N-K+1])#, Bin)\n",
    "\n",
    "    ####New variable\n",
    "    @variable(sp_model, z[1:N,1:N-K+1])\n",
    "\n",
    "    @constraint(sp_model, [i=1:N, j=1:N], f[i,j] <= a[i])\n",
    "    @constraint(sp_model, [i=1:N, j=1:N], f[i,j] <= a[j])\n",
    "    @constraint(sp_model, [i=1:N, j=1:N], f[i,j] >= a[i] + a[j] - 1)\n",
    "    #@constraint(sp_model, sum(a[i] for i=1:N) >= 1)\n",
    "\n",
    "    @constraint(sp_model, [i=1:N, j=1:N, l=1:N-K+1], γ[i,j,l] <= f[i,j])\n",
    "    @constraint(sp_model, [i=1:N, j=1:N, l=1:N-K+1], γ[i,j,l] <= b[l])\n",
    "    @constraint(sp_model, [i=1:N, j=1:N, l=1:N-K+1], γ[i,j,l] >= f[i,j] + b[l] - 1)\n",
    "\n",
    "    @constraint(sp_model, [i=1:N], [θ[i]; sum( 1/l .* sum( γ[i,j,l] .* (data[i,:] .- data[j,:]) for j=1:N) for l=1:N-K+1)] in SecondOrderCone()) #\n",
    "\n",
    "    #@constraint(sp_model, [i=1:N],  θ[i] >= sum( sum( 1/l .* sum( γ[i,j,l] .* (data[i,d] .- data[j,d]) for j=1:N) for l=1:N-K+1)^2 for d=1:D) )\n",
    "\n",
    "    #@constraint(sp_model, [i=1:N, g=1:N], sum(sum( 1/l .* sum( γ[i,j,l] .* (data[i,d] .- data[j,d]) for j=1:N) for l=1:N-K+1) for d=1:D) <= sum(sum( 1/l .* sum( (1-γ[g,j,l]) .* (data[g,d] .- data[j,d]) for j=1:N) for l=1:N-K+1) for d=1:D) )\n",
    "\n",
    "        #### New contraints for heuristics\n",
    "    \n",
    "    @constraint(sp_model, [i=1:N, l=1:N-K+1], z[i,l] >= b[l] + a[i] -1)\n",
    "    @constraint(sp_model, [i=1:N, l=1:N-K+1], z[i,l] <= b[l])\n",
    "    @constraint(sp_model, [i=1:N, l=1:N-K+1], z[i,l] <= a[i])\n",
    "\n",
    "    @constraint(sp_model, [i=1:N], [5/(Iter/10); (data[i,:] .- sum(1/l .* sum( data[j,:] * z[j,l] for j in 1:N)  for l in 1:N-K+1))] in SecondOrderCone())\n",
    "\n",
    "        #############\n",
    "\n",
    "    @objective(sp_model, Min, sum( θ[i] - a[i]*p[i] for i in 1:N))\n",
    "\n",
    "    optimize!(sp_model)\n",
    "\n",
    "\n",
    "    #### Retrieve cluster from solution\n",
    "\n",
    "    assignments = vec(findall(x->x>0.9, value.(a)))\n",
    "    #@printf(\"Assignments: %s\\n\", value.(a))\n",
    "    #@printf(\"Assignments: %s\\n\", value.(θ))\n",
    "    cost, centroid = compute_cluster_centroid_cost(assignments)\n",
    "    Clust = Cluster(assignments, centroid, cost)\n",
    "    reduced_cost = compute_reduced_cost(Clust, p, q)\n",
    "\n",
    "    return Clust, reduced_cost\n",
    "\n",
    "end "
   ]
  },
  {
   "cell_type": "code",
   "execution_count": 56,
   "metadata": {},
   "outputs": [
    {
     "name": "stdout",
     "output_type": "stream",
     "text": [
      "Assignments: [1.0, -0.0, 1.0, -0.0, 1.0, 1.0, -0.0, -0.0]\n"
     ]
    },
    {
     "data": {
      "text/plain": [
       "(Cluster([1, 3, 5, 6], [0.7498978872817413, 0.25025066085847875], 2.1204416097905083), 1.6204394997905083)"
      ]
     },
     "metadata": {},
     "output_type": "display_data"
    }
   ],
   "source": [
    "points = generate_points(2, 8, 2, 0.001, 1);\n",
    "p= [0.000001 , -0.1, 0.000001, -0.000001 , 0.00000001, 0.0000001, 0.00000001, -5.]\n",
    "\n",
    "new_cluster(points, p , 0.5, 2)"
   ]
  },
  {
   "attachments": {},
   "cell_type": "markdown",
   "metadata": {},
   "source": [
    "### Master problem"
   ]
  },
  {
   "cell_type": "code",
   "execution_count": 57,
   "metadata": {},
   "outputs": [
    {
     "data": {
      "text/plain": [
       "initial_clusters (generic function with 1 method)"
      ]
     },
     "metadata": {},
     "output_type": "display_data"
    }
   ],
   "source": [
    "function initial_clusters(data::Matrix{Float64}, K::Int64, n_initial_clusters::Int64)\n",
    "\n",
    "    clusters = Cluster[]\n",
    "\n",
    "    for i in 1:n_initial_clusters\n",
    "        Random.seed!(i)\n",
    "        km =  kmeans(data', K).assignments\n",
    "        for k in 1:K\n",
    "            assinments = findall(x->x==k, km); \n",
    "            cost, centroid = compute_cluster_centroid_cost(assinments)\n",
    "            push!(clusters, Cluster(assinments, centroid, cost))\n",
    "        end\n",
    "    end\n",
    "    return clusters\n",
    "end"
   ]
  },
  {
   "cell_type": "code",
   "execution_count": 58,
   "metadata": {},
   "outputs": [
    {
     "data": {
      "text/plain": [
       "column_generation (generic function with 3 methods)"
      ]
     },
     "metadata": {},
     "output_type": "display_data"
    }
   ],
   "source": [
    "function column_generation(data::Matrix{Float64}, K::Int64, n_initial_clusters::Int64, max_iterations::Int = 10000, verbose::Bool = true)\n",
    "\n",
    "    N = size(data,1)\n",
    "    \n",
    "    # Initialization\n",
    "    CG_solution = nothing\n",
    "    CG_objective = 0.0\n",
    "    upper_bounds = []\n",
    "    lower_bounds = []\n",
    "    MP_time = []\n",
    "    SP_time = []\n",
    "    p_values = []\n",
    "    q_values = []\n",
    "\n",
    "    if verbose\n",
    "        @printf(\"              | Objective | Lower bound | MP time (s) | SP time (s) | Reduced cost\\n\")\n",
    "    end\n",
    "\n",
    "    # Creates initial clusters\n",
    "    clusters = initial_clusters(data, K, n_initial_clusters)\n",
    "    counter = 0\n",
    "\n",
    "    while true\n",
    "        counter += 1\n",
    "        # Make restricted master problem with current clusters \n",
    "        MP_start_time = time()\n",
    "        model = JuMP.Model(() -> Gurobi.Optimizer(GRB_ENV))\n",
    "        set_optimizer_attributes(\n",
    "            model,\n",
    "            \"OutputFlag\" => 0,\n",
    "        )\n",
    "\n",
    "        @variable(model, x[r in 1:length(clusters)] ≥ 0)\n",
    "\n",
    "        @constraint(model, points_assigned[r=1:N], sum(x[r] for r in 1:length(clusters) if r in clusters[r].assignments) == 1)\n",
    "        @constraint(model, number_clusters, sum(x[r] for r in 1:length(clusters)) == K)\n",
    "\n",
    "        @objective(model, Min, sum(x[r] * clusters[r].cost for r in 1:length(clusters)))\n",
    "\n",
    "        optimize!(model)\n",
    "        MP_end_time = time()\n",
    "\n",
    "        ### Get duals\n",
    "        p = vec(dual.(points_assigned))\n",
    "        push!(p_values, p)\n",
    "\n",
    "        q = dual.(number_clusters)\n",
    "        push!(q_values, q)\n",
    "\n",
    "        # Update column generation metrics\n",
    "        push!(upper_bounds, objective_value(model))\n",
    "        push!(MP_time, MP_end_time - MP_start_time)\n",
    "\n",
    "        # Compute a new route to add and its corresponding reduced cost\n",
    "        SP_start_time = time()\n",
    "        clust, reduced_cost = new_cluster(data, p, q, K, counter)\n",
    "        SP_end_time = time()\n",
    "\n",
    "        # Update column generation metrics\n",
    "        push!(lower_bounds, objective_value(model) + min(N * reduced_cost,0))\n",
    "        push!(SP_time, SP_end_time - SP_start_time)\n",
    "\n",
    "        if verbose\n",
    "            # @printf(\"              | Objective | MP time (s) | SP time (s) | Reduced cost\")\n",
    "            @printf(\n",
    "                \"Iteration %3d | %9.3f | %11.3f |      %6.3f |      %6.3f | %12.3f\\n\",\n",
    "                counter, \n",
    "                upper_bounds[end],\n",
    "                lower_bounds[end],\n",
    "                MP_time[end],\n",
    "                SP_time[end],\n",
    "                reduced_cost,\n",
    "            )\n",
    "        end\n",
    "\n",
    "        # Termination criteria\n",
    "        if (reduced_cost > -1e-6 || counter > max_iterations)  \n",
    "            CG_solution = value.(x)\n",
    "            CG_objective = objective_value(model)\n",
    "            break\n",
    "        end\n",
    "        push!(clusters, clust)\n",
    "\n",
    "    end\n",
    "\n",
    "    #### solve MP with integer variables\n",
    "    ############# TO DO ##################\n",
    "\n",
    "    return Dict(\n",
    "        \"CG_solution\" => CG_solution,\n",
    "        \"CG_objective\" => CG_objective,\n",
    "        \"clusters\" => clusters,\n",
    "        \"p_values\" => p_values,\n",
    "        \"q_values\" => q_values,\n",
    "        \"upper_bounds\" => upper_bounds,\n",
    "        \"lower_bounds\" => lower_bounds,\n",
    "        \"MP_time\" => MP_time,\n",
    "        \"SP_time\" => SP_time,\n",
    "        \"time_taken\" => sum(MP_time) + sum(SP_time),\n",
    "    )\n",
    "end"
   ]
  },
  {
   "cell_type": "code",
   "execution_count": 59,
   "metadata": {},
   "outputs": [],
   "source": [
    "points = generate_points(2, 20, 2, 0.9);"
   ]
  },
  {
   "cell_type": "code",
   "execution_count": 45,
   "metadata": {},
   "outputs": [
    {
     "name": "stdout",
     "output_type": "stream",
     "text": [
      "              | Objective | Lower bound | MP time (s) | SP time (s) | Reduced cost\n",
      "Iteration   1 |     1.684 |     -19.340 |       0.005 |       0.406 |       -1.051\n"
     ]
    },
    {
     "name": "stdout",
     "output_type": "stream",
     "text": [
      "Iteration   2 |     1.051 |     -19.972 |       0.001 |       0.342 |       -1.051\n",
      "Iteration   3 |     1.051 |     -19.972 |       0.001 |       0.377 |       -1.051\n"
     ]
    },
    {
     "name": "stdout",
     "output_type": "stream",
     "text": [
      "Iteration   4 |     1.051 |       1.051 |       0.001 |      10.353 |        3.057\n"
     ]
    }
   ],
   "source": [
    "points = generate_points(2, 20, 2, 0.5);\n",
    "\n",
    "results = column_generation(points, 2, 4);"
   ]
  },
  {
   "cell_type": "code",
   "execution_count": null,
   "metadata": {},
   "outputs": [],
   "source": []
  }
 ],
 "metadata": {
  "kernelspec": {
   "display_name": "Julia 1.8.2",
   "language": "julia",
   "name": "julia-1.8"
  },
  "language_info": {
   "file_extension": ".jl",
   "mimetype": "application/julia",
   "name": "julia",
   "version": "1.8.2"
  },
  "orig_nbformat": 4
 },
 "nbformat": 4,
 "nbformat_minor": 2
}
