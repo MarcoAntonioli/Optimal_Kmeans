{
 "cells": [
  {
   "cell_type": "code",
   "execution_count": 1,
   "metadata": {},
   "outputs": [
    {
     "name": "stdout",
     "output_type": "stream",
     "text": [
      "Set parameter Username\n",
      "Academic license - for non-commercial use only - expires 2023-10-04\n"
     ]
    },
    {
     "data": {
      "text/plain": [
       "Gurobi.Env(Ptr{Nothing} @0x000000016a454a00, false, 0)"
      ]
     },
     "metadata": {},
     "output_type": "display_data"
    }
   ],
   "source": [
    "using Plots, Random, DataFrames, LinearAlgebra, Printf, JLD, Distributions, Combinatorics, MLJ, Graphs, Gurobi, JuMP, Statistics, Clustering, Distances\n",
    "const GRB_ENV = Gurobi.Env()"
   ]
  },
  {
   "attachments": {},
   "cell_type": "markdown",
   "metadata": {},
   "source": [
    "### Generating points"
   ]
  },
  {
   "cell_type": "code",
   "execution_count": 7,
   "metadata": {},
   "outputs": [
    {
     "data": {
      "text/plain": [
       "generate_points (generic function with 2 methods)"
      ]
     },
     "metadata": {},
     "output_type": "display_data"
    }
   ],
   "source": [
    "function generate_points(K::Int64, N::Int64, D::Int64 , std::Float64, seed = 1234)\n",
    "    \"\"\"\n",
    "    Generates points for the k-means problem\n",
    "\n",
    "        input: \n",
    "            - I: number of clusters \n",
    "            - N: number of points\n",
    "            - D: dimnesionality of points\n",
    "\n",
    "        output:\n",
    "            - points: NxD matrix of standardized points\n",
    "    \"\"\"\n",
    "    Random.seed!(seed);\n",
    "    X, yy = MLJ.make_blobs(N, D; centers=K, cluster_std=std)\n",
    "    points = Matrix(DataFrame(X));\n",
    "    min = minimum(points, dims=1);\n",
    "    max = maximum(points, dims=1);\n",
    "    points = (points .- min) ./ (max .- min);\n",
    "    return points\n",
    "end"
   ]
  },
  {
   "cell_type": "code",
   "execution_count": 8,
   "metadata": {},
   "outputs": [],
   "source": [
    "struct Cluster \n",
    "    assignments::Vector{Int64}\n",
    "    centroid::Vector{Float64}\n",
    "    cost::Float64\n",
    "end"
   ]
  },
  {
   "cell_type": "code",
   "execution_count": 9,
   "metadata": {},
   "outputs": [
    {
     "data": {
      "text/plain": [
       "compute_cluster_centroid_cost (generic function with 1 method)"
      ]
     },
     "metadata": {},
     "output_type": "display_data"
    }
   ],
   "source": [
    "function compute_cluster_centroid_cost(assignments::Vector{Int64})\n",
    "    \"\"\"\n",
    "    Computes the centroid and cost of a cluster given the indeces of the points in the cluster\n",
    "\n",
    "        input: \n",
    "            - assignments: Nx1 matrix of cluster assignments\n",
    "\n",
    "        output:\n",
    "            - cost of the clustering assignment\n",
    "            - Vector representing the centroid of the cluster\n",
    "    \"\"\"\n",
    "\n",
    "    cluster_points = points[assignments,:]\n",
    "\n",
    "    centroid = mean(cluster_points, dims=1)\n",
    "\n",
    "    return sum( euclidean(cluster_points[i,:],centroid) for i in 1:size(cluster_points,1)), vec(centroid)\n",
    "end"
   ]
  },
  {
   "cell_type": "code",
   "execution_count": 10,
   "metadata": {},
   "outputs": [
    {
     "data": {
      "text/plain": [
       "compute_reduced_cost (generic function with 1 method)"
      ]
     },
     "metadata": {},
     "output_type": "display_data"
    }
   ],
   "source": [
    "function compute_reduced_cost(data::Cluster, p::Vector{Float64}, q::Float64)\n",
    "\"\"\"\n",
    "Computes the reduced cost given a dual solution of the master problem\n",
    "\n",
    "    input: \n",
    "        - Cluster: cluster to compute the reduced cost for\n",
    "        - p: dual solution of the master problem\n",
    "        - q: dual solution of the master problem\n",
    "\n",
    "    output: reduced cost of the cluster\n",
    "\"\"\"\n",
    "\n",
    "    return data.cost - sum(p[i] for i in data.assignments) - q\n",
    "end"
   ]
  },
  {
   "attachments": {},
   "cell_type": "markdown",
   "metadata": {},
   "source": [
    "### Subproblem"
   ]
  },
  {
   "cell_type": "code",
   "execution_count": 11,
   "metadata": {},
   "outputs": [
    {
     "data": {
      "text/plain": [
       "subproblem_heuristic (generic function with 1 method)"
      ]
     },
     "metadata": {},
     "output_type": "display_data"
    }
   ],
   "source": [
    "function subproblem_heuristic(data::Matrix{Float64}, p::Vector{Float64}, q::Float64, Iter::Int64)\n",
    "    \n",
    "    clusters = Cluster[]\n",
    "    for k in 2:Int(round(size(data,1)/3))\n",
    "        append!(clusters, initial_clusters(points, k, 1, Iter ))\n",
    "    end\n",
    "    idx = argmin([compute_reduced_cost(cluster, p, q) for cluster in clusters])\n",
    "    return clusters[idx], compute_reduced_cost(clusters[idx], p, q)\n",
    "end "
   ]
  },
  {
   "cell_type": "code",
   "execution_count": 12,
   "metadata": {},
   "outputs": [
    {
     "data": {
      "text/plain": [
       "new_cluster (generic function with 1 method)"
      ]
     },
     "metadata": {},
     "output_type": "display_data"
    }
   ],
   "source": [
    "function new_cluster(data::Matrix{Float64}, p::Vector{Float64}, q::Float64, K::Int64, Iter::Int64)\n",
    "    \"\"\"\n",
    "    Subproblem of the column generation, it returns a new cluster and its reduced cost\n",
    "\n",
    "        input: \n",
    "            - data: Nx2 matrix of points\n",
    "            - p: dual solution of the master problem\n",
    "            - q: dual solution of the master problem\n",
    "            - K: number of clusters\n",
    "            - Iter: iteration of the column generation, this is used in the heuristics to avoid the convex hull constraint of the subproblem\n",
    "\n",
    "        output:\n",
    "            - Cluster: new cluster\n",
    "            - reduced cost of the cluster\n",
    "    \"\"\"\n",
    "\n",
    "    N = size(data,1)\n",
    "    D = size(data,2)\n",
    "\n",
    "    ###Subproblem\n",
    "    sp_model = JuMP.Model(() -> Gurobi.Optimizer(GRB_ENV))\n",
    "    set_optimizer_attributes( sp_model, \"OutputFlag\" => 0)\n",
    "\n",
    "    @variable(sp_model, θ[1:N])\n",
    "    @variable(sp_model, a[1:N], Bin)\n",
    "    @variable(sp_model, f[1:N, 1:N])\n",
    "    @variable(sp_model, b[1:N-K+1], Bin)\n",
    "    @variable(sp_model, γ[1:N,1:N,1:N-K+1])\n",
    "    @variable(sp_model, z[1:N,1:N-K+1])\n",
    "\n",
    "    @constraint(sp_model, [i=1:N, j=1:N], f[i,j] <= a[i])\n",
    "    @constraint(sp_model, [i=1:N, j=1:N], f[i,j] <= a[j])\n",
    "    @constraint(sp_model, [i=1:N, j=1:N], f[i,j] >= a[i] + a[j] - 1)\n",
    "    @constraint(sp_model, sum(a[i] for i=1:N) >= 1)\n",
    "\n",
    "    @constraint(sp_model, [i=1:N, j=1:N, l=1:N-K+1], γ[i,j,l] <= f[i,j])\n",
    "    @constraint(sp_model, [i=1:N, j=1:N, l=1:N-K+1], γ[i,j,l] <= b[l])\n",
    "    @constraint(sp_model, [i=1:N, j=1:N, l=1:N-K+1], γ[i,j,l] >= f[i,j] + b[l] - 1)\n",
    "\n",
    "    @constraint(sp_model, sum(b[l] for l=1:N-K+1) == 1)\n",
    "\n",
    "    @constraint(sp_model, [i=1:N], [θ[i]; sum( 1/l .* sum( γ[i,j,l] .* (data[i,:] .- data[j,:]) for j=1:N) for l=1:N-K+1)] in SecondOrderCone()) #\n",
    "    \n",
    "    ### heuristics constraint\n",
    "    @constraint(sp_model, [i=1:N, l=1:N-K+1], z[i,l] >= b[l] + a[i] -1)\n",
    "    @constraint(sp_model, [i=1:N, l=1:N-K+1], z[i,l] <= b[l])\n",
    "    @constraint(sp_model, [i=1:N, l=1:N-K+1], z[i,l] <= a[i])\n",
    "    @constraint(sp_model, [i=1:N], [5/(Iter/4); (data[i,:] .- sum(1/l .* sum( data[j,:] * z[j,l] for j in 1:N)  for l in 1:N-K+1))] in SecondOrderCone())\n",
    "\n",
    "    @objective(sp_model, Min, sum( θ[i] - a[i]*p[i] for i in 1:N))\n",
    "\n",
    "    optimize!(sp_model)\n",
    "\n",
    "\n",
    "    #### Retrieve cluster from solution\n",
    "    assignments = vec(findall(x->x>0.9, value.(a)))\n",
    "    #@printf(\"Assignments: %s\\n\", value.(a))\n",
    "    #@printf(\"Assignments: %s\\n\", value.(θ))\n",
    "    cost, centroid = compute_cluster_centroid_cost(assignments)\n",
    "    Clust = Cluster(assignments, centroid, cost)\n",
    "    reduced_cost = compute_reduced_cost(Clust, p, q)\n",
    "\n",
    "    return Clust, reduced_cost\n",
    "\n",
    "end "
   ]
  },
  {
   "attachments": {},
   "cell_type": "markdown",
   "metadata": {},
   "source": [
    "### Master problem"
   ]
  },
  {
   "cell_type": "code",
   "execution_count": 13,
   "metadata": {},
   "outputs": [
    {
     "data": {
      "text/plain": [
       "initial_clusters (generic function with 2 methods)"
      ]
     },
     "metadata": {},
     "output_type": "display_data"
    }
   ],
   "source": [
    "function initial_clusters(data::Matrix{Float64}, K::Int64, n_initial_clusters::Int64, seed::Int64 = 1)\n",
    "\n",
    "    clusters = Cluster[]\n",
    "\n",
    "    for i in 1:n_initial_clusters\n",
    "        Random.seed!(seed * i)\n",
    "        km =  kmeans(data', K).assignments\n",
    "        for k in 1:K\n",
    "            assinments = findall(x->x==k, km); \n",
    "            cost, centroid = compute_cluster_centroid_cost(assinments)\n",
    "            push!(clusters, Cluster(assinments, centroid, cost))\n",
    "        end\n",
    "    end\n",
    "    return clusters\n",
    "end"
   ]
  },
  {
   "cell_type": "code",
   "execution_count": 19,
   "metadata": {},
   "outputs": [
    {
     "data": {
      "text/plain": [
       "column_generation (generic function with 3 methods)"
      ]
     },
     "metadata": {},
     "output_type": "display_data"
    }
   ],
   "source": [
    "function column_generation(data::Matrix{Float64}, K::Int64, n_initial_clusters::Int64, max_iterations::Int = 10000, verbose::Bool = true)\n",
    "\n",
    "    N = size(data,1)\n",
    "    \n",
    "    # Initialization\n",
    "    CG_solution = nothing\n",
    "    CG_objective = 0.0\n",
    "    upper_bounds = []\n",
    "    lower_bounds = []\n",
    "    MP_time = []\n",
    "    SP_time = []\n",
    "    p_values = []\n",
    "    q_values = []\n",
    "\n",
    "    if verbose\n",
    "        @printf(\"              | Objective | Lower bound | MP time (s) | SP time (s) | Reduced cost\\n\")\n",
    "    end\n",
    "\n",
    "    # Creates initial clusters\n",
    "    clusters = initial_clusters(data, K, n_initial_clusters, 1)\n",
    "    counter = 0\n",
    "\n",
    "    while true\n",
    "        counter += 1\n",
    "        # Make restricted master problem with current clusters \n",
    "        MP_start_time = time()\n",
    "        model = JuMP.Model(() -> Gurobi.Optimizer(GRB_ENV))\n",
    "        set_optimizer_attributes(\n",
    "            model,\n",
    "            \"OutputFlag\" => 0,\n",
    "        )\n",
    "\n",
    "        @variable(model, x[r in 1:length(clusters)] ≥ 0)\n",
    "\n",
    "        @constraint(model, points_assigned[r=1:N], sum(x[r] for r in 1:length(clusters) if r in clusters[r].assignments) == 1)\n",
    "        @constraint(model, number_clusters, sum(x[r] for r in 1:length(clusters)) == K)\n",
    "\n",
    "        @objective(model, Min, sum(x[r] * clusters[r].cost for r in 1:length(clusters)))\n",
    "\n",
    "        optimize!(model)\n",
    "        MP_end_time = time()\n",
    "\n",
    "        ### Get duals\n",
    "        p = vec(dual.(points_assigned))\n",
    "        push!(p_values, p)\n",
    "\n",
    "        q = dual.(number_clusters)\n",
    "        push!(q_values, q)\n",
    "\n",
    "        # Update column generation metrics\n",
    "        push!(upper_bounds, objective_value(model))\n",
    "        push!(MP_time, MP_end_time - MP_start_time)\n",
    "\n",
    "        # Compute a new route to add and its corresponding reduced cost\n",
    "        SP_start_time = time()\n",
    "        #clust, reduced_cost = new_cluster(data, p, q, K, counter)\n",
    "        clust, reduced_cost = subproblem_heuristic(data, p, q, counter)\n",
    "        SP_end_time = time()\n",
    "\n",
    "        # Update column generation metrics\n",
    "        push!(lower_bounds, objective_value(model) + min(N * reduced_cost,0))\n",
    "        push!(SP_time, SP_end_time - SP_start_time)\n",
    "\n",
    "        if verbose\n",
    "            # @printf(\"              | Objective | MP time (s) | SP time (s) | Reduced cost\")\n",
    "            @printf(\n",
    "                \"Iteration %3d | %9.3f | %11.3f |      %6.3f |      %6.3f | %12.3f\\n\",\n",
    "                counter, \n",
    "                upper_bounds[end],\n",
    "                lower_bounds[end],\n",
    "                MP_time[end],\n",
    "                SP_time[end],\n",
    "                reduced_cost,\n",
    "            )\n",
    "        end\n",
    "\n",
    "        # Termination criteria\n",
    "        if (reduced_cost > -1e-6 || counter > max_iterations)  \n",
    "            CG_solution = value.(x)\n",
    "            CG_objective = objective_value(model)\n",
    "            break\n",
    "        end\n",
    "        push!(clusters, clust)\n",
    "\n",
    "    end\n",
    "    #### solve MP with integer variables\n",
    "    ############# TO DO ##################\n",
    "\n",
    "    # Solve model again with the same variables, enforcing integrality\n",
    "\n",
    "    model = JuMP.Model(() -> Gurobi.Optimizer(GRB_ENV))\n",
    "    set_optimizer_attributes( model, \"OutputFlag\" => 0)\n",
    "\n",
    "    @variable(model, x[r in 1:length(clusters)], Bin)\n",
    "\n",
    "    @constraint(model, points_assigned[r=1:N], sum(x[r] for r in 1:length(clusters) if r in clusters[r].assignments) == 1)\n",
    "    @constraint(model, number_clusters, sum(x[r] for r in 1:length(clusters)) == K)\n",
    "\n",
    "    @objective(model, Min, sum(x[r] * clusters[r].cost for r in 1:length(clusters)))\n",
    "\n",
    "    optimize!(model)\n",
    "\n",
    "    return Dict(\n",
    "        \"CGIP_solution\" => value.(x),\n",
    "        \"CGIP_objective\" => objective_value(model),\n",
    "        \"CGLP_solution\" => CG_solution,\n",
    "        \"CGLP_objective\" => CG_objective,\n",
    "        \"clusters\" => clusters,\n",
    "        \"p_values\" => p_values,\n",
    "        \"q_values\" => q_values,\n",
    "        \"upper_bounds\" => upper_bounds,\n",
    "        \"lower_bounds\" => lower_bounds,\n",
    "        \"MP_time\" => MP_time,\n",
    "        \"SP_time\" => SP_time,\n",
    "        \"time_taken\" => sum(MP_time) + sum(SP_time),\n",
    "    )\n",
    "end"
   ]
  },
  {
   "cell_type": "code",
   "execution_count": 20,
   "metadata": {},
   "outputs": [],
   "source": [
    "points = generate_points(2, 20, 2, 0.9);"
   ]
  },
  {
   "cell_type": "code",
   "execution_count": 21,
   "metadata": {},
   "outputs": [
    {
     "name": "stdout",
     "output_type": "stream",
     "text": [
      "              | Objective | Lower bound | MP time (s) | SP time (s) | Reduced cost\n",
      "Iteration   1 |     2.210 |     -19.888 |       0.019 |       0.000 |       -1.105\n",
      "Iteration   2 |     1.105 |     -16.830 |       0.000 |       0.000 |       -0.897\n",
      "Iteration   3 |     1.105 |     -18.169 |       0.000 |       0.000 |       -0.964\n",
      "Iteration   4 |     1.105 |     -16.830 |       0.000 |       0.000 |       -0.897\n",
      "Iteration   5 |     1.105 |     -16.484 |       0.000 |       0.000 |       -0.879\n",
      "Iteration   6 |     1.105 |     -16.484 |       0.000 |       0.000 |       -0.879\n",
      "Iteration   7 |     1.105 |     -16.830 |       0.000 |       0.000 |       -0.897\n",
      "Iteration   8 |     1.105 |      -4.778 |       0.000 |       0.000 |       -0.294\n",
      "Iteration   9 |     1.105 |     -16.484 |       0.000 |       0.000 |       -0.879\n",
      "Iteration  10 |     1.105 |     -12.566 |       0.000 |       0.000 |       -0.684\n",
      "Iteration  11 |     1.105 |     -16.830 |       0.000 |       0.000 |       -0.897\n",
      "Iteration  12 |     1.105 |     -16.830 |       0.000 |       0.000 |       -0.897\n",
      "Iteration  13 |     1.105 |     -16.830 |       0.000 |       0.000 |       -0.897\n",
      "Iteration  14 |     1.105 |     -16.830 |       0.000 |       0.000 |       -0.897\n",
      "Iteration  15 |     1.105 |     -12.566 |       0.000 |       0.000 |       -0.684\n",
      "Iteration  16 |     1.105 |     -19.355 |       0.000 |       0.000 |       -1.023\n",
      "Iteration  17 |     1.105 |     -18.169 |       0.000 |       0.000 |       -0.964\n",
      "Iteration  18 |     1.105 |     -16.830 |       0.000 |       0.000 |       -0.897\n",
      "Iteration  19 |     1.105 |     -16.830 |       0.000 |       0.000 |       -0.897\n",
      "Iteration  20 |     1.105 |      -8.790 |       0.000 |       0.000 |       -0.495\n",
      "Iteration  21 |     1.105 |     -14.891 |       0.000 |       0.000 |       -0.800\n",
      "Iteration  22 |     1.105 |     -12.566 |       0.000 |       0.000 |       -0.684\n",
      "Iteration  23 |     1.105 |     -16.830 |       0.000 |       0.000 |       -0.897\n",
      "Iteration  24 |     1.105 |     -16.830 |       0.000 |       0.000 |       -0.897\n",
      "Iteration  25 |     1.105 |     -16.484 |       0.000 |       0.000 |       -0.879\n",
      "Iteration  26 |     1.105 |     -14.891 |       0.000 |       0.000 |       -0.800\n",
      "Iteration  27 |     1.105 |     -14.891 |       0.000 |       0.000 |       -0.800\n",
      "Iteration  28 |     1.105 |     -19.355 |       0.000 |       0.000 |       -1.023\n",
      "Iteration  29 |     1.105 |     -12.566 |       0.000 |       0.000 |       -0.684\n",
      "Iteration  30 |     1.105 |     -10.725 |       0.000 |       0.000 |       -0.591\n",
      "Iteration  31 |     1.105 |     -16.830 |       0.000 |       0.000 |       -0.897\n",
      "Iteration  32 |     1.105 |     -16.830 |       0.000 |       0.000 |       -0.897\n",
      "Iteration  33 |     1.105 |     -16.484 |       0.000 |       0.000 |       -0.879\n",
      "Iteration  34 |     1.105 |     -14.891 |       0.000 |       0.000 |       -0.800\n",
      "Iteration  35 |     1.105 |     -12.566 |       0.000 |       0.000 |       -0.684\n",
      "Iteration  36 |     1.105 |      -8.790 |       0.000 |       0.000 |       -0.495\n",
      "Iteration  37 |     1.105 |     -16.830 |       0.000 |       0.000 |       -0.897\n",
      "Iteration  38 |     1.105 |     -14.891 |       0.000 |       0.000 |       -0.800\n",
      "Iteration  39 |     1.105 |     -14.891 |       0.000 |       0.000 |       -0.800\n",
      "Iteration  40 |     1.105 |      -4.778 |       0.000 |       0.000 |       -0.294\n",
      "Iteration  41 |     1.105 |     -16.484 |       0.000 |       0.000 |       -0.879\n",
      "Iteration  42 |     1.105 |      -8.790 |       0.000 |       0.000 |       -0.495\n",
      "Iteration  43 |     1.105 |     -16.830 |       0.000 |       0.000 |       -0.897\n",
      "Iteration  44 |     1.105 |     -16.484 |       0.000 |       0.000 |       -0.879\n",
      "Iteration  45 |     1.105 |     -16.830 |       0.000 |       0.000 |       -0.897\n",
      "Iteration  46 |     1.105 |     -16.830 |       0.000 |       0.000 |       -0.897\n",
      "Iteration  47 |     1.105 |     -12.566 |       0.000 |       0.000 |       -0.684\n",
      "Iteration  48 |     1.105 |      -8.790 |       0.000 |       0.000 |       -0.495\n",
      "Iteration  49 |     1.105 |     -16.484 |       0.000 |       0.000 |       -0.879\n",
      "Iteration  50 |     1.105 |     -12.566 |       0.000 |       0.000 |       -0.684\n",
      "Iteration  51 |     1.105 |     -16.830 |       0.000 |       0.000 |       -0.897\n",
      "Iteration  52 |     1.105 |      -4.778 |       0.000 |       0.000 |       -0.294\n",
      "Iteration  53 |     1.105 |      -4.778 |       0.000 |       0.000 |       -0.294\n",
      "Iteration  54 |     1.105 |     -18.169 |       0.000 |       0.000 |       -0.964\n",
      "Iteration  55 |     1.105 |     -15.301 |       0.000 |       0.000 |       -0.820\n",
      "Iteration  56 |     1.105 |     -19.567 |       0.000 |       0.000 |       -1.034\n",
      "Iteration  57 |     1.105 |     -19.567 |       0.000 |       0.000 |       -1.034\n",
      "Iteration  58 |     1.105 |     -15.301 |       0.000 |       0.000 |       -0.820\n",
      "Iteration  59 |     1.105 |     -19.567 |       0.000 |       0.000 |       -1.034\n",
      "Iteration  60 |     1.105 |     -10.452 |       0.000 |       0.000 |       -0.578\n",
      "Iteration  61 |     1.105 |     -15.301 |       0.000 |       0.000 |       -0.820\n",
      "Iteration  62 |     1.105 |     -10.452 |       0.003 |       0.000 |       -0.578\n",
      "Iteration  63 |     1.105 |     -17.079 |       0.001 |       0.000 |       -0.909\n",
      "Iteration  64 |     1.105 |     -15.301 |       0.001 |       0.000 |       -0.820\n",
      "Iteration  65 |     1.105 |     -10.452 |       0.001 |       0.000 |       -0.578\n",
      "Iteration  66 |     1.105 |     -17.079 |       0.000 |       0.000 |       -0.909\n",
      "Iteration  67 |     1.105 |     -10.452 |       0.000 |       0.000 |       -0.578\n",
      "Iteration  68 |     1.105 |     -15.301 |       0.000 |       0.000 |       -0.820\n",
      "Iteration  69 |     1.105 |     -17.079 |       0.000 |       0.000 |       -0.909\n",
      "Iteration  70 |     1.105 |     -15.301 |       0.001 |       0.000 |       -0.820\n",
      "Iteration  71 |     1.105 |     -15.301 |       0.000 |       0.000 |       -0.820\n",
      "Iteration  72 |     1.105 |     -17.079 |       0.000 |       0.000 |       -0.909\n",
      "Iteration  73 |     1.105 |     -19.567 |       0.001 |       0.000 |       -1.034\n",
      "Iteration  74 |     1.105 |     -15.301 |       0.000 |       0.000 |       -0.820\n",
      "Iteration  75 |     1.105 |     -15.301 |       0.001 |       0.000 |       -0.820\n",
      "Iteration  76 |     1.105 |     -20.993 |       0.001 |       0.000 |       -1.105\n",
      "Iteration  77 |     1.105 |     -15.301 |       0.001 |       0.000 |       -0.820\n",
      "Iteration  78 |     1.105 |     -15.301 |       0.001 |       0.000 |       -0.820\n",
      "Iteration  79 |     1.105 |     -15.301 |       0.000 |       0.000 |       -0.820\n",
      "Iteration  80 |     1.105 |     -10.452 |       0.000 |       0.000 |       -0.578\n",
      "Iteration  81 |     1.105 |     -15.301 |       0.001 |       0.000 |       -0.820\n",
      "Iteration  82 |     1.105 |     -15.301 |       0.000 |       0.000 |       -0.820\n",
      "Iteration  83 |     1.105 |     -15.301 |       0.001 |       0.000 |       -0.820\n"
     ]
    },
    {
     "name": "stdout",
     "output_type": "stream",
     "text": [
      "Iteration  84 |     1.105 |     -10.452 |       0.037 |       0.000 |       -0.578\n",
      "Iteration  85 |     1.105 |     -15.301 |       0.001 |       0.000 |       -0.820\n",
      "Iteration  86 |     1.105 |     -10.452 |       0.001 |       0.000 |       -0.578\n",
      "Iteration  87 |     1.105 |     -15.301 |       0.001 |       0.000 |       -0.820\n",
      "Iteration  88 |     1.105 |     -10.452 |       0.001 |       0.000 |       -0.578\n",
      "Iteration  89 |     1.105 |     -15.301 |       0.001 |       0.000 |       -0.820\n",
      "Iteration  90 |     1.105 |     -17.079 |       0.001 |       0.000 |       -0.909\n",
      "Iteration  91 |     1.105 |     -19.567 |       0.001 |       0.000 |       -1.034\n",
      "Iteration  92 |     1.105 |     -15.301 |       0.001 |       0.000 |       -0.820\n",
      "Iteration  93 |     1.105 |     -19.567 |       0.001 |       0.000 |       -1.034\n",
      "Iteration  94 |     1.105 |     -15.301 |       0.001 |       0.000 |       -0.820\n",
      "Iteration  95 |     1.105 |     -15.301 |       0.001 |       0.000 |       -0.820\n",
      "Iteration  96 |     1.105 |     -15.301 |       0.001 |       0.000 |       -0.820\n",
      "Iteration  97 |     1.105 |       1.105 |       0.001 |       0.000 |        0.000\n"
     ]
    },
    {
     "name": "stdout",
     "output_type": "stream",
     "text": [
      "  0.371075 seconds (1.39 M allocations: 86.928 MiB, 5.31% gc time, 74.41% compilation time)\n"
     ]
    }
   ],
   "source": [
    "points = generate_points(2, 20, 2, 1.0);\n",
    "\n",
    "@time results = column_generation(points, 2, 20);"
   ]
  },
  {
   "cell_type": "code",
   "execution_count": 22,
   "metadata": {},
   "outputs": [
    {
     "data": {
      "image/png": "[encoded data removed]",
      "image/svg+xml": [
       "<?xml version=\"1.0\" encoding=\"utf-8\"?>\n",
       "<svg xmlns=\"http://www.w3.org/2000/svg\" xmlns:xlink=\"http://www.w3.org/1999/xlink\" width=\"600\" height=\"400\" viewBox=\"0 0 2400 1600\">\n",
       "<defs>\n",
       "  <clipPath id=\"clip390\">\n",
       "    <rect x=\"0\" y=\"0\" width=\"2400\" height=\"1600\"/>\n",
       "  </clipPath>\n",
       "</defs>\n",
       "<path clip-path=\"url(#clip390)\" d=\"\n",
       "M0 1600 L2400 1600 L2400 0 L0 0  Z\n",
       "  \" fill=\"#ffffff\" fill-rule=\"evenodd\" fill-opacity=\"1\"/>\n",
       "<defs>\n",
       "  <clipPath id=\"clip391\">\n",
       "    <rect x=\"480\" y=\"0\" width=\"1681\" height=\"1600\"/>\n",
       "  </clipPath>\n",
       "</defs>\n",
       "<path clip-path=\"url(#clip390)\" d=\"\n",
       "M178.867 1486.45 L2352.76 1486.45 L2352.76 47.2441 L178.867 47.2441  Z\n",
       "  \" fill=\"#ffffff\" fill-rule=\"evenodd\" fill-opacity=\"1\"/>\n",
       "<defs>\n",
       "  <clipPath id=\"clip392\">\n",
       "    <rect x=\"178\" y=\"47\" width=\"2175\" height=\"1440\"/>\n",
       "  </clipPath>\n",
       "</defs>\n",
       "<polyline clip-path=\"url(#clip392)\" style=\"stroke:#000000; stroke-linecap:round; stroke-linejoin:round; stroke-width:2; stroke-opacity:0.1; fill:none\" points=\"\n",
       "  219.029,1486.45 219.029,47.2441 \n",
       "  \"/>\n",
       "<polyline clip-path=\"url(#clip392)\" style=\"stroke:#000000; stroke-linecap:round; stroke-linejoin:round; stroke-width:2; stroke-opacity:0.1; fill:none\" points=\"\n",
       "  646.287,1486.45 646.287,47.2441 \n",
       "  \"/>\n",
       "<polyline clip-path=\"url(#clip392)\" style=\"stroke:#000000; stroke-linecap:round; stroke-linejoin:round; stroke-width:2; stroke-opacity:0.1; fill:none\" points=\"\n",
       "  1073.55,1486.45 1073.55,47.2441 \n",
       "  \"/>\n",
       "<polyline clip-path=\"url(#clip392)\" style=\"stroke:#000000; stroke-linecap:round; stroke-linejoin:round; stroke-width:2; stroke-opacity:0.1; fill:none\" points=\"\n",
       "  1500.8,1486.45 1500.8,47.2441 \n",
       "  \"/>\n",
       "<polyline clip-path=\"url(#clip392)\" style=\"stroke:#000000; stroke-linecap:round; stroke-linejoin:round; stroke-width:2; stroke-opacity:0.1; fill:none\" points=\"\n",
       "  1928.06,1486.45 1928.06,47.2441 \n",
       "  \"/>\n",
       "<polyline clip-path=\"url(#clip390)\" style=\"stroke:#000000; stroke-linecap:round; stroke-linejoin:round; stroke-width:4; stroke-opacity:1; fill:none\" points=\"\n",
       "  178.867,1486.45 2352.76,1486.45 \n",
       "  \"/>\n",
       "<polyline clip-path=\"url(#clip390)\" style=\"stroke:#000000; stroke-linecap:round; stroke-linejoin:round; stroke-width:4; stroke-opacity:1; fill:none\" points=\"\n",
       "  219.029,1486.45 219.029,1467.55 \n",
       "  \"/>\n",
       "<polyline clip-path=\"url(#clip390)\" style=\"stroke:#000000; stroke-linecap:round; stroke-linejoin:round; stroke-width:4; stroke-opacity:1; fill:none\" points=\"\n",
       "  646.287,1486.45 646.287,1467.55 \n",
       "  \"/>\n",
       "<polyline clip-path=\"url(#clip390)\" style=\"stroke:#000000; stroke-linecap:round; stroke-linejoin:round; stroke-width:4; stroke-opacity:1; fill:none\" points=\"\n",
       "  1073.55,1486.45 1073.55,1467.55 \n",
       "  \"/>\n",
       "<polyline clip-path=\"url(#clip390)\" style=\"stroke:#000000; stroke-linecap:round; stroke-linejoin:round; stroke-width:4; stroke-opacity:1; fill:none\" points=\"\n",
       "  1500.8,1486.45 1500.8,1467.55 \n",
       "  \"/>\n",
       "<polyline clip-path=\"url(#clip390)\" style=\"stroke:#000000; stroke-linecap:round; stroke-linejoin:round; stroke-width:4; stroke-opacity:1; fill:none\" points=\"\n",
       "  1928.06,1486.45 1928.06,1467.55 \n",
       "  \"/>\n",
       "<path clip-path=\"url(#clip390)\" d=\"M219.029 1517.37 Q215.418 1517.37 213.589 1520.93 Q211.784 1524.47 211.784 1531.6 Q211.784 1538.71 213.589 1542.27 Q215.418 1545.82 219.029 1545.82 Q222.663 1545.82 224.469 1542.27 Q226.297 1538.71 226.297 1531.6 Q226.297 1524.47 224.469 1520.93 Q222.663 1517.37 219.029 1517.37 M219.029 1513.66 Q224.839 1513.66 227.895 1518.27 Q230.973 1522.85 230.973 1531.6 Q230.973 1540.33 227.895 1544.94 Q224.839 1549.52 219.029 1549.52 Q213.219 1549.52 210.14 1544.94 Q207.085 1540.33 207.085 1531.6 Q207.085 1522.85 210.14 1518.27 Q213.219 1513.66 219.029 1513.66 Z\" fill=\"#000000\" fill-rule=\"evenodd\" fill-opacity=\"1\" /><path clip-path=\"url(#clip390)\" d=\"M625.06 1544.91 L641.38 1544.91 L641.38 1548.85 L619.435 1548.85 L619.435 1544.91 Q622.097 1542.16 626.681 1537.53 Q631.287 1532.88 632.468 1531.53 Q634.713 1529.01 635.593 1527.27 Q636.495 1525.51 636.495 1523.82 Q636.495 1521.07 634.551 1519.33 Q632.63 1517.6 629.528 1517.6 Q627.329 1517.6 624.875 1518.36 Q622.445 1519.13 619.667 1520.68 L619.667 1515.95 Q622.491 1514.82 624.945 1514.24 Q627.398 1513.66 629.435 1513.66 Q634.806 1513.66 638 1516.35 Q641.194 1519.03 641.194 1523.52 Q641.194 1525.65 640.384 1527.57 Q639.597 1529.47 637.491 1532.07 Q636.912 1532.74 633.81 1535.95 Q630.708 1539.15 625.06 1544.91 Z\" fill=\"#000000\" fill-rule=\"evenodd\" fill-opacity=\"1\" /><path clip-path=\"url(#clip390)\" d=\"M661.194 1517.37 Q657.583 1517.37 655.755 1520.93 Q653.949 1524.47 653.949 1531.6 Q653.949 1538.71 655.755 1542.27 Q657.583 1545.82 661.194 1545.82 Q664.829 1545.82 666.634 1542.27 Q668.463 1538.71 668.463 1531.6 Q668.463 1524.47 666.634 1520.93 Q664.829 1517.37 661.194 1517.37 M661.194 1513.66 Q667.004 1513.66 670.06 1518.27 Q673.139 1522.85 673.139 1531.6 Q673.139 1540.33 670.06 1544.94 Q667.004 1549.52 661.194 1549.52 Q655.384 1549.52 652.305 1544.94 Q649.25 1540.33 649.25 1531.6 Q649.25 1522.85 652.305 1518.27 Q655.384 1513.66 661.194 1513.66 Z\" fill=\"#000000\" fill-rule=\"evenodd\" fill-opacity=\"1\" /><path clip-path=\"url(#clip390)\" d=\"M1061.72 1518.36 L1049.91 1536.81 L1061.72 1536.81 L1061.72 1518.36 M1060.49 1514.29 L1066.37 1514.29 L1066.37 1536.81 L1071.3 1536.81 L1071.3 1540.7 L1066.37 1540.7 L1066.37 1548.85 L1061.72 1548.85 L1061.72 1540.7 L1046.11 1540.7 L1046.11 1536.19 L1060.49 1514.29 Z\" fill=\"#000000\" fill-rule=\"evenodd\" fill-opacity=\"1\" /><path clip-path=\"url(#clip390)\" d=\"M1089.03 1517.37 Q1085.42 1517.37 1083.59 1520.93 Q1081.79 1524.47 1081.79 1531.6 Q1081.79 1538.71 1083.59 1542.27 Q1085.42 1545.82 1089.03 1545.82 Q1092.67 1545.82 1094.47 1542.27 Q1096.3 1538.71 1096.3 1531.6 Q1096.3 1524.47 1094.47 1520.93 Q1092.67 1517.37 1089.03 1517.37 M1089.03 1513.66 Q1094.84 1513.66 1097.9 1518.27 Q1100.98 1522.85 1100.98 1531.6 Q1100.98 1540.33 1097.9 1544.94 Q1094.84 1549.52 1089.03 1549.52 Q1083.22 1549.52 1080.14 1544.94 Q1077.09 1540.33 1077.09 1531.6 Q1077.09 1522.85 1080.14 1518.27 Q1083.22 1513.66 1089.03 1513.66 Z\" fill=\"#000000\" fill-rule=\"evenodd\" fill-opacity=\"1\" /><path clip-path=\"url(#clip390)\" d=\"M1486.21 1529.7 Q1483.06 1529.7 1481.21 1531.86 Q1479.38 1534.01 1479.38 1537.76 Q1479.38 1541.49 1481.21 1543.66 Q1483.06 1545.82 1486.21 1545.82 Q1489.36 1545.82 1491.19 1543.66 Q1493.04 1541.49 1493.04 1537.76 Q1493.04 1534.01 1491.19 1531.86 Q1489.36 1529.7 1486.21 1529.7 M1495.49 1515.05 L1495.49 1519.31 Q1493.73 1518.48 1491.93 1518.04 Q1490.14 1517.6 1488.38 1517.6 Q1483.75 1517.6 1481.3 1520.72 Q1478.87 1523.85 1478.52 1530.17 Q1479.89 1528.15 1481.95 1527.09 Q1484.01 1526 1486.49 1526 Q1491.69 1526 1494.7 1529.17 Q1497.74 1532.32 1497.74 1537.76 Q1497.74 1543.08 1494.59 1546.3 Q1491.44 1549.52 1486.21 1549.52 Q1480.21 1549.52 1477.04 1544.94 Q1473.87 1540.33 1473.87 1531.6 Q1473.87 1523.41 1477.76 1518.55 Q1481.65 1513.66 1488.2 1513.66 Q1489.96 1513.66 1491.74 1514.01 Q1493.55 1514.36 1495.49 1515.05 Z\" fill=\"#000000\" fill-rule=\"evenodd\" fill-opacity=\"1\" /><path clip-path=\"url(#clip390)\" d=\"M1515.79 1517.37 Q1512.18 1517.37 1510.35 1520.93 Q1508.55 1524.47 1508.55 1531.6 Q1508.55 1538.71 1510.35 1542.27 Q1512.18 1545.82 1515.79 1545.82 Q1519.43 1545.82 1521.23 1542.27 Q1523.06 1538.71 1523.06 1531.6 Q1523.06 1524.47 1521.23 1520.93 Q1519.43 1517.37 1515.79 1517.37 M1515.79 1513.66 Q1521.6 1513.66 1524.66 1518.27 Q1527.74 1522.85 1527.74 1531.6 Q1527.74 1540.33 1524.66 1544.94 Q1521.6 1549.52 1515.79 1549.52 Q1509.98 1549.52 1506.9 1544.94 Q1503.85 1540.33 1503.85 1531.6 Q1503.85 1522.85 1506.9 1518.27 Q1509.98 1513.66 1515.79 1513.66 Z\" fill=\"#000000\" fill-rule=\"evenodd\" fill-opacity=\"1\" /><path clip-path=\"url(#clip390)\" d=\"M1912.93 1532.44 Q1909.6 1532.44 1907.68 1534.22 Q1905.78 1536 1905.78 1539.13 Q1905.78 1542.25 1907.68 1544.03 Q1909.6 1545.82 1912.93 1545.82 Q1916.27 1545.82 1918.19 1544.03 Q1920.11 1542.23 1920.11 1539.13 Q1920.11 1536 1918.19 1534.22 Q1916.29 1532.44 1912.93 1532.44 M1908.26 1530.45 Q1905.25 1529.7 1903.56 1527.64 Q1901.89 1525.58 1901.89 1522.62 Q1901.89 1518.48 1904.83 1516.07 Q1907.8 1513.66 1912.93 1513.66 Q1918.1 1513.66 1921.04 1516.07 Q1923.98 1518.48 1923.98 1522.62 Q1923.98 1525.58 1922.29 1527.64 Q1920.62 1529.7 1917.63 1530.45 Q1921.01 1531.23 1922.89 1533.52 Q1924.79 1535.82 1924.79 1539.13 Q1924.79 1544.15 1921.71 1546.83 Q1918.65 1549.52 1912.93 1549.52 Q1907.22 1549.52 1904.14 1546.83 Q1901.08 1544.15 1901.08 1539.13 Q1901.08 1535.82 1902.98 1533.52 Q1904.88 1531.23 1908.26 1530.45 M1906.55 1523.06 Q1906.55 1525.75 1908.21 1527.25 Q1909.9 1528.76 1912.93 1528.76 Q1915.94 1528.76 1917.63 1527.25 Q1919.35 1525.75 1919.35 1523.06 Q1919.35 1520.38 1917.63 1518.87 Q1915.94 1517.37 1912.93 1517.37 Q1909.9 1517.37 1908.21 1518.87 Q1906.55 1520.38 1906.55 1523.06 Z\" fill=\"#000000\" fill-rule=\"evenodd\" fill-opacity=\"1\" /><path clip-path=\"url(#clip390)\" d=\"M1943.1 1517.37 Q1939.48 1517.37 1937.66 1520.93 Q1935.85 1524.47 1935.85 1531.6 Q1935.85 1538.71 1937.66 1542.27 Q1939.48 1545.82 1943.1 1545.82 Q1946.73 1545.82 1948.54 1542.27 Q1950.36 1538.71 1950.36 1531.6 Q1950.36 1524.47 1948.54 1520.93 Q1946.73 1517.37 1943.1 1517.37 M1943.1 1513.66 Q1948.91 1513.66 1951.96 1518.27 Q1955.04 1522.85 1955.04 1531.6 Q1955.04 1540.33 1951.96 1544.94 Q1948.91 1549.52 1943.1 1549.52 Q1937.29 1549.52 1934.21 1544.94 Q1931.15 1540.33 1931.15 1531.6 Q1931.15 1522.85 1934.21 1518.27 Q1937.29 1513.66 1943.1 1513.66 Z\" fill=\"#000000\" fill-rule=\"evenodd\" fill-opacity=\"1\" /><polyline clip-path=\"url(#clip392)\" style=\"stroke:#000000; stroke-linecap:round; stroke-linejoin:round; stroke-width:2; stroke-opacity:0.1; fill:none\" points=\"\n",
       "  178.867,1387.62 2352.76,1387.62 \n",
       "  \"/>\n",
       "<polyline clip-path=\"url(#clip392)\" style=\"stroke:#000000; stroke-linecap:round; stroke-linejoin:round; stroke-width:2; stroke-opacity:0.1; fill:none\" points=\"\n",
       "  178.867,1095.04 2352.76,1095.04 \n",
       "  \"/>\n",
       "<polyline clip-path=\"url(#clip392)\" style=\"stroke:#000000; stroke-linecap:round; stroke-linejoin:round; stroke-width:2; stroke-opacity:0.1; fill:none\" points=\"\n",
       "  178.867,802.453 2352.76,802.453 \n",
       "  \"/>\n",
       "<polyline clip-path=\"url(#clip392)\" style=\"stroke:#000000; stroke-linecap:round; stroke-linejoin:round; stroke-width:2; stroke-opacity:0.1; fill:none\" points=\"\n",
       "  178.867,509.869 2352.76,509.869 \n",
       "  \"/>\n",
       "<polyline clip-path=\"url(#clip392)\" style=\"stroke:#000000; stroke-linecap:round; stroke-linejoin:round; stroke-width:2; stroke-opacity:0.1; fill:none\" points=\"\n",
       "  178.867,217.285 2352.76,217.285 \n",
       "  \"/>\n",
       "<polyline clip-path=\"url(#clip390)\" style=\"stroke:#000000; stroke-linecap:round; stroke-linejoin:round; stroke-width:4; stroke-opacity:1; fill:none\" points=\"\n",
       "  178.867,1486.45 178.867,47.2441 \n",
       "  \"/>\n",
       "<polyline clip-path=\"url(#clip390)\" style=\"stroke:#000000; stroke-linecap:round; stroke-linejoin:round; stroke-width:4; stroke-opacity:1; fill:none\" points=\"\n",
       "  178.867,1387.62 197.764,1387.62 \n",
       "  \"/>\n",
       "<polyline clip-path=\"url(#clip390)\" style=\"stroke:#000000; stroke-linecap:round; stroke-linejoin:round; stroke-width:4; stroke-opacity:1; fill:none\" points=\"\n",
       "  178.867,1095.04 197.764,1095.04 \n",
       "  \"/>\n",
       "<polyline clip-path=\"url(#clip390)\" style=\"stroke:#000000; stroke-linecap:round; stroke-linejoin:round; stroke-width:4; stroke-opacity:1; fill:none\" points=\"\n",
       "  178.867,802.453 197.764,802.453 \n",
       "  \"/>\n",
       "<polyline clip-path=\"url(#clip390)\" style=\"stroke:#000000; stroke-linecap:round; stroke-linejoin:round; stroke-width:4; stroke-opacity:1; fill:none\" points=\"\n",
       "  178.867,509.869 197.764,509.869 \n",
       "  \"/>\n",
       "<polyline clip-path=\"url(#clip390)\" style=\"stroke:#000000; stroke-linecap:round; stroke-linejoin:round; stroke-width:4; stroke-opacity:1; fill:none\" points=\"\n",
       "  178.867,217.285 197.764,217.285 \n",
       "  \"/>\n",
       "<path clip-path=\"url(#clip390)\" d=\"M50.9921 1388.07 L80.6679 1388.07 L80.6679 1392.01 L50.9921 1392.01 L50.9921 1388.07 Z\" fill=\"#000000\" fill-rule=\"evenodd\" fill-opacity=\"1\" /><path clip-path=\"url(#clip390)\" d=\"M94.7882 1400.97 L111.108 1400.97 L111.108 1404.9 L89.1632 1404.9 L89.1632 1400.97 Q91.8252 1398.21 96.4085 1393.58 Q101.015 1388.93 102.196 1387.59 Q104.441 1385.06 105.321 1383.33 Q106.223 1381.57 106.223 1379.88 Q106.223 1377.12 104.279 1375.39 Q102.358 1373.65 99.2558 1373.65 Q97.0567 1373.65 94.603 1374.41 Q92.1725 1375.18 89.3947 1376.73 L89.3947 1372.01 Q92.2188 1370.87 94.6724 1370.29 Q97.1261 1369.72 99.1632 1369.72 Q104.534 1369.72 107.728 1372.4 Q110.922 1375.09 110.922 1379.58 Q110.922 1381.71 110.112 1383.63 Q109.325 1385.53 107.219 1388.12 Q106.64 1388.79 103.538 1392.01 Q100.436 1395.2 94.7882 1400.97 Z\" fill=\"#000000\" fill-rule=\"evenodd\" fill-opacity=\"1\" /><path clip-path=\"url(#clip390)\" d=\"M130.922 1373.42 Q127.311 1373.42 125.482 1376.98 Q123.677 1380.53 123.677 1387.66 Q123.677 1394.76 125.482 1398.33 Q127.311 1401.87 130.922 1401.87 Q134.556 1401.87 136.362 1398.33 Q138.191 1394.76 138.191 1387.66 Q138.191 1380.53 136.362 1376.98 Q134.556 1373.42 130.922 1373.42 M130.922 1369.72 Q136.732 1369.72 139.788 1374.32 Q142.867 1378.91 142.867 1387.66 Q142.867 1396.38 139.788 1400.99 Q136.732 1405.57 130.922 1405.57 Q125.112 1405.57 122.033 1400.99 Q118.978 1396.38 118.978 1387.66 Q118.978 1378.91 122.033 1374.32 Q125.112 1369.72 130.922 1369.72 Z\" fill=\"#000000\" fill-rule=\"evenodd\" fill-opacity=\"1\" /><path clip-path=\"url(#clip390)\" d=\"M51.9875 1095.49 L81.6633 1095.49 L81.6633 1099.42 L51.9875 1099.42 L51.9875 1095.49 Z\" fill=\"#000000\" fill-rule=\"evenodd\" fill-opacity=\"1\" /><path clip-path=\"url(#clip390)\" d=\"M92.566 1108.38 L100.205 1108.38 L100.205 1082.02 L91.8947 1083.68 L91.8947 1079.42 L100.159 1077.76 L104.834 1077.76 L104.834 1108.38 L112.473 1108.38 L112.473 1112.32 L92.566 1112.32 L92.566 1108.38 Z\" fill=\"#000000\" fill-rule=\"evenodd\" fill-opacity=\"1\" /><path clip-path=\"url(#clip390)\" d=\"M121.964 1077.76 L140.32 1077.76 L140.32 1081.69 L126.246 1081.69 L126.246 1090.16 Q127.265 1089.82 128.283 1089.65 Q129.302 1089.47 130.32 1089.47 Q136.107 1089.47 139.487 1092.64 Q142.867 1095.81 142.867 1101.23 Q142.867 1106.81 139.394 1109.91 Q135.922 1112.99 129.603 1112.99 Q127.427 1112.99 125.158 1112.62 Q122.913 1112.25 120.506 1111.51 L120.506 1106.81 Q122.589 1107.94 124.811 1108.5 Q127.033 1109.05 129.51 1109.05 Q133.515 1109.05 135.853 1106.95 Q138.191 1104.84 138.191 1101.23 Q138.191 1097.62 135.853 1095.51 Q133.515 1093.4 129.51 1093.4 Q127.635 1093.4 125.76 1093.82 Q123.908 1094.24 121.964 1095.12 L121.964 1077.76 Z\" fill=\"#000000\" fill-rule=\"evenodd\" fill-opacity=\"1\" /><path clip-path=\"url(#clip390)\" d=\"M50.9921 802.904 L80.6679 802.904 L80.6679 806.839 L50.9921 806.839 L50.9921 802.904 Z\" fill=\"#000000\" fill-rule=\"evenodd\" fill-opacity=\"1\" /><path clip-path=\"url(#clip390)\" d=\"M91.5706 815.798 L99.2095 815.798 L99.2095 789.432 L90.8993 791.099 L90.8993 786.839 L99.1632 785.173 L103.839 785.173 L103.839 815.798 L111.478 815.798 L111.478 819.733 L91.5706 819.733 L91.5706 815.798 Z\" fill=\"#000000\" fill-rule=\"evenodd\" fill-opacity=\"1\" /><path clip-path=\"url(#clip390)\" d=\"M130.922 788.252 Q127.311 788.252 125.482 791.816 Q123.677 795.358 123.677 802.488 Q123.677 809.594 125.482 813.159 Q127.311 816.7 130.922 816.7 Q134.556 816.7 136.362 813.159 Q138.191 809.594 138.191 802.488 Q138.191 795.358 136.362 791.816 Q134.556 788.252 130.922 788.252 M130.922 784.548 Q136.732 784.548 139.788 789.154 Q142.867 793.738 142.867 802.488 Q142.867 811.214 139.788 815.821 Q136.732 820.404 130.922 820.404 Q125.112 820.404 122.033 815.821 Q118.978 811.214 118.978 802.488 Q118.978 793.738 122.033 789.154 Q125.112 784.548 130.922 784.548 Z\" fill=\"#000000\" fill-rule=\"evenodd\" fill-opacity=\"1\" /><path clip-path=\"url(#clip390)\" d=\"M82.1494 510.32 L111.825 510.32 L111.825 514.255 L82.1494 514.255 L82.1494 510.32 Z\" fill=\"#000000\" fill-rule=\"evenodd\" fill-opacity=\"1\" /><path clip-path=\"url(#clip390)\" d=\"M121.964 492.589 L140.32 492.589 L140.32 496.524 L126.246 496.524 L126.246 504.996 Q127.265 504.649 128.283 504.487 Q129.302 504.302 130.32 504.302 Q136.107 504.302 139.487 507.473 Q142.867 510.644 142.867 516.061 Q142.867 521.64 139.394 524.741 Q135.922 527.82 129.603 527.82 Q127.427 527.82 125.158 527.45 Q122.913 527.079 120.506 526.339 L120.506 521.64 Q122.589 522.774 124.811 523.329 Q127.033 523.885 129.51 523.885 Q133.515 523.885 135.853 521.778 Q138.191 519.672 138.191 516.061 Q138.191 512.45 135.853 510.343 Q133.515 508.237 129.51 508.237 Q127.635 508.237 125.76 508.654 Q123.908 509.07 121.964 509.95 L121.964 492.589 Z\" fill=\"#000000\" fill-rule=\"evenodd\" fill-opacity=\"1\" /><path clip-path=\"url(#clip390)\" d=\"M130.922 203.083 Q127.311 203.083 125.482 206.648 Q123.677 210.19 123.677 217.32 Q123.677 224.426 125.482 227.991 Q127.311 231.532 130.922 231.532 Q134.556 231.532 136.362 227.991 Q138.191 224.426 138.191 217.32 Q138.191 210.19 136.362 206.648 Q134.556 203.083 130.922 203.083 M130.922 199.38 Q136.732 199.38 139.788 203.986 Q142.867 208.57 142.867 217.32 Q142.867 226.046 139.788 230.653 Q136.732 235.236 130.922 235.236 Q125.112 235.236 122.033 230.653 Q118.978 226.046 118.978 217.32 Q118.978 208.57 122.033 203.986 Q125.112 199.38 130.922 199.38 Z\" fill=\"#000000\" fill-rule=\"evenodd\" fill-opacity=\"1\" /><polyline clip-path=\"url(#clip392)\" style=\"stroke:#009af9; stroke-linecap:round; stroke-linejoin:round; stroke-width:4; stroke-opacity:1; fill:none\" points=\"\n",
       "  240.392,87.9763 261.755,152.631 283.118,152.631 304.481,152.631 325.843,152.631 347.206,152.631 368.569,152.631 389.932,152.631 411.295,152.631 432.658,152.631 \n",
       "  454.021,152.631 475.384,152.631 496.747,152.631 518.11,152.631 539.472,152.631 560.835,152.631 582.198,152.631 603.561,152.631 624.924,152.631 646.287,152.631 \n",
       "  667.65,152.631 689.013,152.631 710.376,152.631 731.739,152.631 753.102,152.631 774.464,152.631 795.827,152.631 817.19,152.631 838.553,152.631 859.916,152.631 \n",
       "  881.279,152.631 902.642,152.631 924.005,152.631 945.368,152.631 966.731,152.631 988.093,152.631 1009.46,152.631 1030.82,152.631 1052.18,152.631 1073.55,152.631 \n",
       "  1094.91,152.631 1116.27,152.631 1137.63,152.631 1159,152.631 1180.36,152.631 1201.72,152.631 1223.09,152.631 1244.45,152.631 1265.81,152.631 1287.17,152.631 \n",
       "  1308.54,152.631 1329.9,152.631 1351.26,152.631 1372.63,152.631 1393.99,152.631 1415.35,152.631 1436.71,152.631 1458.08,152.631 1479.44,152.631 1500.8,152.631 \n",
       "  1522.17,152.631 1543.53,152.631 1564.89,152.631 1586.25,152.631 1607.62,152.631 1628.98,152.631 1650.34,152.631 1671.71,152.631 1693.07,152.631 1714.43,152.631 \n",
       "  1735.8,152.631 1757.16,152.631 1778.52,152.631 1799.88,152.631 1821.25,152.631 1842.61,152.631 1863.97,152.631 1885.34,152.631 1906.7,152.631 1928.06,152.631 \n",
       "  1949.42,152.631 1970.79,152.631 1992.15,152.631 2013.51,152.631 2034.88,152.631 2056.24,152.631 2077.6,152.631 2098.96,152.631 2120.33,152.631 2141.69,152.631 \n",
       "  2163.05,152.631 2184.42,152.631 2205.78,152.631 2227.14,152.631 2248.5,152.631 2269.87,152.631 2291.23,152.631 \n",
       "  \"/>\n",
       "<polyline clip-path=\"url(#clip392)\" style=\"stroke:#e26f46; stroke-linecap:round; stroke-linejoin:round; stroke-width:4; stroke-opacity:1; fill:none\" points=\"\n",
       "  240.392,1381.06 261.755,1202.11 283.118,1280.49 304.481,1202.11 325.843,1181.86 347.206,1181.86 368.569,1202.11 389.932,496.861 411.295,1181.86 432.658,952.588 \n",
       "  454.021,1202.11 475.384,1202.11 496.747,1202.11 518.11,1202.11 539.472,952.588 560.835,1349.89 582.198,1280.49 603.561,1202.11 624.924,1202.11 646.287,731.665 \n",
       "  667.65,1088.66 689.013,952.588 710.376,1202.11 731.739,1202.11 753.102,1181.86 774.464,1088.66 795.827,1088.66 817.19,1349.89 838.553,952.588 859.916,844.879 \n",
       "  881.279,1202.11 902.642,1202.11 924.005,1181.86 945.368,1088.66 966.731,952.588 988.093,731.665 1009.46,1202.11 1030.82,1088.66 1052.18,1088.66 1073.55,496.861 \n",
       "  1094.91,1181.86 1116.27,731.665 1137.63,1202.11 1159,1181.86 1180.36,1202.11 1201.72,1202.11 1223.09,952.588 1244.45,731.665 1265.81,1181.86 1287.17,952.588 \n",
       "  1308.54,1202.11 1329.9,496.861 1351.26,496.861 1372.63,1280.49 1393.99,1112.64 1415.35,1362.29 1436.71,1362.29 1458.08,1112.64 1479.44,1362.29 1500.8,828.907 \n",
       "  1522.17,1112.64 1543.53,828.907 1564.89,1216.68 1586.25,1112.64 1607.62,828.907 1628.98,1216.68 1650.34,828.907 1671.71,1112.64 1693.07,1216.68 1714.43,1112.64 \n",
       "  1735.8,1112.64 1757.16,1216.68 1778.52,1362.29 1799.88,1112.64 1821.25,1112.64 1842.61,1445.72 1863.97,1112.64 1885.34,1112.64 1906.7,1112.64 1928.06,828.907 \n",
       "  1949.42,1112.64 1970.79,1112.64 1992.15,1112.64 2013.51,828.907 2034.88,1112.64 2056.24,828.907 2077.6,1112.64 2098.96,828.907 2120.33,1112.64 2141.69,1216.68 \n",
       "  2163.05,1362.29 2184.42,1112.64 2205.78,1362.29 2227.14,1112.64 2248.5,1112.64 2269.87,1112.64 2291.23,152.631 \n",
       "  \"/>\n",
       "<path clip-path=\"url(#clip390)\" d=\"\n",
       "M1923.48 1438.47 L2280.29 1438.47 L2280.29 1282.95 L1923.48 1282.95  Z\n",
       "  \" fill=\"#ffffff\" fill-rule=\"evenodd\" fill-opacity=\"1\"/>\n",
       "<polyline clip-path=\"url(#clip390)\" style=\"stroke:#000000; stroke-linecap:round; stroke-linejoin:round; stroke-width:4; stroke-opacity:1; fill:none\" points=\"\n",
       "  1923.48,1438.47 2280.29,1438.47 2280.29,1282.95 1923.48,1282.95 1923.48,1438.47 \n",
       "  \"/>\n",
       "<polyline clip-path=\"url(#clip390)\" style=\"stroke:#009af9; stroke-linecap:round; stroke-linejoin:round; stroke-width:4; stroke-opacity:1; fill:none\" points=\"\n",
       "  1947.64,1334.79 2092.56,1334.79 \n",
       "  \"/>\n",
       "<path clip-path=\"url(#clip390)\" d=\"M2116.72 1317.51 L2121.42 1317.51 L2121.42 1338.51 Q2121.42 1344.07 2123.43 1346.52 Q2125.44 1348.95 2129.96 1348.95 Q2134.45 1348.95 2136.46 1346.52 Q2138.48 1344.07 2138.48 1338.51 L2138.48 1317.51 L2143.18 1317.51 L2143.18 1339.09 Q2143.18 1345.85 2139.82 1349.3 Q2136.49 1352.75 2129.96 1352.75 Q2123.41 1352.75 2120.05 1349.3 Q2116.72 1345.85 2116.72 1339.09 L2116.72 1317.51 Z\" fill=\"#000000\" fill-rule=\"evenodd\" fill-opacity=\"1\" /><path clip-path=\"url(#clip390)\" d=\"M2155.88 1348.19 L2155.88 1361.94 L2151.6 1361.94 L2151.6 1326.15 L2155.88 1326.15 L2155.88 1330.08 Q2157.23 1327.77 2159.26 1326.66 Q2161.32 1325.52 2164.17 1325.52 Q2168.89 1325.52 2171.83 1329.27 Q2174.8 1333.02 2174.8 1339.13 Q2174.8 1345.25 2171.83 1349 Q2168.89 1352.75 2164.17 1352.75 Q2161.32 1352.75 2159.26 1351.63 Q2157.23 1350.5 2155.88 1348.19 M2170.38 1339.13 Q2170.38 1334.44 2168.43 1331.77 Q2166.51 1329.09 2163.13 1329.09 Q2159.75 1329.09 2157.81 1331.77 Q2155.88 1334.44 2155.88 1339.13 Q2155.88 1343.83 2157.81 1346.52 Q2159.75 1349.18 2163.13 1349.18 Q2166.51 1349.18 2168.43 1346.52 Q2170.38 1343.83 2170.38 1339.13 Z\" fill=\"#000000\" fill-rule=\"evenodd\" fill-opacity=\"1\" /><path clip-path=\"url(#clip390)\" d=\"M2185.98 1348.19 L2185.98 1361.94 L2181.69 1361.94 L2181.69 1326.15 L2185.98 1326.15 L2185.98 1330.08 Q2187.32 1327.77 2189.36 1326.66 Q2191.42 1325.52 2194.26 1325.52 Q2198.99 1325.52 2201.93 1329.27 Q2204.89 1333.02 2204.89 1339.13 Q2204.89 1345.25 2201.93 1349 Q2198.99 1352.75 2194.26 1352.75 Q2191.42 1352.75 2189.36 1351.63 Q2187.32 1350.5 2185.98 1348.19 M2200.47 1339.13 Q2200.47 1334.44 2198.52 1331.77 Q2196.6 1329.09 2193.22 1329.09 Q2189.84 1329.09 2187.9 1331.77 Q2185.98 1334.44 2185.98 1339.13 Q2185.98 1343.83 2187.9 1346.52 Q2189.84 1349.18 2193.22 1349.18 Q2196.6 1349.18 2198.52 1346.52 Q2200.47 1343.83 2200.47 1339.13 Z\" fill=\"#000000\" fill-rule=\"evenodd\" fill-opacity=\"1\" /><path clip-path=\"url(#clip390)\" d=\"M2234.12 1338.05 L2234.12 1340.13 L2214.54 1340.13 Q2214.82 1344.53 2217.18 1346.84 Q2219.56 1349.13 2223.8 1349.13 Q2226.25 1349.13 2228.55 1348.53 Q2230.86 1347.93 2233.13 1346.73 L2233.13 1350.75 Q2230.84 1351.73 2228.43 1352.24 Q2226.02 1352.75 2223.55 1352.75 Q2217.34 1352.75 2213.71 1349.13 Q2210.1 1345.52 2210.1 1339.37 Q2210.1 1333 2213.52 1329.27 Q2216.97 1325.52 2222.81 1325.52 Q2228.04 1325.52 2231.07 1328.9 Q2234.12 1332.26 2234.12 1338.05 M2229.87 1336.8 Q2229.82 1333.3 2227.9 1331.22 Q2226 1329.13 2222.85 1329.13 Q2219.29 1329.13 2217.13 1331.15 Q2215 1333.16 2214.68 1336.82 L2229.87 1336.8 Z\" fill=\"#000000\" fill-rule=\"evenodd\" fill-opacity=\"1\" /><path clip-path=\"url(#clip390)\" d=\"M2256.14 1330.13 Q2255.42 1329.71 2254.56 1329.53 Q2253.73 1329.32 2252.71 1329.32 Q2249.1 1329.32 2247.16 1331.68 Q2245.24 1334.02 2245.24 1338.42 L2245.24 1352.07 L2240.95 1352.07 L2240.95 1326.15 L2245.24 1326.15 L2245.24 1330.18 Q2246.58 1327.82 2248.73 1326.68 Q2250.88 1325.52 2253.96 1325.52 Q2254.4 1325.52 2254.93 1325.59 Q2255.47 1325.64 2256.12 1325.76 L2256.14 1330.13 Z\" fill=\"#000000\" fill-rule=\"evenodd\" fill-opacity=\"1\" /><polyline clip-path=\"url(#clip390)\" style=\"stroke:#e26f46; stroke-linecap:round; stroke-linejoin:round; stroke-width:4; stroke-opacity:1; fill:none\" points=\"\n",
       "  1947.64,1386.63 2092.56,1386.63 \n",
       "  \"/>\n",
       "<path clip-path=\"url(#clip390)\" d=\"M2116.72 1369.35 L2121.39 1369.35 L2121.39 1399.98 L2138.22 1399.98 L2138.22 1403.91 L2116.72 1403.91 L2116.72 1369.35 Z\" fill=\"#000000\" fill-rule=\"evenodd\" fill-opacity=\"1\" /><path clip-path=\"url(#clip390)\" d=\"M2152.16 1380.97 Q2148.73 1380.97 2146.74 1383.66 Q2144.75 1386.32 2144.75 1390.97 Q2144.75 1395.63 2146.72 1398.31 Q2148.71 1400.97 2152.16 1400.97 Q2155.56 1400.97 2157.55 1398.29 Q2159.54 1395.6 2159.54 1390.97 Q2159.54 1386.37 2157.55 1383.68 Q2155.56 1380.97 2152.16 1380.97 M2152.16 1377.36 Q2157.71 1377.36 2160.88 1380.97 Q2164.06 1384.59 2164.06 1390.97 Q2164.06 1397.34 2160.88 1400.97 Q2157.71 1404.59 2152.16 1404.59 Q2146.58 1404.59 2143.41 1400.97 Q2140.26 1397.34 2140.26 1390.97 Q2140.26 1384.59 2143.41 1380.97 Q2146.58 1377.36 2152.16 1377.36 Z\" fill=\"#000000\" fill-rule=\"evenodd\" fill-opacity=\"1\" /><path clip-path=\"url(#clip390)\" d=\"M2168.64 1377.99 L2172.9 1377.99 L2178.22 1398.22 L2183.52 1377.99 L2188.55 1377.99 L2193.87 1398.22 L2199.17 1377.99 L2203.43 1377.99 L2196.65 1403.91 L2191.63 1403.91 L2186.05 1382.66 L2180.44 1403.91 L2175.42 1403.91 L2168.64 1377.99 Z\" fill=\"#000000\" fill-rule=\"evenodd\" fill-opacity=\"1\" /><path clip-path=\"url(#clip390)\" d=\"M2232.06 1389.89 L2232.06 1391.97 L2212.48 1391.97 Q2212.76 1396.37 2215.12 1398.68 Q2217.5 1400.97 2221.74 1400.97 Q2224.19 1400.97 2226.49 1400.37 Q2228.8 1399.77 2231.07 1398.57 L2231.07 1402.59 Q2228.78 1403.57 2226.37 1404.08 Q2223.96 1404.59 2221.49 1404.59 Q2215.28 1404.59 2211.65 1400.97 Q2208.04 1397.36 2208.04 1391.21 Q2208.04 1384.84 2211.46 1381.11 Q2214.91 1377.36 2220.75 1377.36 Q2225.98 1377.36 2229.01 1380.74 Q2232.06 1384.1 2232.06 1389.89 M2227.81 1388.64 Q2227.76 1385.14 2225.84 1383.06 Q2223.94 1380.97 2220.79 1380.97 Q2217.23 1380.97 2215.07 1382.99 Q2212.94 1385 2212.62 1388.66 L2227.81 1388.64 Z\" fill=\"#000000\" fill-rule=\"evenodd\" fill-opacity=\"1\" /><path clip-path=\"url(#clip390)\" d=\"M2254.08 1381.97 Q2253.36 1381.55 2252.5 1381.37 Q2251.67 1381.16 2250.65 1381.16 Q2247.04 1381.16 2245.1 1383.52 Q2243.18 1385.86 2243.18 1390.26 L2243.18 1403.91 L2238.89 1403.91 L2238.89 1377.99 L2243.18 1377.99 L2243.18 1382.02 Q2244.52 1379.66 2246.67 1378.52 Q2248.82 1377.36 2251.9 1377.36 Q2252.34 1377.36 2252.87 1377.43 Q2253.41 1377.48 2254.06 1377.6 L2254.08 1381.97 Z\" fill=\"#000000\" fill-rule=\"evenodd\" fill-opacity=\"1\" /></svg>\n"
      ],
      "text/html": [
       "<?xml version=\"1.0\" encoding=\"utf-8\"?>\n",
       "<svg xmlns=\"http://www.w3.org/2000/svg\" xmlns:xlink=\"http://www.w3.org/1999/xlink\" width=\"600\" height=\"400\" viewBox=\"0 0 2400 1600\">\n",
       "<defs>\n",
       "  <clipPath id=\"clip440\">\n",
       "    <rect x=\"0\" y=\"0\" width=\"2400\" height=\"1600\"/>\n",
       "  </clipPath>\n",
       "</defs>\n",
       "<path clip-path=\"url(#clip440)\" d=\"\n",
       "M0 1600 L2400 1600 L2400 0 L0 0  Z\n",
       "  \" fill=\"#ffffff\" fill-rule=\"evenodd\" fill-opacity=\"1\"/>\n",
       "<defs>\n",
       "  <clipPath id=\"clip441\">\n",
       "    <rect x=\"480\" y=\"0\" width=\"1681\" height=\"1600\"/>\n",
       "  </clipPath>\n",
       "</defs>\n",
       "<path clip-path=\"url(#clip440)\" d=\"\n",
       "M178.867 1486.45 L2352.76 1486.45 L2352.76 47.2441 L178.867 47.2441  Z\n",
       "  \" fill=\"#ffffff\" fill-rule=\"evenodd\" fill-opacity=\"1\"/>\n",
       "<defs>\n",
       "  <clipPath id=\"clip442\">\n",
       "    <rect x=\"178\" y=\"47\" width=\"2175\" height=\"1440\"/>\n",
       "  </clipPath>\n",
       "</defs>\n",
       "<polyline clip-path=\"url(#clip442)\" style=\"stroke:#000000; stroke-linecap:round; stroke-linejoin:round; stroke-width:2; stroke-opacity:0.1; fill:none\" points=\"\n",
       "  219.029,1486.45 219.029,47.2441 \n",
       "  \"/>\n",
       "<polyline clip-path=\"url(#clip442)\" style=\"stroke:#000000; stroke-linecap:round; stroke-linejoin:round; stroke-width:2; stroke-opacity:0.1; fill:none\" points=\"\n",
       "  646.287,1486.45 646.287,47.2441 \n",
       "  \"/>\n",
       "<polyline clip-path=\"url(#clip442)\" style=\"stroke:#000000; stroke-linecap:round; stroke-linejoin:round; stroke-width:2; stroke-opacity:0.1; fill:none\" points=\"\n",
       "  1073.55,1486.45 1073.55,47.2441 \n",
       "  \"/>\n",
       "<polyline clip-path=\"url(#clip442)\" style=\"stroke:#000000; stroke-linecap:round; stroke-linejoin:round; stroke-width:2; stroke-opacity:0.1; fill:none\" points=\"\n",
       "  1500.8,1486.45 1500.8,47.2441 \n",
       "  \"/>\n",
       "<polyline clip-path=\"url(#clip442)\" style=\"stroke:#000000; stroke-linecap:round; stroke-linejoin:round; stroke-width:2; stroke-opacity:0.1; fill:none\" points=\"\n",
       "  1928.06,1486.45 1928.06,47.2441 \n",
       "  \"/>\n",
       "<polyline clip-path=\"url(#clip440)\" style=\"stroke:#000000; stroke-linecap:round; stroke-linejoin:round; stroke-width:4; stroke-opacity:1; fill:none\" points=\"\n",
       "  178.867,1486.45 2352.76,1486.45 \n",
       "  \"/>\n",
       "<polyline clip-path=\"url(#clip440)\" style=\"stroke:#000000; stroke-linecap:round; stroke-linejoin:round; stroke-width:4; stroke-opacity:1; fill:none\" points=\"\n",
       "  219.029,1486.45 219.029,1467.55 \n",
       "  \"/>\n",
       "<polyline clip-path=\"url(#clip440)\" style=\"stroke:#000000; stroke-linecap:round; stroke-linejoin:round; stroke-width:4; stroke-opacity:1; fill:none\" points=\"\n",
       "  646.287,1486.45 646.287,1467.55 \n",
       "  \"/>\n",
       "<polyline clip-path=\"url(#clip440)\" style=\"stroke:#000000; stroke-linecap:round; stroke-linejoin:round; stroke-width:4; stroke-opacity:1; fill:none\" points=\"\n",
       "  1073.55,1486.45 1073.55,1467.55 \n",
       "  \"/>\n",
       "<polyline clip-path=\"url(#clip440)\" style=\"stroke:#000000; stroke-linecap:round; stroke-linejoin:round; stroke-width:4; stroke-opacity:1; fill:none\" points=\"\n",
       "  1500.8,1486.45 1500.8,1467.55 \n",
       "  \"/>\n",
       "<polyline clip-path=\"url(#clip440)\" style=\"stroke:#000000; stroke-linecap:round; stroke-linejoin:round; stroke-width:4; stroke-opacity:1; fill:none\" points=\"\n",
       "  1928.06,1486.45 1928.06,1467.55 \n",
       "  \"/>\n",
       "<path clip-path=\"url(#clip440)\" d=\"M219.029 1517.37 Q215.418 1517.37 213.589 1520.93 Q211.784 1524.47 211.784 1531.6 Q211.784 1538.71 213.589 1542.27 Q215.418 1545.82 219.029 1545.82 Q222.663 1545.82 224.469 1542.27 Q226.297 1538.71 226.297 1531.6 Q226.297 1524.47 224.469 1520.93 Q222.663 1517.37 219.029 1517.37 M219.029 1513.66 Q224.839 1513.66 227.895 1518.27 Q230.973 1522.85 230.973 1531.6 Q230.973 1540.33 227.895 1544.94 Q224.839 1549.52 219.029 1549.52 Q213.219 1549.52 210.14 1544.94 Q207.085 1540.33 207.085 1531.6 Q207.085 1522.85 210.14 1518.27 Q213.219 1513.66 219.029 1513.66 Z\" fill=\"#000000\" fill-rule=\"evenodd\" fill-opacity=\"1\" /><path clip-path=\"url(#clip440)\" d=\"M625.06 1544.91 L641.38 1544.91 L641.38 1548.85 L619.435 1548.85 L619.435 1544.91 Q622.097 1542.16 626.681 1537.53 Q631.287 1532.88 632.468 1531.53 Q634.713 1529.01 635.593 1527.27 Q636.495 1525.51 636.495 1523.82 Q636.495 1521.07 634.551 1519.33 Q632.63 1517.6 629.528 1517.6 Q627.329 1517.6 624.875 1518.36 Q622.445 1519.13 619.667 1520.68 L619.667 1515.95 Q622.491 1514.82 624.945 1514.24 Q627.398 1513.66 629.435 1513.66 Q634.806 1513.66 638 1516.35 Q641.194 1519.03 641.194 1523.52 Q641.194 1525.65 640.384 1527.57 Q639.597 1529.47 637.491 1532.07 Q636.912 1532.74 633.81 1535.95 Q630.708 1539.15 625.06 1544.91 Z\" fill=\"#000000\" fill-rule=\"evenodd\" fill-opacity=\"1\" /><path clip-path=\"url(#clip440)\" d=\"M661.194 1517.37 Q657.583 1517.37 655.755 1520.93 Q653.949 1524.47 653.949 1531.6 Q653.949 1538.71 655.755 1542.27 Q657.583 1545.82 661.194 1545.82 Q664.829 1545.82 666.634 1542.27 Q668.463 1538.71 668.463 1531.6 Q668.463 1524.47 666.634 1520.93 Q664.829 1517.37 661.194 1517.37 M661.194 1513.66 Q667.004 1513.66 670.06 1518.27 Q673.139 1522.85 673.139 1531.6 Q673.139 1540.33 670.06 1544.94 Q667.004 1549.52 661.194 1549.52 Q655.384 1549.52 652.305 1544.94 Q649.25 1540.33 649.25 1531.6 Q649.25 1522.85 652.305 1518.27 Q655.384 1513.66 661.194 1513.66 Z\" fill=\"#000000\" fill-rule=\"evenodd\" fill-opacity=\"1\" /><path clip-path=\"url(#clip440)\" d=\"M1061.72 1518.36 L1049.91 1536.81 L1061.72 1536.81 L1061.72 1518.36 M1060.49 1514.29 L1066.37 1514.29 L1066.37 1536.81 L1071.3 1536.81 L1071.3 1540.7 L1066.37 1540.7 L1066.37 1548.85 L1061.72 1548.85 L1061.72 1540.7 L1046.11 1540.7 L1046.11 1536.19 L1060.49 1514.29 Z\" fill=\"#000000\" fill-rule=\"evenodd\" fill-opacity=\"1\" /><path clip-path=\"url(#clip440)\" d=\"M1089.03 1517.37 Q1085.42 1517.37 1083.59 1520.93 Q1081.79 1524.47 1081.79 1531.6 Q1081.79 1538.71 1083.59 1542.27 Q1085.42 1545.82 1089.03 1545.82 Q1092.67 1545.82 1094.47 1542.27 Q1096.3 1538.71 1096.3 1531.6 Q1096.3 1524.47 1094.47 1520.93 Q1092.67 1517.37 1089.03 1517.37 M1089.03 1513.66 Q1094.84 1513.66 1097.9 1518.27 Q1100.98 1522.85 1100.98 1531.6 Q1100.98 1540.33 1097.9 1544.94 Q1094.84 1549.52 1089.03 1549.52 Q1083.22 1549.52 1080.14 1544.94 Q1077.09 1540.33 1077.09 1531.6 Q1077.09 1522.85 1080.14 1518.27 Q1083.22 1513.66 1089.03 1513.66 Z\" fill=\"#000000\" fill-rule=\"evenodd\" fill-opacity=\"1\" /><path clip-path=\"url(#clip440)\" d=\"M1486.21 1529.7 Q1483.06 1529.7 1481.21 1531.86 Q1479.38 1534.01 1479.38 1537.76 Q1479.38 1541.49 1481.21 1543.66 Q1483.06 1545.82 1486.21 1545.82 Q1489.36 1545.82 1491.19 1543.66 Q1493.04 1541.49 1493.04 1537.76 Q1493.04 1534.01 1491.19 1531.86 Q1489.36 1529.7 1486.21 1529.7 M1495.49 1515.05 L1495.49 1519.31 Q1493.73 1518.48 1491.93 1518.04 Q1490.14 1517.6 1488.38 1517.6 Q1483.75 1517.6 1481.3 1520.72 Q1478.87 1523.85 1478.52 1530.17 Q1479.89 1528.15 1481.95 1527.09 Q1484.01 1526 1486.49 1526 Q1491.69 1526 1494.7 1529.17 Q1497.74 1532.32 1497.74 1537.76 Q1497.74 1543.08 1494.59 1546.3 Q1491.44 1549.52 1486.21 1549.52 Q1480.21 1549.52 1477.04 1544.94 Q1473.87 1540.33 1473.87 1531.6 Q1473.87 1523.41 1477.76 1518.55 Q1481.65 1513.66 1488.2 1513.66 Q1489.96 1513.66 1491.74 1514.01 Q1493.55 1514.36 1495.49 1515.05 Z\" fill=\"#000000\" fill-rule=\"evenodd\" fill-opacity=\"1\" /><path clip-path=\"url(#clip440)\" d=\"M1515.79 1517.37 Q1512.18 1517.37 1510.35 1520.93 Q1508.55 1524.47 1508.55 1531.6 Q1508.55 1538.71 1510.35 1542.27 Q1512.18 1545.82 1515.79 1545.82 Q1519.43 1545.82 1521.23 1542.27 Q1523.06 1538.71 1523.06 1531.6 Q1523.06 1524.47 1521.23 1520.93 Q1519.43 1517.37 1515.79 1517.37 M1515.79 1513.66 Q1521.6 1513.66 1524.66 1518.27 Q1527.74 1522.85 1527.74 1531.6 Q1527.74 1540.33 1524.66 1544.94 Q1521.6 1549.52 1515.79 1549.52 Q1509.98 1549.52 1506.9 1544.94 Q1503.85 1540.33 1503.85 1531.6 Q1503.85 1522.85 1506.9 1518.27 Q1509.98 1513.66 1515.79 1513.66 Z\" fill=\"#000000\" fill-rule=\"evenodd\" fill-opacity=\"1\" /><path clip-path=\"url(#clip440)\" d=\"M1912.93 1532.44 Q1909.6 1532.44 1907.68 1534.22 Q1905.78 1536 1905.78 1539.13 Q1905.78 1542.25 1907.68 1544.03 Q1909.6 1545.82 1912.93 1545.82 Q1916.27 1545.82 1918.19 1544.03 Q1920.11 1542.23 1920.11 1539.13 Q1920.11 1536 1918.19 1534.22 Q1916.29 1532.44 1912.93 1532.44 M1908.26 1530.45 Q1905.25 1529.7 1903.56 1527.64 Q1901.89 1525.58 1901.89 1522.62 Q1901.89 1518.48 1904.83 1516.07 Q1907.8 1513.66 1912.93 1513.66 Q1918.1 1513.66 1921.04 1516.07 Q1923.98 1518.48 1923.98 1522.62 Q1923.98 1525.58 1922.29 1527.64 Q1920.62 1529.7 1917.63 1530.45 Q1921.01 1531.23 1922.89 1533.52 Q1924.79 1535.82 1924.79 1539.13 Q1924.79 1544.15 1921.71 1546.83 Q1918.65 1549.52 1912.93 1549.52 Q1907.22 1549.52 1904.14 1546.83 Q1901.08 1544.15 1901.08 1539.13 Q1901.08 1535.82 1902.98 1533.52 Q1904.88 1531.23 1908.26 1530.45 M1906.55 1523.06 Q1906.55 1525.75 1908.21 1527.25 Q1909.9 1528.76 1912.93 1528.76 Q1915.94 1528.76 1917.63 1527.25 Q1919.35 1525.75 1919.35 1523.06 Q1919.35 1520.38 1917.63 1518.87 Q1915.94 1517.37 1912.93 1517.37 Q1909.9 1517.37 1908.21 1518.87 Q1906.55 1520.38 1906.55 1523.06 Z\" fill=\"#000000\" fill-rule=\"evenodd\" fill-opacity=\"1\" /><path clip-path=\"url(#clip440)\" d=\"M1943.1 1517.37 Q1939.48 1517.37 1937.66 1520.93 Q1935.85 1524.47 1935.85 1531.6 Q1935.85 1538.71 1937.66 1542.27 Q1939.48 1545.82 1943.1 1545.82 Q1946.73 1545.82 1948.54 1542.27 Q1950.36 1538.71 1950.36 1531.6 Q1950.36 1524.47 1948.54 1520.93 Q1946.73 1517.37 1943.1 1517.37 M1943.1 1513.66 Q1948.91 1513.66 1951.96 1518.27 Q1955.04 1522.85 1955.04 1531.6 Q1955.04 1540.33 1951.96 1544.94 Q1948.91 1549.52 1943.1 1549.52 Q1937.29 1549.52 1934.21 1544.94 Q1931.15 1540.33 1931.15 1531.6 Q1931.15 1522.85 1934.21 1518.27 Q1937.29 1513.66 1943.1 1513.66 Z\" fill=\"#000000\" fill-rule=\"evenodd\" fill-opacity=\"1\" /><polyline clip-path=\"url(#clip442)\" style=\"stroke:#000000; stroke-linecap:round; stroke-linejoin:round; stroke-width:2; stroke-opacity:0.1; fill:none\" points=\"\n",
       "  178.867,1387.62 2352.76,1387.62 \n",
       "  \"/>\n",
       "<polyline clip-path=\"url(#clip442)\" style=\"stroke:#000000; stroke-linecap:round; stroke-linejoin:round; stroke-width:2; stroke-opacity:0.1; fill:none\" points=\"\n",
       "  178.867,1095.04 2352.76,1095.04 \n",
       "  \"/>\n",
       "<polyline clip-path=\"url(#clip442)\" style=\"stroke:#000000; stroke-linecap:round; stroke-linejoin:round; stroke-width:2; stroke-opacity:0.1; fill:none\" points=\"\n",
       "  178.867,802.453 2352.76,802.453 \n",
       "  \"/>\n",
       "<polyline clip-path=\"url(#clip442)\" style=\"stroke:#000000; stroke-linecap:round; stroke-linejoin:round; stroke-width:2; stroke-opacity:0.1; fill:none\" points=\"\n",
       "  178.867,509.869 2352.76,509.869 \n",
       "  \"/>\n",
       "<polyline clip-path=\"url(#clip442)\" style=\"stroke:#000000; stroke-linecap:round; stroke-linejoin:round; stroke-width:2; stroke-opacity:0.1; fill:none\" points=\"\n",
       "  178.867,217.285 2352.76,217.285 \n",
       "  \"/>\n",
       "<polyline clip-path=\"url(#clip440)\" style=\"stroke:#000000; stroke-linecap:round; stroke-linejoin:round; stroke-width:4; stroke-opacity:1; fill:none\" points=\"\n",
       "  178.867,1486.45 178.867,47.2441 \n",
       "  \"/>\n",
       "<polyline clip-path=\"url(#clip440)\" style=\"stroke:#000000; stroke-linecap:round; stroke-linejoin:round; stroke-width:4; stroke-opacity:1; fill:none\" points=\"\n",
       "  178.867,1387.62 197.764,1387.62 \n",
       "  \"/>\n",
       "<polyline clip-path=\"url(#clip440)\" style=\"stroke:#000000; stroke-linecap:round; stroke-linejoin:round; stroke-width:4; stroke-opacity:1; fill:none\" points=\"\n",
       "  178.867,1095.04 197.764,1095.04 \n",
       "  \"/>\n",
       "<polyline clip-path=\"url(#clip440)\" style=\"stroke:#000000; stroke-linecap:round; stroke-linejoin:round; stroke-width:4; stroke-opacity:1; fill:none\" points=\"\n",
       "  178.867,802.453 197.764,802.453 \n",
       "  \"/>\n",
       "<polyline clip-path=\"url(#clip440)\" style=\"stroke:#000000; stroke-linecap:round; stroke-linejoin:round; stroke-width:4; stroke-opacity:1; fill:none\" points=\"\n",
       "  178.867,509.869 197.764,509.869 \n",
       "  \"/>\n",
       "<polyline clip-path=\"url(#clip440)\" style=\"stroke:#000000; stroke-linecap:round; stroke-linejoin:round; stroke-width:4; stroke-opacity:1; fill:none\" points=\"\n",
       "  178.867,217.285 197.764,217.285 \n",
       "  \"/>\n",
       "<path clip-path=\"url(#clip440)\" d=\"M50.9921 1388.07 L80.6679 1388.07 L80.6679 1392.01 L50.9921 1392.01 L50.9921 1388.07 Z\" fill=\"#000000\" fill-rule=\"evenodd\" fill-opacity=\"1\" /><path clip-path=\"url(#clip440)\" d=\"M94.7882 1400.97 L111.108 1400.97 L111.108 1404.9 L89.1632 1404.9 L89.1632 1400.97 Q91.8252 1398.21 96.4085 1393.58 Q101.015 1388.93 102.196 1387.59 Q104.441 1385.06 105.321 1383.33 Q106.223 1381.57 106.223 1379.88 Q106.223 1377.12 104.279 1375.39 Q102.358 1373.65 99.2558 1373.65 Q97.0567 1373.65 94.603 1374.41 Q92.1725 1375.18 89.3947 1376.73 L89.3947 1372.01 Q92.2188 1370.87 94.6724 1370.29 Q97.1261 1369.72 99.1632 1369.72 Q104.534 1369.72 107.728 1372.4 Q110.922 1375.09 110.922 1379.58 Q110.922 1381.71 110.112 1383.63 Q109.325 1385.53 107.219 1388.12 Q106.64 1388.79 103.538 1392.01 Q100.436 1395.2 94.7882 1400.97 Z\" fill=\"#000000\" fill-rule=\"evenodd\" fill-opacity=\"1\" /><path clip-path=\"url(#clip440)\" d=\"M130.922 1373.42 Q127.311 1373.42 125.482 1376.98 Q123.677 1380.53 123.677 1387.66 Q123.677 1394.76 125.482 1398.33 Q127.311 1401.87 130.922 1401.87 Q134.556 1401.87 136.362 1398.33 Q138.191 1394.76 138.191 1387.66 Q138.191 1380.53 136.362 1376.98 Q134.556 1373.42 130.922 1373.42 M130.922 1369.72 Q136.732 1369.72 139.788 1374.32 Q142.867 1378.91 142.867 1387.66 Q142.867 1396.38 139.788 1400.99 Q136.732 1405.57 130.922 1405.57 Q125.112 1405.57 122.033 1400.99 Q118.978 1396.38 118.978 1387.66 Q118.978 1378.91 122.033 1374.32 Q125.112 1369.72 130.922 1369.72 Z\" fill=\"#000000\" fill-rule=\"evenodd\" fill-opacity=\"1\" /><path clip-path=\"url(#clip440)\" d=\"M51.9875 1095.49 L81.6633 1095.49 L81.6633 1099.42 L51.9875 1099.42 L51.9875 1095.49 Z\" fill=\"#000000\" fill-rule=\"evenodd\" fill-opacity=\"1\" /><path clip-path=\"url(#clip440)\" d=\"M92.566 1108.38 L100.205 1108.38 L100.205 1082.02 L91.8947 1083.68 L91.8947 1079.42 L100.159 1077.76 L104.834 1077.76 L104.834 1108.38 L112.473 1108.38 L112.473 1112.32 L92.566 1112.32 L92.566 1108.38 Z\" fill=\"#000000\" fill-rule=\"evenodd\" fill-opacity=\"1\" /><path clip-path=\"url(#clip440)\" d=\"M121.964 1077.76 L140.32 1077.76 L140.32 1081.69 L126.246 1081.69 L126.246 1090.16 Q127.265 1089.82 128.283 1089.65 Q129.302 1089.47 130.32 1089.47 Q136.107 1089.47 139.487 1092.64 Q142.867 1095.81 142.867 1101.23 Q142.867 1106.81 139.394 1109.91 Q135.922 1112.99 129.603 1112.99 Q127.427 1112.99 125.158 1112.62 Q122.913 1112.25 120.506 1111.51 L120.506 1106.81 Q122.589 1107.94 124.811 1108.5 Q127.033 1109.05 129.51 1109.05 Q133.515 1109.05 135.853 1106.95 Q138.191 1104.84 138.191 1101.23 Q138.191 1097.62 135.853 1095.51 Q133.515 1093.4 129.51 1093.4 Q127.635 1093.4 125.76 1093.82 Q123.908 1094.24 121.964 1095.12 L121.964 1077.76 Z\" fill=\"#000000\" fill-rule=\"evenodd\" fill-opacity=\"1\" /><path clip-path=\"url(#clip440)\" d=\"M50.9921 802.904 L80.6679 802.904 L80.6679 806.839 L50.9921 806.839 L50.9921 802.904 Z\" fill=\"#000000\" fill-rule=\"evenodd\" fill-opacity=\"1\" /><path clip-path=\"url(#clip440)\" d=\"M91.5706 815.798 L99.2095 815.798 L99.2095 789.432 L90.8993 791.099 L90.8993 786.839 L99.1632 785.173 L103.839 785.173 L103.839 815.798 L111.478 815.798 L111.478 819.733 L91.5706 819.733 L91.5706 815.798 Z\" fill=\"#000000\" fill-rule=\"evenodd\" fill-opacity=\"1\" /><path clip-path=\"url(#clip440)\" d=\"M130.922 788.252 Q127.311 788.252 125.482 791.816 Q123.677 795.358 123.677 802.488 Q123.677 809.594 125.482 813.159 Q127.311 816.7 130.922 816.7 Q134.556 816.7 136.362 813.159 Q138.191 809.594 138.191 802.488 Q138.191 795.358 136.362 791.816 Q134.556 788.252 130.922 788.252 M130.922 784.548 Q136.732 784.548 139.788 789.154 Q142.867 793.738 142.867 802.488 Q142.867 811.214 139.788 815.821 Q136.732 820.404 130.922 820.404 Q125.112 820.404 122.033 815.821 Q118.978 811.214 118.978 802.488 Q118.978 793.738 122.033 789.154 Q125.112 784.548 130.922 784.548 Z\" fill=\"#000000\" fill-rule=\"evenodd\" fill-opacity=\"1\" /><path clip-path=\"url(#clip440)\" d=\"M82.1494 510.32 L111.825 510.32 L111.825 514.255 L82.1494 514.255 L82.1494 510.32 Z\" fill=\"#000000\" fill-rule=\"evenodd\" fill-opacity=\"1\" /><path clip-path=\"url(#clip440)\" d=\"M121.964 492.589 L140.32 492.589 L140.32 496.524 L126.246 496.524 L126.246 504.996 Q127.265 504.649 128.283 504.487 Q129.302 504.302 130.32 504.302 Q136.107 504.302 139.487 507.473 Q142.867 510.644 142.867 516.061 Q142.867 521.64 139.394 524.741 Q135.922 527.82 129.603 527.82 Q127.427 527.82 125.158 527.45 Q122.913 527.079 120.506 526.339 L120.506 521.64 Q122.589 522.774 124.811 523.329 Q127.033 523.885 129.51 523.885 Q133.515 523.885 135.853 521.778 Q138.191 519.672 138.191 516.061 Q138.191 512.45 135.853 510.343 Q133.515 508.237 129.51 508.237 Q127.635 508.237 125.76 508.654 Q123.908 509.07 121.964 509.95 L121.964 492.589 Z\" fill=\"#000000\" fill-rule=\"evenodd\" fill-opacity=\"1\" /><path clip-path=\"url(#clip440)\" d=\"M130.922 203.083 Q127.311 203.083 125.482 206.648 Q123.677 210.19 123.677 217.32 Q123.677 224.426 125.482 227.991 Q127.311 231.532 130.922 231.532 Q134.556 231.532 136.362 227.991 Q138.191 224.426 138.191 217.32 Q138.191 210.19 136.362 206.648 Q134.556 203.083 130.922 203.083 M130.922 199.38 Q136.732 199.38 139.788 203.986 Q142.867 208.57 142.867 217.32 Q142.867 226.046 139.788 230.653 Q136.732 235.236 130.922 235.236 Q125.112 235.236 122.033 230.653 Q118.978 226.046 118.978 217.32 Q118.978 208.57 122.033 203.986 Q125.112 199.38 130.922 199.38 Z\" fill=\"#000000\" fill-rule=\"evenodd\" fill-opacity=\"1\" /><polyline clip-path=\"url(#clip442)\" style=\"stroke:#009af9; stroke-linecap:round; stroke-linejoin:round; stroke-width:4; stroke-opacity:1; fill:none\" points=\"\n",
       "  240.392,87.9763 261.755,152.631 283.118,152.631 304.481,152.631 325.843,152.631 347.206,152.631 368.569,152.631 389.932,152.631 411.295,152.631 432.658,152.631 \n",
       "  454.021,152.631 475.384,152.631 496.747,152.631 518.11,152.631 539.472,152.631 560.835,152.631 582.198,152.631 603.561,152.631 624.924,152.631 646.287,152.631 \n",
       "  667.65,152.631 689.013,152.631 710.376,152.631 731.739,152.631 753.102,152.631 774.464,152.631 795.827,152.631 817.19,152.631 838.553,152.631 859.916,152.631 \n",
       "  881.279,152.631 902.642,152.631 924.005,152.631 945.368,152.631 966.731,152.631 988.093,152.631 1009.46,152.631 1030.82,152.631 1052.18,152.631 1073.55,152.631 \n",
       "  1094.91,152.631 1116.27,152.631 1137.63,152.631 1159,152.631 1180.36,152.631 1201.72,152.631 1223.09,152.631 1244.45,152.631 1265.81,152.631 1287.17,152.631 \n",
       "  1308.54,152.631 1329.9,152.631 1351.26,152.631 1372.63,152.631 1393.99,152.631 1415.35,152.631 1436.71,152.631 1458.08,152.631 1479.44,152.631 1500.8,152.631 \n",
       "  1522.17,152.631 1543.53,152.631 1564.89,152.631 1586.25,152.631 1607.62,152.631 1628.98,152.631 1650.34,152.631 1671.71,152.631 1693.07,152.631 1714.43,152.631 \n",
       "  1735.8,152.631 1757.16,152.631 1778.52,152.631 1799.88,152.631 1821.25,152.631 1842.61,152.631 1863.97,152.631 1885.34,152.631 1906.7,152.631 1928.06,152.631 \n",
       "  1949.42,152.631 1970.79,152.631 1992.15,152.631 2013.51,152.631 2034.88,152.631 2056.24,152.631 2077.6,152.631 2098.96,152.631 2120.33,152.631 2141.69,152.631 \n",
       "  2163.05,152.631 2184.42,152.631 2205.78,152.631 2227.14,152.631 2248.5,152.631 2269.87,152.631 2291.23,152.631 \n",
       "  \"/>\n",
       "<polyline clip-path=\"url(#clip442)\" style=\"stroke:#e26f46; stroke-linecap:round; stroke-linejoin:round; stroke-width:4; stroke-opacity:1; fill:none\" points=\"\n",
       "  240.392,1381.06 261.755,1202.11 283.118,1280.49 304.481,1202.11 325.843,1181.86 347.206,1181.86 368.569,1202.11 389.932,496.861 411.295,1181.86 432.658,952.588 \n",
       "  454.021,1202.11 475.384,1202.11 496.747,1202.11 518.11,1202.11 539.472,952.588 560.835,1349.89 582.198,1280.49 603.561,1202.11 624.924,1202.11 646.287,731.665 \n",
       "  667.65,1088.66 689.013,952.588 710.376,1202.11 731.739,1202.11 753.102,1181.86 774.464,1088.66 795.827,1088.66 817.19,1349.89 838.553,952.588 859.916,844.879 \n",
       "  881.279,1202.11 902.642,1202.11 924.005,1181.86 945.368,1088.66 966.731,952.588 988.093,731.665 1009.46,1202.11 1030.82,1088.66 1052.18,1088.66 1073.55,496.861 \n",
       "  1094.91,1181.86 1116.27,731.665 1137.63,1202.11 1159,1181.86 1180.36,1202.11 1201.72,1202.11 1223.09,952.588 1244.45,731.665 1265.81,1181.86 1287.17,952.588 \n",
       "  1308.54,1202.11 1329.9,496.861 1351.26,496.861 1372.63,1280.49 1393.99,1112.64 1415.35,1362.29 1436.71,1362.29 1458.08,1112.64 1479.44,1362.29 1500.8,828.907 \n",
       "  1522.17,1112.64 1543.53,828.907 1564.89,1216.68 1586.25,1112.64 1607.62,828.907 1628.98,1216.68 1650.34,828.907 1671.71,1112.64 1693.07,1216.68 1714.43,1112.64 \n",
       "  1735.8,1112.64 1757.16,1216.68 1778.52,1362.29 1799.88,1112.64 1821.25,1112.64 1842.61,1445.72 1863.97,1112.64 1885.34,1112.64 1906.7,1112.64 1928.06,828.907 \n",
       "  1949.42,1112.64 1970.79,1112.64 1992.15,1112.64 2013.51,828.907 2034.88,1112.64 2056.24,828.907 2077.6,1112.64 2098.96,828.907 2120.33,1112.64 2141.69,1216.68 \n",
       "  2163.05,1362.29 2184.42,1112.64 2205.78,1362.29 2227.14,1112.64 2248.5,1112.64 2269.87,1112.64 2291.23,152.631 \n",
       "  \"/>\n",
       "<path clip-path=\"url(#clip440)\" d=\"\n",
       "M1923.48 1438.47 L2280.29 1438.47 L2280.29 1282.95 L1923.48 1282.95  Z\n",
       "  \" fill=\"#ffffff\" fill-rule=\"evenodd\" fill-opacity=\"1\"/>\n",
       "<polyline clip-path=\"url(#clip440)\" style=\"stroke:#000000; stroke-linecap:round; stroke-linejoin:round; stroke-width:4; stroke-opacity:1; fill:none\" points=\"\n",
       "  1923.48,1438.47 2280.29,1438.47 2280.29,1282.95 1923.48,1282.95 1923.48,1438.47 \n",
       "  \"/>\n",
       "<polyline clip-path=\"url(#clip440)\" style=\"stroke:#009af9; stroke-linecap:round; stroke-linejoin:round; stroke-width:4; stroke-opacity:1; fill:none\" points=\"\n",
       "  1947.64,1334.79 2092.56,1334.79 \n",
       "  \"/>\n",
       "<path clip-path=\"url(#clip440)\" d=\"M2116.72 1317.51 L2121.42 1317.51 L2121.42 1338.51 Q2121.42 1344.07 2123.43 1346.52 Q2125.44 1348.95 2129.96 1348.95 Q2134.45 1348.95 2136.46 1346.52 Q2138.48 1344.07 2138.48 1338.51 L2138.48 1317.51 L2143.18 1317.51 L2143.18 1339.09 Q2143.18 1345.85 2139.82 1349.3 Q2136.49 1352.75 2129.96 1352.75 Q2123.41 1352.75 2120.05 1349.3 Q2116.72 1345.85 2116.72 1339.09 L2116.72 1317.51 Z\" fill=\"#000000\" fill-rule=\"evenodd\" fill-opacity=\"1\" /><path clip-path=\"url(#clip440)\" d=\"M2155.88 1348.19 L2155.88 1361.94 L2151.6 1361.94 L2151.6 1326.15 L2155.88 1326.15 L2155.88 1330.08 Q2157.23 1327.77 2159.26 1326.66 Q2161.32 1325.52 2164.17 1325.52 Q2168.89 1325.52 2171.83 1329.27 Q2174.8 1333.02 2174.8 1339.13 Q2174.8 1345.25 2171.83 1349 Q2168.89 1352.75 2164.17 1352.75 Q2161.32 1352.75 2159.26 1351.63 Q2157.23 1350.5 2155.88 1348.19 M2170.38 1339.13 Q2170.38 1334.44 2168.43 1331.77 Q2166.51 1329.09 2163.13 1329.09 Q2159.75 1329.09 2157.81 1331.77 Q2155.88 1334.44 2155.88 1339.13 Q2155.88 1343.83 2157.81 1346.52 Q2159.75 1349.18 2163.13 1349.18 Q2166.51 1349.18 2168.43 1346.52 Q2170.38 1343.83 2170.38 1339.13 Z\" fill=\"#000000\" fill-rule=\"evenodd\" fill-opacity=\"1\" /><path clip-path=\"url(#clip440)\" d=\"M2185.98 1348.19 L2185.98 1361.94 L2181.69 1361.94 L2181.69 1326.15 L2185.98 1326.15 L2185.98 1330.08 Q2187.32 1327.77 2189.36 1326.66 Q2191.42 1325.52 2194.26 1325.52 Q2198.99 1325.52 2201.93 1329.27 Q2204.89 1333.02 2204.89 1339.13 Q2204.89 1345.25 2201.93 1349 Q2198.99 1352.75 2194.26 1352.75 Q2191.42 1352.75 2189.36 1351.63 Q2187.32 1350.5 2185.98 1348.19 M2200.47 1339.13 Q2200.47 1334.44 2198.52 1331.77 Q2196.6 1329.09 2193.22 1329.09 Q2189.84 1329.09 2187.9 1331.77 Q2185.98 1334.44 2185.98 1339.13 Q2185.98 1343.83 2187.9 1346.52 Q2189.84 1349.18 2193.22 1349.18 Q2196.6 1349.18 2198.52 1346.52 Q2200.47 1343.83 2200.47 1339.13 Z\" fill=\"#000000\" fill-rule=\"evenodd\" fill-opacity=\"1\" /><path clip-path=\"url(#clip440)\" d=\"M2234.12 1338.05 L2234.12 1340.13 L2214.54 1340.13 Q2214.82 1344.53 2217.18 1346.84 Q2219.56 1349.13 2223.8 1349.13 Q2226.25 1349.13 2228.55 1348.53 Q2230.86 1347.93 2233.13 1346.73 L2233.13 1350.75 Q2230.84 1351.73 2228.43 1352.24 Q2226.02 1352.75 2223.55 1352.75 Q2217.34 1352.75 2213.71 1349.13 Q2210.1 1345.52 2210.1 1339.37 Q2210.1 1333 2213.52 1329.27 Q2216.97 1325.52 2222.81 1325.52 Q2228.04 1325.52 2231.07 1328.9 Q2234.12 1332.26 2234.12 1338.05 M2229.87 1336.8 Q2229.82 1333.3 2227.9 1331.22 Q2226 1329.13 2222.85 1329.13 Q2219.29 1329.13 2217.13 1331.15 Q2215 1333.16 2214.68 1336.82 L2229.87 1336.8 Z\" fill=\"#000000\" fill-rule=\"evenodd\" fill-opacity=\"1\" /><path clip-path=\"url(#clip440)\" d=\"M2256.14 1330.13 Q2255.42 1329.71 2254.56 1329.53 Q2253.73 1329.32 2252.71 1329.32 Q2249.1 1329.32 2247.16 1331.68 Q2245.24 1334.02 2245.24 1338.42 L2245.24 1352.07 L2240.95 1352.07 L2240.95 1326.15 L2245.24 1326.15 L2245.24 1330.18 Q2246.58 1327.82 2248.73 1326.68 Q2250.88 1325.52 2253.96 1325.52 Q2254.4 1325.52 2254.93 1325.59 Q2255.47 1325.64 2256.12 1325.76 L2256.14 1330.13 Z\" fill=\"#000000\" fill-rule=\"evenodd\" fill-opacity=\"1\" /><polyline clip-path=\"url(#clip440)\" style=\"stroke:#e26f46; stroke-linecap:round; stroke-linejoin:round; stroke-width:4; stroke-opacity:1; fill:none\" points=\"\n",
       "  1947.64,1386.63 2092.56,1386.63 \n",
       "  \"/>\n",
       "<path clip-path=\"url(#clip440)\" d=\"M2116.72 1369.35 L2121.39 1369.35 L2121.39 1399.98 L2138.22 1399.98 L2138.22 1403.91 L2116.72 1403.91 L2116.72 1369.35 Z\" fill=\"#000000\" fill-rule=\"evenodd\" fill-opacity=\"1\" /><path clip-path=\"url(#clip440)\" d=\"M2152.16 1380.97 Q2148.73 1380.97 2146.74 1383.66 Q2144.75 1386.32 2144.75 1390.97 Q2144.75 1395.63 2146.72 1398.31 Q2148.71 1400.97 2152.16 1400.97 Q2155.56 1400.97 2157.55 1398.29 Q2159.54 1395.6 2159.54 1390.97 Q2159.54 1386.37 2157.55 1383.68 Q2155.56 1380.97 2152.16 1380.97 M2152.16 1377.36 Q2157.71 1377.36 2160.88 1380.97 Q2164.06 1384.59 2164.06 1390.97 Q2164.06 1397.34 2160.88 1400.97 Q2157.71 1404.59 2152.16 1404.59 Q2146.58 1404.59 2143.41 1400.97 Q2140.26 1397.34 2140.26 1390.97 Q2140.26 1384.59 2143.41 1380.97 Q2146.58 1377.36 2152.16 1377.36 Z\" fill=\"#000000\" fill-rule=\"evenodd\" fill-opacity=\"1\" /><path clip-path=\"url(#clip440)\" d=\"M2168.64 1377.99 L2172.9 1377.99 L2178.22 1398.22 L2183.52 1377.99 L2188.55 1377.99 L2193.87 1398.22 L2199.17 1377.99 L2203.43 1377.99 L2196.65 1403.91 L2191.63 1403.91 L2186.05 1382.66 L2180.44 1403.91 L2175.42 1403.91 L2168.64 1377.99 Z\" fill=\"#000000\" fill-rule=\"evenodd\" fill-opacity=\"1\" /><path clip-path=\"url(#clip440)\" d=\"M2232.06 1389.89 L2232.06 1391.97 L2212.48 1391.97 Q2212.76 1396.37 2215.12 1398.68 Q2217.5 1400.97 2221.74 1400.97 Q2224.19 1400.97 2226.49 1400.37 Q2228.8 1399.77 2231.07 1398.57 L2231.07 1402.59 Q2228.78 1403.57 2226.37 1404.08 Q2223.96 1404.59 2221.49 1404.59 Q2215.28 1404.59 2211.65 1400.97 Q2208.04 1397.36 2208.04 1391.21 Q2208.04 1384.84 2211.46 1381.11 Q2214.91 1377.36 2220.75 1377.36 Q2225.98 1377.36 2229.01 1380.74 Q2232.06 1384.1 2232.06 1389.89 M2227.81 1388.64 Q2227.76 1385.14 2225.84 1383.06 Q2223.94 1380.97 2220.79 1380.97 Q2217.23 1380.97 2215.07 1382.99 Q2212.94 1385 2212.62 1388.66 L2227.81 1388.64 Z\" fill=\"#000000\" fill-rule=\"evenodd\" fill-opacity=\"1\" /><path clip-path=\"url(#clip440)\" d=\"M2254.08 1381.97 Q2253.36 1381.55 2252.5 1381.37 Q2251.67 1381.16 2250.65 1381.16 Q2247.04 1381.16 2245.1 1383.52 Q2243.18 1385.86 2243.18 1390.26 L2243.18 1403.91 L2238.89 1403.91 L2238.89 1377.99 L2243.18 1377.99 L2243.18 1382.02 Q2244.52 1379.66 2246.67 1378.52 Q2248.82 1377.36 2251.9 1377.36 Q2252.34 1377.36 2252.87 1377.43 Q2253.41 1377.48 2254.06 1377.6 L2254.08 1381.97 Z\" fill=\"#000000\" fill-rule=\"evenodd\" fill-opacity=\"1\" /></svg>\n"
      ]
     },
     "metadata": {},
     "output_type": "display_data"
    }
   ],
   "source": [
    "plot(\n",
    "    1:length(results[\"upper_bounds\"]),\n",
    "    [\n",
    "        results[\"upper_bounds\"],\n",
    "        results[\"lower_bounds\"],\n",
    "    ],\n",
    "    legend = :bottomright,\n",
    "    label = [\n",
    "        \"Upper\" \"Lower\"\n",
    "    ]\n",
    ")"
   ]
  },
  {
   "cell_type": "code",
   "execution_count": 25,
   "metadata": {},
   "outputs": [
    {
     "data": {
      "text/plain": [
       "1.104883640820144"
      ]
     },
     "metadata": {},
     "output_type": "display_data"
    }
   ],
   "source": [
    "results[\"CGLP_objective\"]"
   ]
  },
  {
   "cell_type": "code",
   "execution_count": 26,
   "metadata": {},
   "outputs": [
    {
     "data": {
      "text/plain": [
       "1.104883640820144"
      ]
     },
     "metadata": {},
     "output_type": "display_data"
    }
   ],
   "source": [
    "results[\"CGIP_objective\"]"
   ]
  },
  {
   "cell_type": "code",
   "execution_count": 36,
   "metadata": {},
   "outputs": [
    {
     "data": {
      "text/plain": [
       "2-element Vector{Int64}:\n",
       " 22\n",
       " 41"
      ]
     },
     "metadata": {},
     "output_type": "display_data"
    }
   ],
   "source": [
    "findall(x->x>=0.1,results[\"CGIP_solution\"])"
   ]
  },
  {
   "cell_type": "code",
   "execution_count": 37,
   "metadata": {},
   "outputs": [
    {
     "data": {
      "text/plain": [
       "50-element Vector{Cluster}:\n",
       " Cluster([3, 4, 6, 7, 8, 9, 10, 11, 12, 13  …  112, 113, 115, 116, 119, 120, 121, 122, 123, 128], [0.22994907028811945, 0.1284557233319311], 7.260797930593947)\n",
       " Cluster([1, 2, 5, 15, 17, 19, 20, 21, 22, 24  …  109, 114, 117, 118, 124, 125, 126, 127, 129, 130], [0.6901918728201338, 0.8860492420984627], 6.6785061269499435)\n",
       " Cluster([1, 2, 5, 15, 17, 19, 20, 21, 22, 24  …  109, 114, 117, 118, 124, 125, 126, 127, 129, 130], [0.6843443338237469, 0.881664732335663], 7.165419566830704)\n",
       " Cluster([3, 4, 6, 7, 8, 9, 10, 11, 12, 13  …  112, 113, 115, 116, 119, 120, 121, 122, 123, 128], [0.2287880510885807, 0.12113985029409104], 6.772651117060152)\n",
       " Cluster([3, 4, 6, 7, 8, 9, 10, 11, 12, 13  …  112, 113, 115, 116, 119, 120, 121, 122, 123, 128], [0.2287880510885807, 0.12113985029409104], 6.772651117060152)\n",
       " Cluster([1, 2, 5, 15, 17, 19, 20, 21, 22, 24  …  109, 114, 117, 118, 124, 125, 126, 127, 129, 130], [0.6843443338237469, 0.881664732335663], 7.165419566830704)\n",
       " Cluster([3, 4, 6, 7, 8, 9, 10, 11, 12, 13  …  112, 113, 115, 116, 119, 120, 121, 122, 123, 128], [0.2287880510885807, 0.12113985029409104], 6.772651117060152)\n",
       " Cluster([1, 2, 5, 15, 17, 19, 20, 21, 22, 24  …  109, 114, 117, 118, 124, 125, 126, 127, 129, 130], [0.6843443338237469, 0.881664732335663], 7.165419566830704)\n",
       " Cluster([3, 4, 6, 7, 8, 9, 10, 11, 12, 13  …  112, 113, 115, 116, 119, 120, 121, 122, 123, 128], [0.22994907028811945, 0.1284557233319311], 7.260797930593947)\n",
       " Cluster([1, 2, 5, 15, 17, 19, 20, 21, 22, 24  …  109, 114, 117, 118, 124, 125, 126, 127, 129, 130], [0.6901918728201338, 0.8860492420984627], 6.6785061269499435)\n",
       " ⋮\n",
       " Cluster([24, 85, 117, 125, 130], [0.6194534729809097, 0.8939394890324952], 0.08597272772727176)\n",
       " Cluster([24, 35, 65, 105, 125, 130], [0.6253032747937354, 0.8735859265887088], 0.11141475445735213)\n",
       " Cluster([24, 85, 117, 125, 130], [0.6194534729809097, 0.8939394890324952], 0.08597272772727176)\n",
       " Cluster([24, 125, 130], [0.6178441119039255, 0.8836656663459023], 0.047328742662064174)\n",
       " Cluster([17, 24, 35, 54, 65, 105, 125, 130], [0.6296600540833136, 0.8671111423896729], 0.16534961971391096)\n",
       " Cluster([24, 85, 117, 130], [0.6249305067727936, 0.899237500173443], 0.04900996412075747)\n",
       " Cluster([24, 125, 130], [0.6178441119039255, 0.8836656663459023], 0.047328742662064174)\n",
       " Cluster([24, 41, 85, 107, 117, 130], [0.6222556564087095, 0.9156364483267622], 0.14077283892854975)\n",
       " Cluster([24, 41, 85, 107, 117, 130], [0.6222556564087095, 0.9156364483267622], 0.14077283892854975)"
      ]
     },
     "metadata": {},
     "output_type": "display_data"
    }
   ],
   "source": [
    "results[\"clusters\"]"
   ]
  },
  {
   "cell_type": "code",
   "execution_count": null,
   "metadata": {},
   "outputs": [],
   "source": []
  },
  {
   "cell_type": "code",
   "execution_count": 20,
   "metadata": {},
   "outputs": [
    {
     "data": {
      "text/plain": [
       "30×2 Matrix{Float64}:\n",
       " 0.0456656  0.204322\n",
       " 0.136156   0.0482153\n",
       " 0.261297   0.130407\n",
       " 0.744175   0.928949\n",
       " 0.428706   0.199755\n",
       " 0.682453   0.861775\n",
       " 0.0        0.226949\n",
       " 0.669085   0.953186\n",
       " 0.563107   0.944327\n",
       " 0.644745   0.986188\n",
       " ⋮          \n",
       " 0.0359376  0.0911983\n",
       " 0.930084   0.870475\n",
       " 0.194442   0.169351\n",
       " 0.0566517  0.146153\n",
       " 0.812399   1.0\n",
       " 0.0905108  0.0\n",
       " 0.59966    0.962612\n",
       " 0.013108   0.0383666\n",
       " 0.149353   0.0567723"
      ]
     },
     "metadata": {},
     "output_type": "display_data"
    }
   ],
   "source": [
    "points = generate_points(2, 30, 2, 1.0)"
   ]
  },
  {
   "cell_type": "code",
   "execution_count": 31,
   "metadata": {},
   "outputs": [],
   "source": [
    "km_results = []\n",
    "cg_results = []\n",
    "for i = 20:130\n",
    "    points = generate_points(2, i, 2, 1.0)\n",
    "    km =  kmeans(points', 2).assignments\n",
    "    clusters = Cluster[]\n",
    "    for k in 1:2\n",
    "        assinments = findall(x->x==k, km); \n",
    "        cost, centroid = compute_cluster_centroid_cost(assinments)\n",
    "        push!(clusters, Cluster(assinments, centroid, cost))\n",
    "    end\n",
    "    push!(km_results, sum([c.cost for c in clusters]))\n",
    "\n",
    "    results = column_generation(points, 2, 20, 10, false)\n",
    "    push!(cg_results, results[\"CGIP_objective\"])\n",
    "end\n"
   ]
  },
  {
   "cell_type": "code",
   "execution_count": 38,
   "metadata": {},
   "outputs": [
    {
     "data": {
      "text/plain": [
       "130×2 Matrix{Float64}:\n",
       " 0.585072   0.817176\n",
       " 0.754872   0.772638\n",
       " 0.120056   0.113891\n",
       " 0.242128   0.165981\n",
       " 0.596541   0.822743\n",
       " 0.0409775  0.133015\n",
       " 0.22623    0.120639\n",
       " 0.254702   0.163359\n",
       " 0.136522   0.142829\n",
       " 0.226157   0.0546716\n",
       " ⋮          \n",
       " 0.107435   0.0453128\n",
       " 0.16426    0.0443024\n",
       " 0.763672   0.880332\n",
       " 0.597545   0.872747\n",
       " 0.680104   0.865126\n",
       " 0.667113   0.924422\n",
       " 0.310586   0.0796744\n",
       " 0.575478   0.93679\n",
       " 0.636876   0.89086"
      ]
     },
     "metadata": {},
     "output_type": "display_data"
    }
   ],
   "source": [
    "points"
   ]
  },
  {
   "cell_type": "code",
   "execution_count": 32,
   "metadata": {},
   "outputs": [
    {
     "data": {
      "text/plain": [
       "8.383042977429199"
      ]
     },
     "metadata": {},
     "output_type": "display_data"
    }
   ],
   "source": [
    "mean(km_results)"
   ]
  },
  {
   "cell_type": "code",
   "execution_count": 33,
   "metadata": {},
   "outputs": [
    {
     "data": {
      "text/plain": [
       "3.0067421764857825"
      ]
     },
     "metadata": {},
     "output_type": "display_data"
    }
   ],
   "source": [
    "mean(cg_results)"
   ]
  },
  {
   "cell_type": "code",
   "execution_count": null,
   "metadata": {},
   "outputs": [],
   "source": []
  }
 ],
 "metadata": {
  "kernelspec": {
   "display_name": "Julia 1.8.2",
   "language": "julia",
   "name": "julia-1.8"
  },
  "language_info": {
   "file_extension": ".jl",
   "mimetype": "application/julia",
   "name": "julia",
   "version": "1.8.2"
  },
  "orig_nbformat": 4
 },
 "nbformat": 4,
 "nbformat_minor": 2
}
